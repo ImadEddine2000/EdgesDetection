{
 "cells": [
  {
   "cell_type": "code",
   "execution_count": 1,
   "id": "dbb6144b-f7b1-46d5-9b58-48c91101a5aa",
   "metadata": {},
   "outputs": [],
   "source": [
    "from Script.Convert2numpy import get_numpy_file, nanClean, nanClean2, convertAndSave\n",
    "import os\n",
    "import shutil"
   ]
  },
  {
   "cell_type": "code",
   "execution_count": 2,
   "id": "76682e92-7e1a-4c65-b944-fb654856efe2",
   "metadata": {},
   "outputs": [],
   "source": [
    "\n",
    "ABC_PATH = os.path.join(\"..\", \"..\", \"ABC\")\n",
    "\n",
    "ABC_PATH_SSM = \"ABC_ssm\"\n",
    "ABC_PATH_GM = \"ABC_gm\"\n",
    "\n",
    "DATA_PATH_F = os.path.join(ABC_PATH, \"Train\")\n",
    "VALIDATION_PATH_F = os.path.join(ABC_PATH, \"Validation\")\n",
    "TEST_PATH_F = os.path.join(ABC_PATH, \"Test\")\n",
    "APPLICATION_PATH_F = os.path.join(ABC_PATH,\"Application\")\n",
    "\n",
    "DATA_PATH_SSM = os.path.join(ABC_PATH_SSM, \"Train\")\n",
    "VALIDATION_PATH_SSM = os.path.join(ABC_PATH_SSM, \"Validation\")\n",
    "TEST_PATH_SSM = os.path.join(ABC_PATH_SSM, \"Test\")\n",
    "APPLICATION_PATH_SSM = os.path.join(ABC_PATH_SSM, \"Application\")\n",
    "\n",
    "DATA_PATH_GM = os.path.join(ABC_PATH_GM, \"Train\")\n",
    "VALIDATION_PATH_GM = os.path.join(ABC_PATH_GM, \"Validation\")\n",
    "TEST_PATH_GM = os.path.join(ABC_PATH_GM, \"Test\")\n",
    "APPLICATION_PATH_GM = os.path.join(ABC_PATH_GM, \"Application\")"
   ]
  },
  {
   "cell_type": "markdown",
   "id": "15f1dbd3-0489-4c52-b3e6-9bec5f1b175e",
   "metadata": {},
   "source": [
    "## Convert to numpy"
   ]
  },
  {
   "cell_type": "code",
   "execution_count": 3,
   "id": "aa8f2385-7416-4cc2-8e89-2a6a2d3325b0",
   "metadata": {},
   "outputs": [
    {
     "name": "stderr",
     "output_type": "stream",
     "text": [
      "100%|████████████████████████████████████████████████████████████████████████████████| 136/136 [08:17<00:00,  3.66s/it]\n",
      "100%|████████████████████████████████████████████████████████████████████████████████| 136/136 [00:59<00:00,  2.30it/s]\n",
      "100%|████████████████████████████████████████████████████████████████████████████████| 137/137 [00:02<00:00, 51.08it/s]\n",
      "100%|████████████████████████████████████████████████████████████████████████████████| 137/137 [00:02<00:00, 63.06it/s]\n",
      "100%|██████████████████████████████████████████████████████████████████████████████████| 10/10 [00:18<00:00,  1.89s/it]\n",
      "100%|██████████████████████████████████████████████████████████████████████████████████| 10/10 [00:02<00:00,  4.52it/s]\n",
      "100%|██████████████████████████████████████████████████████████████████████████████████| 10/10 [00:00<00:00, 85.03it/s]\n",
      "100%|█████████████████████████████████████████████████████████████████████████████████| 10/10 [00:00<00:00, 128.63it/s]\n",
      "100%|██████████████████████████████████████████████████████████████████████████████████| 58/58 [02:56<00:00,  3.04s/it]\n",
      "100%|██████████████████████████████████████████████████████████████████████████████████| 58/58 [00:20<00:00,  2.80it/s]\n",
      "100%|██████████████████████████████████████████████████████████████████████████████████| 58/58 [00:01<00:00, 55.05it/s]\n",
      "100%|██████████████████████████████████████████████████████████████████████████████████| 58/58 [00:00<00:00, 72.49it/s]\n",
      "100%|██████████████████████████████████████████████████████████████████████████████████| 52/52 [02:23<00:00,  2.77s/it]\n",
      "100%|██████████████████████████████████████████████████████████████████████████████████| 52/52 [00:11<00:00,  4.67it/s]\n"
     ]
    }
   ],
   "source": [
    "for data_path in [ABC_PATH_SSM, ABC_PATH_GM]:\n",
    "    if os.path.exists(data_path):\n",
    "        shutil.rmtree(data_path)\n",
    "    os.mkdir(data_path)\n",
    "\n",
    "#Train\n",
    "convertAndSave(DATA_PATH_F, DATA_PATH_SSM, \".ssm\")\n",
    "convertAndSave(DATA_PATH_F, DATA_PATH_GM, \".ply\", start=17)\n",
    "convertAndSave(DATA_PATH_F, DATA_PATH_SSM, \".lb\")\n",
    "convertAndSave(DATA_PATH_F, DATA_PATH_GM, \".lb\")\n",
    "\n",
    "#Validation\n",
    "convertAndSave(VALIDATION_PATH_F, VALIDATION_PATH_SSM, \".ssm\")\n",
    "convertAndSave(VALIDATION_PATH_F, VALIDATION_PATH_GM, \".ply\", start=17)\n",
    "convertAndSave(VALIDATION_PATH_F, VALIDATION_PATH_SSM, \".lb\")\n",
    "convertAndSave(VALIDATION_PATH_F, VALIDATION_PATH_GM, \".lb\")\n",
    "\n",
    "#Test\n",
    "convertAndSave(TEST_PATH_F, TEST_PATH_SSM, \".ssm\")\n",
    "convertAndSave(TEST_PATH_F, TEST_PATH_GM, \".ply\", start=17)\n",
    "convertAndSave(TEST_PATH_F, TEST_PATH_SSM, \".lb\")\n",
    "convertAndSave(TEST_PATH_F, TEST_PATH_GM, \".lb\")\n",
    "\n",
    "\n",
    "#Application\n",
    "convertAndSave(APPLICATION_PATH_F, APPLICATION_PATH_SSM, \".ssm\")\n",
    "convertAndSave(APPLICATION_PATH_F, APPLICATION_PATH_GM, \".ply\")\n"
   ]
  },
  {
   "cell_type": "markdown",
   "id": "bf883de9-a2d7-4f3d-8379-c55f1fa743b0",
   "metadata": {},
   "source": [
    "# Clean"
   ]
  },
  {
   "cell_type": "code",
   "execution_count": 4,
   "id": "44e16164-7b9f-4b6f-a3f5-c2647b5d90c8",
   "metadata": {},
   "outputs": [],
   "source": [
    "#train\n",
    "nanClean(DATA_PATH_SSM, \"_.ssm.npy\")\n",
    "nanClean2(DATA_PATH_GM, \"_.ply.npy\")\n",
    "\n",
    "#Validation\n",
    "nanClean(VALIDATION_PATH_SSM, \"_.ssm.npy\")\n",
    "nanClean2(VALIDATION_PATH_GM, \"_.ply.npy\")\n",
    "\n",
    "#Test\n",
    "nanClean(TEST_PATH_SSM, \"_.ssm.npy\")\n",
    "nanClean2(TEST_PATH_SSM, \"_.ply.npy\")\n"
   ]
  },
  {
   "cell_type": "code",
   "execution_count": null,
   "id": "51b9b31e-7a6b-4d4a-b3d0-fef753d3f83e",
   "metadata": {},
   "outputs": [],
   "source": []
  }
 ],
 "metadata": {
  "kernelspec": {
   "display_name": "Python 3 (ipykernel)",
   "language": "python",
   "name": "python3"
  },
  "language_info": {
   "codemirror_mode": {
    "name": "ipython",
    "version": 3
   },
   "file_extension": ".py",
   "mimetype": "text/x-python",
   "name": "python",
   "nbconvert_exporter": "python",
   "pygments_lexer": "ipython3",
   "version": "3.9.0"
  }
 },
 "nbformat": 4,
 "nbformat_minor": 5
}
