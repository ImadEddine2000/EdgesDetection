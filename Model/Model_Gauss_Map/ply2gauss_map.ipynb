{
 "cells": [
  {
   "cell_type": "code",
   "execution_count": 1,
   "id": "66da63e8-182a-403c-8a14-3de4ad602b43",
   "metadata": {},
   "outputs": [],
   "source": [
    "import numpy as np\n",
    "from Script.Cal_discrete_gauss_map import ply2gauss_map, oversample_class\n",
    "import shutil\n",
    "import os"
   ]
  },
  {
   "cell_type": "code",
   "execution_count": 2,
   "id": "a97c5267-d3e9-4f75-8348-fb49f61e2ade",
   "metadata": {},
   "outputs": [],
   "source": [
    "ABC_PATH = os.path.join(\"..\", \"ABC2\", \"ABC_gm\")\n",
    "DATA_PATH_F = os.path.join(ABC_PATH, \"Train\")\n",
    "VALIDATION_PATH_F = os.path.join(ABC_PATH, \"Validation\")\n",
    "TEST_PATH_F = os.path.join(ABC_PATH, \"Test\")\n",
    "APPLICATION_PATH_F = os.path.join(ABC_PATH,\"Application\")\n",
    "\n",
    "\n",
    "DATA_PATH = os.path.join(\"ABC_gm\", \"Train_gm\")\n",
    "VALIDATION_PATH = os.path.join(\"ABC_gm\", \"Validation_gm\")\n",
    "TEST_PATH = os.path.join(\"ABC_gm\", \"Test_gm\")\n",
    "APPLICATION_PATH = os.path.join(\"ABC_gm\", \"Application_gm\")\n",
    "\n",
    "N_NEIGHBORS = 30"
   ]
  },
  {
   "cell_type": "code",
   "execution_count": 3,
   "id": "3d4819b9-88a1-42de-88f6-96f964841a32",
   "metadata": {
    "scrolled": true
   },
   "outputs": [
    {
     "name": "stderr",
     "output_type": "stream",
     "text": [
      "100%|██████████████████████████████████████████████████████████████████████████████████| 68/68 [19:59<00:00, 17.63s/it]\n",
      "100%|████████████████████████████████████████████████████████████████████████████████████| 5/5 [00:50<00:00, 10.04s/it]\n",
      "100%|██████████████████████████████████████████████████████████████████████████████████| 17/17 [04:37<00:00, 16.33s/it]\n",
      "100%|██████████████████████████████████████████████████████████████████████████████████| 15/15 [04:16<00:00, 17.09s/it]\n"
     ]
    }
   ],
   "source": [
    "for data_path in [DATA_PATH, VALIDATION_PATH, TEST_PATH, APPLICATION_PATH]:\n",
    "    if os.path.exists(data_path):\n",
    "        shutil.rmtree(data_path)\n",
    "    os.mkdir(data_path)\n",
    "\n",
    "# #Train\n",
    "ply2gauss_map(DATA_PATH_F, DATA_PATH, n_neighbors=N_NEIGHBORS, split=0.5)\n",
    "\n",
    "# #Validation\n",
    "ply2gauss_map(VALIDATION_PATH_F, VALIDATION_PATH, n_neighbors=N_NEIGHBORS, split=0.5)\n",
    "\n",
    "# #Test\n",
    "ply2gauss_map(TEST_PATH_F, TEST_PATH, n_neighbors=N_NEIGHBORS, split=0.3)\n",
    "\n",
    "#Application\n",
    "ply2gauss_map(APPLICATION_PATH_F, APPLICATION_PATH, n_neighbors=N_NEIGHBORS, split=0.3, add_lb=False)\n"
   ]
  },
  {
   "cell_type": "code",
   "execution_count": 4,
   "id": "f40afab8-397c-4312-83be-2dd13aa956df",
   "metadata": {},
   "outputs": [
    {
     "name": "stderr",
     "output_type": "stream",
     "text": [
      "100%|██████████████████████████████████████████████████████████████████████████████████| 68/68 [01:00<00:00,  1.13it/s]\n",
      "100%|████████████████████████████████████████████████████████████████████████████████████| 5/5 [00:03<00:00,  1.50it/s]\n",
      "100%|██████████████████████████████████████████████████████████████████████████████████| 17/17 [00:13<00:00,  1.26it/s]\n"
     ]
    }
   ],
   "source": [
    "#Train\n",
    "oversample_class(DATA_PATH,  target_ratio=1)\n",
    "oversample_class(VALIDATION_PATH,  target_ratio=1)\n",
    "oversample_class(TEST_PATH,  target_ratio=1)"
   ]
  },
  {
   "cell_type": "code",
   "execution_count": null,
   "id": "0139fb19-3339-43be-af2e-79db7417919d",
   "metadata": {},
   "outputs": [],
   "source": []
  }
 ],
 "metadata": {
  "kernelspec": {
   "display_name": "Python 3 (ipykernel)",
   "language": "python",
   "name": "python3"
  },
  "language_info": {
   "codemirror_mode": {
    "name": "ipython",
    "version": 3
   },
   "file_extension": ".py",
   "mimetype": "text/x-python",
   "name": "python",
   "nbconvert_exporter": "python",
   "pygments_lexer": "ipython3",
   "version": "3.9.0"
  }
 },
 "nbformat": 4,
 "nbformat_minor": 5
}
