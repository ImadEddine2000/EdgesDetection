{
 "cells": [
  {
   "cell_type": "code",
   "execution_count": 1,
   "id": "ee7a999d",
   "metadata": {},
   "outputs": [],
   "source": [
    "import tensorflow as tf\n",
    "import os\n",
    "from Script.DataGenerator import DataGenerator\n",
    "from Script.Metrics_Evaluation import Evaluation\n",
    "from PCEDNet import PCEDNet, generate_input\n",
    "import matplotlib.pyplot as plt\n",
    "import pandas as pd"
   ]
  },
  {
   "cell_type": "code",
   "execution_count": 2,
   "id": "f8acf308-30e3-456f-8f8b-118c799f4586",
   "metadata": {},
   "outputs": [
    {
     "name": "stdout",
     "output_type": "stream",
     "text": [
      "Running on GPU\n"
     ]
    }
   ],
   "source": [
    "gpus =tf.config.list_physical_devices('GPU')\n",
    "if len(gpus):\n",
    "    print(\"Running on GPU\")\n",
    "    tf.config.set_visible_devices(gpus[0], 'GPU')\n",
    "else :\n",
    "    print(\"Running on CPU\")"
   ]
  },
  {
   "cell_type": "code",
   "execution_count": 3,
   "id": "1a6b54f8",
   "metadata": {},
   "outputs": [],
   "source": [
    "BATCH_SIZE = 16384\n",
    "EPOCH = 50\n",
    "ABC2 = os.path.join(\"..\", \"..\", \"ABC2\", \"ABC_ssm\")\n",
    "DATA_PATH = os.path.join(ABC2, \"Train\")\n",
    "VALIDATION_PATH = os.path.join(ABC2, \"Validation\")\n",
    "TEST_PATH = os.path.join(ABC2, \"Test\")\n",
    "MODEL_PATH = os.path.join(\"Model\", \"PCEDNET\")"
   ]
  },
  {
   "cell_type": "markdown",
   "id": "08690e31",
   "metadata": {},
   "source": [
    "# Load Data"
   ]
  },
  {
   "cell_type": "code",
   "execution_count": 4,
   "id": "62fcc7ff-2432-4340-aa63-b59a12fed868",
   "metadata": {},
   "outputs": [],
   "source": [
    "datagen_train = DataGenerator(DATA_PATH, generate_input, batch_size=BATCH_SIZE, split=1, extension=\"_.ssm.npy\")\n",
    "datagen_validation = DataGenerator(VALIDATION_PATH, generate_input, batch_size=BATCH_SIZE, split=1, extension=\"_.ssm.npy\")"
   ]
  },
  {
   "cell_type": "markdown",
   "id": "cab22062-c0a1-4802-af12-cb112a4d5a96",
   "metadata": {},
   "source": [
    "# Build the model "
   ]
  },
  {
   "cell_type": "code",
   "execution_count": 5,
   "id": "c1627436",
   "metadata": {},
   "outputs": [],
   "source": [
    "model = PCEDNet().build()"
   ]
  },
  {
   "cell_type": "code",
   "execution_count": 6,
   "id": "1be9ebbb",
   "metadata": {},
   "outputs": [
    {
     "name": "stdout",
     "output_type": "stream",
     "text": [
      "Model: \"model\"\n",
      "__________________________________________________________________________________________________\n",
      " Layer (type)                   Output Shape         Param #     Connected to                     \n",
      "==================================================================================================\n",
      " input_1 (InputLayer)           [(None, 6)]          0           []                               \n",
      "                                                                                                  \n",
      " input_2 (InputLayer)           [(None, 6)]          0           []                               \n",
      "                                                                                                  \n",
      " input_3 (InputLayer)           [(None, 6)]          0           []                               \n",
      "                                                                                                  \n",
      " input_4 (InputLayer)           [(None, 6)]          0           []                               \n",
      "                                                                                                  \n",
      " input_5 (InputLayer)           [(None, 6)]          0           []                               \n",
      "                                                                                                  \n",
      " input_6 (InputLayer)           [(None, 6)]          0           []                               \n",
      "                                                                                                  \n",
      " input_7 (InputLayer)           [(None, 6)]          0           []                               \n",
      "                                                                                                  \n",
      " input_8 (InputLayer)           [(None, 6)]          0           []                               \n",
      "                                                                                                  \n",
      " input_9 (InputLayer)           [(None, 6)]          0           []                               \n",
      "                                                                                                  \n",
      " input_10 (InputLayer)          [(None, 6)]          0           []                               \n",
      "                                                                                                  \n",
      " input_11 (InputLayer)          [(None, 6)]          0           []                               \n",
      "                                                                                                  \n",
      " input_12 (InputLayer)          [(None, 6)]          0           []                               \n",
      "                                                                                                  \n",
      " input_13 (InputLayer)          [(None, 6)]          0           []                               \n",
      "                                                                                                  \n",
      " input_14 (InputLayer)          [(None, 6)]          0           []                               \n",
      "                                                                                                  \n",
      " input_15 (InputLayer)          [(None, 6)]          0           []                               \n",
      "                                                                                                  \n",
      " input_16 (InputLayer)          [(None, 6)]          0           []                               \n",
      "                                                                                                  \n",
      " concatenate (Concatenate)      (None, 12)           0           ['input_1[0][0]',                \n",
      "                                                                  'input_2[0][0]']                \n",
      "                                                                                                  \n",
      " concatenate_1 (Concatenate)    (None, 12)           0           ['input_3[0][0]',                \n",
      "                                                                  'input_4[0][0]']                \n",
      "                                                                                                  \n",
      " concatenate_3 (Concatenate)    (None, 12)           0           ['input_5[0][0]',                \n",
      "                                                                  'input_6[0][0]']                \n",
      "                                                                                                  \n",
      " concatenate_4 (Concatenate)    (None, 12)           0           ['input_7[0][0]',                \n",
      "                                                                  'input_8[0][0]']                \n",
      "                                                                                                  \n",
      " concatenate_7 (Concatenate)    (None, 12)           0           ['input_9[0][0]',                \n",
      "                                                                  'input_10[0][0]']               \n",
      "                                                                                                  \n",
      " concatenate_8 (Concatenate)    (None, 12)           0           ['input_11[0][0]',               \n",
      "                                                                  'input_12[0][0]']               \n",
      "                                                                                                  \n",
      " concatenate_10 (Concatenate)   (None, 12)           0           ['input_13[0][0]',               \n",
      "                                                                  'input_14[0][0]']               \n",
      "                                                                                                  \n",
      " concatenate_11 (Concatenate)   (None, 12)           0           ['input_15[0][0]',               \n",
      "                                                                  'input_16[0][0]']               \n",
      "                                                                                                  \n",
      " dense (Dense)                  (None, 6)            78          ['concatenate[0][0]']            \n",
      "                                                                                                  \n",
      " dense_1 (Dense)                (None, 6)            78          ['concatenate_1[0][0]']          \n",
      "                                                                                                  \n",
      " dense_3 (Dense)                (None, 6)            78          ['concatenate_3[0][0]']          \n",
      "                                                                                                  \n",
      " dense_4 (Dense)                (None, 6)            78          ['concatenate_4[0][0]']          \n",
      "                                                                                                  \n",
      " dense_7 (Dense)                (None, 6)            78          ['concatenate_7[0][0]']          \n",
      "                                                                                                  \n",
      " dense_8 (Dense)                (None, 6)            78          ['concatenate_8[0][0]']          \n",
      "                                                                                                  \n",
      " dense_10 (Dense)               (None, 6)            78          ['concatenate_10[0][0]']         \n",
      "                                                                                                  \n",
      " dense_11 (Dense)               (None, 6)            78          ['concatenate_11[0][0]']         \n",
      "                                                                                                  \n",
      " concatenate_2 (Concatenate)    (None, 12)           0           ['dense[0][0]',                  \n",
      "                                                                  'dense_1[0][0]']                \n",
      "                                                                                                  \n",
      " concatenate_5 (Concatenate)    (None, 12)           0           ['dense_3[0][0]',                \n",
      "                                                                  'dense_4[0][0]']                \n",
      "                                                                                                  \n",
      " concatenate_9 (Concatenate)    (None, 12)           0           ['dense_7[0][0]',                \n",
      "                                                                  'dense_8[0][0]']                \n",
      "                                                                                                  \n",
      " concatenate_12 (Concatenate)   (None, 12)           0           ['dense_10[0][0]',               \n",
      "                                                                  'dense_11[0][0]']               \n",
      "                                                                                                  \n",
      " dense_2 (Dense)                (None, 6)            78          ['concatenate_2[0][0]']          \n",
      "                                                                                                  \n",
      " dense_5 (Dense)                (None, 6)            78          ['concatenate_5[0][0]']          \n",
      "                                                                                                  \n",
      " dense_9 (Dense)                (None, 6)            78          ['concatenate_9[0][0]']          \n",
      "                                                                                                  \n",
      " dense_12 (Dense)               (None, 6)            78          ['concatenate_12[0][0]']         \n",
      "                                                                                                  \n",
      " concatenate_6 (Concatenate)    (None, 12)           0           ['dense_2[0][0]',                \n",
      "                                                                  'dense_5[0][0]']                \n",
      "                                                                                                  \n",
      " concatenate_13 (Concatenate)   (None, 12)           0           ['dense_9[0][0]',                \n",
      "                                                                  'dense_12[0][0]']               \n",
      "                                                                                                  \n",
      " dense_6 (Dense)                (None, 6)            78          ['concatenate_6[0][0]']          \n",
      "                                                                                                  \n",
      " dense_13 (Dense)               (None, 6)            78          ['concatenate_13[0][0]']         \n",
      "                                                                                                  \n",
      " concatenate_14 (Concatenate)   (None, 12)           0           ['dense_6[0][0]',                \n",
      "                                                                  'dense_13[0][0]']               \n",
      "                                                                                                  \n",
      " dense_14 (Dense)               (None, 16)           208         ['concatenate_14[0][0]']         \n",
      "                                                                                                  \n",
      " batch_normalization (BatchNorm  (None, 16)          64          ['dense_14[0][0]']               \n",
      " alization)                                                                                       \n",
      "                                                                                                  \n",
      " dense_15 (Dense)               (None, 16)           272         ['batch_normalization[0][0]']    \n",
      "                                                                                                  \n",
      " batch_normalization_1 (BatchNo  (None, 16)          64          ['dense_15[0][0]']               \n",
      " rmalization)                                                                                     \n",
      "                                                                                                  \n",
      " dense_16 (Dense)               (None, 1)            17          ['batch_normalization_1[0][0]']  \n",
      "                                                                                                  \n",
      "==================================================================================================\n",
      "Total params: 1,717\n",
      "Trainable params: 1,653\n",
      "Non-trainable params: 64\n",
      "__________________________________________________________________________________________________\n"
     ]
    }
   ],
   "source": [
    "model.summary()"
   ]
  },
  {
   "cell_type": "code",
   "execution_count": 7,
   "id": "ad9630d5-6c5a-4d14-b4d2-ca8f464f49ea",
   "metadata": {},
   "outputs": [
    {
     "data": {
      "image/png": "[encoded data removed]",
      "text/plain": [
       "<IPython.core.display.Image object>"
      ]
     },
     "execution_count": 7,
     "metadata": {},
     "output_type": "execute_result"
    }
   ],
   "source": [
    "tf.keras.utils.plot_model(model, to_file=os.path.join(\"result\", \"model_PCEDNet.png\"), show_layer_names=False,  show_shapes=True)"
   ]
  },
  {
   "cell_type": "markdown",
   "id": "ee02d3a6-6a05-49a7-bfa7-08ac39034d79",
   "metadata": {},
   "source": [
    "# compile  the model "
   ]
  },
  {
   "cell_type": "code",
   "execution_count": 8,
   "id": "3c969816-2a92-4ee9-b6fb-5344ee5e8ddb",
   "metadata": {},
   "outputs": [],
   "source": [
    "metrics = [\"accuracy\", tf.keras.metrics.Precision(thresholds=0.5), tf.keras.metrics.Recall(thresholds=0.5)]"
   ]
  },
  {
   "cell_type": "code",
   "execution_count": 9,
   "id": "298ff86a",
   "metadata": {},
   "outputs": [],
   "source": [
    "model.compile(optimizer=tf.keras.optimizers.Adam(), loss=tf.keras.losses.binary_crossentropy, metrics=metrics)"
   ]
  },
  {
   "cell_type": "markdown",
   "id": "adbf25d2",
   "metadata": {},
   "source": [
    "# Train"
   ]
  },
  {
   "cell_type": "code",
   "execution_count": 10,
   "id": "52102de8",
   "metadata": {
    "scrolled": true
   },
   "outputs": [
    {
     "name": "stdout",
     "output_type": "stream",
     "text": [
      "Epoch 1/50\n",
      "235/235 [==============================] - 4s 13ms/step - loss: 0.5046 - accuracy: 0.8130 - precision: 0.2750 - recall: 0.4316 - val_loss: 0.3271 - val_accuracy: 0.9283 - val_precision: 0.5885 - val_recall: 0.1852 - lr: 0.0010\n",
      "Epoch 2/50\n",
      "235/235 [==============================] - 3s 13ms/step - loss: 0.3405 - accuracy: 0.8860 - precision: 0.6092 - recall: 0.1917 - val_loss: 0.2119 - val_accuracy: 0.9271 - val_precision: 0.6599 - val_recall: 0.2357 - lr: 0.0010\n",
      "Epoch 3/50\n",
      "235/235 [==============================] - 3s 14ms/step - loss: 0.3172 - accuracy: 0.8933 - precision: 0.7252 - recall: 0.2115 - val_loss: 0.2198 - val_accuracy: 0.9436 - val_precision: 0.8425 - val_recall: 0.5542 - lr: 0.0010\n",
      "Epoch 4/50\n",
      "235/235 [==============================] - 3s 14ms/step - loss: 0.2868 - accuracy: 0.9041 - precision: 0.7533 - recall: 0.2420 - val_loss: 0.1809 - val_accuracy: 0.9581 - val_precision: 0.9607 - val_recall: 0.5398 - lr: 0.0010\n",
      "Epoch 5/50\n",
      "235/235 [==============================] - 3s 13ms/step - loss: 0.2677 - accuracy: 0.9125 - precision: 0.8302 - recall: 0.3483 - val_loss: 0.1665 - val_accuracy: 0.9572 - val_precision: 0.8687 - val_recall: 0.5872 - lr: 0.0010\n",
      "Epoch 6/50\n",
      "235/235 [==============================] - 3s 13ms/step - loss: 0.2295 - accuracy: 0.9279 - precision: 0.8409 - recall: 0.4048 - val_loss: 0.1278 - val_accuracy: 0.9691 - val_precision: 0.9889 - val_recall: 0.6001 - lr: 0.0010\n",
      "Epoch 7/50\n",
      "235/235 [==============================] - 3s 14ms/step - loss: 0.2362 - accuracy: 0.9228 - precision: 0.8718 - recall: 0.3978 - val_loss: 0.1352 - val_accuracy: 0.9665 - val_precision: 0.8947 - val_recall: 0.6476 - lr: 0.0010\n",
      "Epoch 8/50\n",
      "235/235 [==============================] - 3s 14ms/step - loss: 0.2375 - accuracy: 0.9221 - precision: 0.8659 - recall: 0.4218 - val_loss: 0.1350 - val_accuracy: 0.9613 - val_precision: 0.8934 - val_recall: 0.6443 - lr: 0.0010\n",
      "Epoch 9/50\n",
      "235/235 [==============================] - 3s 13ms/step - loss: 0.2108 - accuracy: 0.9330 - precision: 0.8635 - recall: 0.4329 - val_loss: 0.1034 - val_accuracy: 0.9748 - val_precision: 0.9278 - val_recall: 0.7278 - lr: 0.0010\n",
      "Epoch 10/50\n",
      "235/235 [==============================] - 3s 14ms/step - loss: 0.2230 - accuracy: 0.9288 - precision: 0.8801 - recall: 0.4261 - val_loss: 0.1390 - val_accuracy: 0.9608 - val_precision: 0.8179 - val_recall: 0.6457 - lr: 0.0010\n",
      "Epoch 11/50\n",
      "235/235 [==============================] - 3s 14ms/step - loss: 0.2120 - accuracy: 0.9323 - precision: 0.8725 - recall: 0.4598 - val_loss: 0.1450 - val_accuracy: 0.9607 - val_precision: 0.8667 - val_recall: 0.6858 - lr: 0.0010\n",
      "Epoch 12/50\n",
      "235/235 [==============================] - 3s 14ms/step - loss: 0.2149 - accuracy: 0.9314 - precision: 0.8924 - recall: 0.4575 - val_loss: 0.1002 - val_accuracy: 0.9691 - val_precision: 0.8764 - val_recall: 0.6519 - lr: 0.0010\n",
      "Epoch 13/50\n",
      "235/235 [==============================] - 3s 14ms/step - loss: 0.2105 - accuracy: 0.9337 - precision: 0.8779 - recall: 0.4868 - val_loss: 0.1487 - val_accuracy: 0.9470 - val_precision: 0.7628 - val_recall: 0.6637 - lr: 0.0010\n",
      "Epoch 14/50\n",
      "235/235 [==============================] - 3s 14ms/step - loss: 0.1972 - accuracy: 0.9380 - precision: 0.8847 - recall: 0.5137 - val_loss: 0.0907 - val_accuracy: 0.9736 - val_precision: 0.9822 - val_recall: 0.6296 - lr: 0.0010\n",
      "Epoch 15/50\n",
      "235/235 [==============================] - 3s 14ms/step - loss: 0.2076 - accuracy: 0.9356 - precision: 0.8884 - recall: 0.4911 - val_loss: 0.1193 - val_accuracy: 0.9602 - val_precision: 0.9058 - val_recall: 0.6905 - lr: 0.0010\n",
      "Epoch 16/50\n",
      "235/235 [==============================] - 3s 13ms/step - loss: 0.1990 - accuracy: 0.9407 - precision: 0.9019 - recall: 0.5212 - val_loss: 0.1583 - val_accuracy: 0.9485 - val_precision: 0.8426 - val_recall: 0.6268 - lr: 0.0010\n",
      "Epoch 17/50\n",
      "235/235 [==============================] - 3s 13ms/step - loss: 0.1849 - accuracy: 0.9437 - precision: 0.8932 - recall: 0.5328 - val_loss: 0.0990 - val_accuracy: 0.9726 - val_precision: 0.9330 - val_recall: 0.6359 - lr: 0.0010\n",
      "Epoch 18/50\n",
      "235/235 [==============================] - 3s 13ms/step - loss: 0.1957 - accuracy: 0.9405 - precision: 0.8925 - recall: 0.5665 - val_loss: 0.0974 - val_accuracy: 0.9722 - val_precision: 0.9778 - val_recall: 0.6526 - lr: 0.0010\n",
      "Epoch 19/50\n",
      "235/235 [==============================] - 3s 14ms/step - loss: 0.2269 - accuracy: 0.9300 - precision: 0.9003 - recall: 0.4429 - val_loss: 0.1478 - val_accuracy: 0.9504 - val_precision: 0.7059 - val_recall: 0.6561 - lr: 0.0010\n",
      "Epoch 20/50\n",
      "235/235 [==============================] - 3s 14ms/step - loss: 0.1586 - accuracy: 0.9503 - precision: 0.8874 - recall: 0.6304 - val_loss: 0.1385 - val_accuracy: 0.9494 - val_precision: 0.8322 - val_recall: 0.6553 - lr: 0.0010\n",
      "Epoch 21/50\n",
      "235/235 [==============================] - 3s 14ms/step - loss: 0.1900 - accuracy: 0.9413 - precision: 0.9000 - recall: 0.5493 - val_loss: 0.1374 - val_accuracy: 0.9484 - val_precision: 0.7437 - val_recall: 0.6829 - lr: 0.0010\n",
      "Epoch 22/50\n",
      "235/235 [==============================] - 3s 14ms/step - loss: 0.2237 - accuracy: 0.9307 - precision: 0.9022 - recall: 0.4624 - val_loss: 0.1135 - val_accuracy: 0.9602 - val_precision: 0.8741 - val_recall: 0.7023 - lr: 0.0010\n",
      "Epoch 23/50\n",
      "235/235 [==============================] - 3s 14ms/step - loss: 0.1562 - accuracy: 0.9522 - precision: 0.9057 - recall: 0.6539 - val_loss: 0.0850 - val_accuracy: 0.9722 - val_precision: 0.9735 - val_recall: 0.7336 - lr: 0.0010\n",
      "Epoch 24/50\n",
      "235/235 [==============================] - 3s 14ms/step - loss: 0.1807 - accuracy: 0.9440 - precision: 0.9031 - recall: 0.5629 - val_loss: 0.0865 - val_accuracy: 0.9753 - val_precision: 0.9778 - val_recall: 0.6394 - lr: 0.0010\n",
      "Epoch 25/50\n",
      "235/235 [==============================] - 3s 14ms/step - loss: 0.1737 - accuracy: 0.9472 - precision: 0.9085 - recall: 0.6171 - val_loss: 0.1005 - val_accuracy: 0.9614 - val_precision: 0.8789 - val_recall: 0.6723 - lr: 0.0010\n",
      "Epoch 26/50\n",
      "235/235 [==============================] - 3s 14ms/step - loss: 0.1651 - accuracy: 0.9492 - precision: 0.9078 - recall: 0.6114 - val_loss: 0.1105 - val_accuracy: 0.9569 - val_precision: 0.7809 - val_recall: 0.7119 - lr: 0.0010\n",
      "Epoch 27/50\n",
      "235/235 [==============================] - 3s 14ms/step - loss: 0.1715 - accuracy: 0.9497 - precision: 0.9043 - recall: 0.6172 - val_loss: 0.0996 - val_accuracy: 0.9736 - val_precision: 0.9290 - val_recall: 0.6854 - lr: 0.0010\n",
      "Epoch 28/50\n",
      "235/235 [==============================] - 3s 13ms/step - loss: 0.1465 - accuracy: 0.9567 - precision: 0.9106 - recall: 0.6856 - val_loss: 0.1214 - val_accuracy: 0.9565 - val_precision: 0.7650 - val_recall: 0.6528 - lr: 0.0010\n",
      "Epoch 29/50\n",
      "235/235 [==============================] - 3s 13ms/step - loss: 0.1850 - accuracy: 0.9437 - precision: 0.9067 - recall: 0.6097 - val_loss: 0.1006 - val_accuracy: 0.9680 - val_precision: 0.8967 - val_recall: 0.6933 - lr: 0.0010\n",
      "Epoch 30/50\n",
      "235/235 [==============================] - 3s 13ms/step - loss: 0.1405 - accuracy: 0.9600 - precision: 0.9111 - recall: 0.6978 - val_loss: 0.0803 - val_accuracy: 0.9768 - val_precision: 0.8947 - val_recall: 0.8415 - lr: 0.0010\n",
      "Epoch 31/50\n",
      "235/235 [==============================] - 3s 14ms/step - loss: 0.1724 - accuracy: 0.9460 - precision: 0.8910 - recall: 0.5958 - val_loss: 0.0949 - val_accuracy: 0.9692 - val_precision: 0.8451 - val_recall: 0.6481 - lr: 0.0010\n",
      "Epoch 32/50\n",
      "235/235 [==============================] - 3s 13ms/step - loss: 0.1896 - accuracy: 0.9421 - precision: 0.8911 - recall: 0.5815 - val_loss: 0.1489 - val_accuracy: 0.9475 - val_precision: 0.7383 - val_recall: 0.6379 - lr: 0.0010\n",
      "Epoch 33/50\n",
      "235/235 [==============================] - 3s 13ms/step - loss: 0.1845 - accuracy: 0.9470 - precision: 0.9196 - recall: 0.5830 - val_loss: 0.0814 - val_accuracy: 0.9716 - val_precision: 0.9672 - val_recall: 0.6415 - lr: 0.0010\n",
      "Epoch 34/50\n",
      "235/235 [==============================] - 3s 14ms/step - loss: 0.1795 - accuracy: 0.9455 - precision: 0.9113 - recall: 0.6080 - val_loss: 0.0741 - val_accuracy: 0.9734 - val_precision: 0.9584 - val_recall: 0.7109 - lr: 0.0010\n",
      "Epoch 35/50\n",
      "235/235 [==============================] - 3s 13ms/step - loss: 0.1709 - accuracy: 0.9496 - precision: 0.9100 - recall: 0.6148 - val_loss: 0.0743 - val_accuracy: 0.9748 - val_precision: 0.9613 - val_recall: 0.6896 - lr: 0.0010\n",
      "Epoch 36/50\n",
      "235/235 [==============================] - 3s 14ms/step - loss: 0.1744 - accuracy: 0.9489 - precision: 0.9244 - recall: 0.6046 - val_loss: 0.0832 - val_accuracy: 0.9768 - val_precision: 0.8737 - val_recall: 0.7993 - lr: 0.0010\n",
      "Epoch 37/50\n",
      "235/235 [==============================] - 3s 14ms/step - loss: 0.2246 - accuracy: 0.9324 - precision: 0.8928 - recall: 0.4732 - val_loss: 0.1207 - val_accuracy: 0.9583 - val_precision: 0.7903 - val_recall: 0.6487 - lr: 0.0010\n",
      "Epoch 38/50\n",
      "235/235 [==============================] - 3s 13ms/step - loss: 0.1566 - accuracy: 0.9524 - precision: 0.9052 - recall: 0.6406 - val_loss: 0.0744 - val_accuracy: 0.9750 - val_precision: 0.9522 - val_recall: 0.7008 - lr: 0.0010\n",
      "Epoch 39/50\n",
      "235/235 [==============================] - 3s 14ms/step - loss: 0.1670 - accuracy: 0.9500 - precision: 0.9071 - recall: 0.6095 - val_loss: 0.0858 - val_accuracy: 0.9709 - val_precision: 0.9762 - val_recall: 0.7134 - lr: 0.0010\n",
      "Epoch 40/50\n",
      "235/235 [==============================] - 3s 13ms/step - loss: 0.1758 - accuracy: 0.9503 - precision: 0.9213 - recall: 0.6221 - val_loss: 0.0932 - val_accuracy: 0.9684 - val_precision: 0.9217 - val_recall: 0.6646 - lr: 0.0010\n",
      "Epoch 41/50\n",
      "235/235 [==============================] - 3s 14ms/step - loss: 0.1990 - accuracy: 0.9397 - precision: 0.9169 - recall: 0.5635 - val_loss: 0.1194 - val_accuracy: 0.9578 - val_precision: 0.8750 - val_recall: 0.6586 - lr: 0.0010\n",
      "Epoch 42/50\n",
      "235/235 [==============================] - 3s 13ms/step - loss: 0.1649 - accuracy: 0.9480 - precision: 0.9053 - recall: 0.6165 - val_loss: 0.1217 - val_accuracy: 0.9599 - val_precision: 0.8747 - val_recall: 0.6237 - lr: 0.0010\n",
      "Epoch 43/50\n",
      "235/235 [==============================] - 3s 13ms/step - loss: 0.1713 - accuracy: 0.9499 - precision: 0.9157 - recall: 0.6087 - val_loss: 0.0886 - val_accuracy: 0.9724 - val_precision: 0.9647 - val_recall: 0.6622 - lr: 0.0010\n",
      "Epoch 44/50\n",
      "235/235 [==============================] - 3s 13ms/step - loss: 0.1685 - accuracy: 0.9492 - precision: 0.9204 - recall: 0.6130 - val_loss: 0.1022 - val_accuracy: 0.9645 - val_precision: 0.8913 - val_recall: 0.6630 - lr: 0.0010\n",
      "Epoch 45/50\n",
      "235/235 [==============================] - 3s 13ms/step - loss: 0.1699 - accuracy: 0.9490 - precision: 0.9089 - recall: 0.6042 - val_loss: 0.0704 - val_accuracy: 0.9749 - val_precision: 0.9562 - val_recall: 0.7269 - lr: 1.6573e-05\n",
      "Epoch 46/50\n",
      "235/235 [==============================] - 3s 13ms/step - loss: 0.1454 - accuracy: 0.9566 - precision: 0.9014 - recall: 0.6898 - val_loss: 0.0811 - val_accuracy: 0.9725 - val_precision: 0.8365 - val_recall: 0.6938 - lr: 1.6573e-05\n",
      "Epoch 47/50\n",
      "235/235 [==============================] - 3s 13ms/step - loss: 0.1513 - accuracy: 0.9511 - precision: 0.8984 - recall: 0.6312 - val_loss: 0.0961 - val_accuracy: 0.9649 - val_precision: 0.9213 - val_recall: 0.6897 - lr: 1.6573e-05\n",
      "Epoch 48/50\n",
      "235/235 [==============================] - 3s 14ms/step - loss: 0.1488 - accuracy: 0.9527 - precision: 0.9226 - recall: 0.6464 - val_loss: 0.0793 - val_accuracy: 0.9733 - val_precision: 0.9844 - val_recall: 0.6993 - lr: 1.6573e-05\n",
      "Epoch 49/50\n",
      "235/235 [==============================] - 3s 13ms/step - loss: 0.1572 - accuracy: 0.9511 - precision: 0.9104 - recall: 0.6473 - val_loss: 0.0713 - val_accuracy: 0.9721 - val_precision: 0.9738 - val_recall: 0.7290 - lr: 1.6573e-05\n",
      "Epoch 50/50\n",
      "235/235 [==============================] - 3s 13ms/step - loss: 0.1239 - accuracy: 0.9618 - precision: 0.9062 - recall: 0.7340 - val_loss: 0.0797 - val_accuracy: 0.9742 - val_precision: 0.9018 - val_recall: 0.7939 - lr: 1.6573e-05\n",
      "CPU times: total: 4min 54s\n",
      "Wall time: 2min 41s\n"
     ]
    }
   ],
   "source": [
    "%%time\n",
    "hist = model.fit(datagen_train, validation_data=datagen_validation, epochs=EPOCH,\n",
    "         callbacks= [tf.keras.callbacks.ReduceLROnPlateau(factor=tf.math.exp(-4.1), patience=int(EPOCH*2/10), min_lr=0.0000001)])"
   ]
  },
  {
   "cell_type": "code",
   "execution_count": 11,
   "id": "e30ddcea",
   "metadata": {},
   "outputs": [
    {
     "data": {
      "text/plain": [
       "<Figure size 1000x500 with 0 Axes>"
      ]
     },
     "metadata": {},
     "output_type": "display_data"
    },
    {
     "data": {
      "image/png": "[encoded data removed]",
      "text/plain": [
       "<Figure size 640x480 with 1 Axes>"
      ]
     },
     "metadata": {},
     "output_type": "display_data"
    }
   ],
   "source": [
    "history_df = pd.DataFrame(hist.history)\n",
    "plt.figure(figsize=(10, 5))\n",
    "history_df[['loss', 'accuracy', 'precision', 'recall', 'lr']].plot()\n",
    "plt.title('Training Loss and metrics')\n",
    "plt.xlabel('Epoch')\n",
    "plt.ylabel('Value')\n",
    "plt.legend(loc='upper right')\n",
    "plt.savefig(os.path.join(\"result\", \"model_PCEDNet_plot.png\"))\n",
    "plt.show()"
   ]
  },
  {
   "cell_type": "markdown",
   "id": "46378423",
   "metadata": {},
   "source": [
    "# Evaluation"
   ]
  },
  {
   "cell_type": "code",
   "execution_count": 12,
   "id": "3bf2f0c7-9855-4221-badc-d3b90e4bf1bd",
   "metadata": {},
   "outputs": [],
   "source": [
    "datagen_test = DataGenerator(TEST_PATH, generate_input, batch_size=BATCH_SIZE, split=1, extension=\"_.ssm.npy\")"
   ]
  },
  {
   "cell_type": "code",
   "execution_count": 13,
   "id": "dae34cc3",
   "metadata": {
    "scrolled": true
   },
   "outputs": [
    {
     "name": "stdout",
     "output_type": "stream",
     "text": [
      "Running on GPU\n"
     ]
    },
    {
     "name": "stderr",
     "output_type": "stream",
     "text": [
      "  0%|                                                                                           | 0/88 [00:00<?, ?it/s]"
     ]
    },
    {
     "name": "stdout",
     "output_type": "stream",
     "text": [
      "512/512 [==============================] - 2s 4ms/step\n"
     ]
    },
    {
     "name": "stderr",
     "output_type": "stream",
     "text": [
      "  1%|▉                                                                                  | 1/88 [00:02<03:46,  2.60s/it]"
     ]
    },
    {
     "name": "stdout",
     "output_type": "stream",
     "text": [
      "512/512 [==============================] - 2s 4ms/step\n"
     ]
    },
    {
     "name": "stderr",
     "output_type": "stream",
     "text": [
      "  2%|█▉                                                                                 | 2/88 [00:04<03:31,  2.46s/it]"
     ]
    },
    {
     "name": "stdout",
     "output_type": "stream",
     "text": [
      "512/512 [==============================] - 2s 4ms/step\n"
     ]
    },
    {
     "name": "stderr",
     "output_type": "stream",
     "text": [
      "  3%|██▊                                                                                | 3/88 [00:07<03:24,  2.40s/it]"
     ]
    },
    {
     "name": "stdout",
     "output_type": "stream",
     "text": [
      "512/512 [==============================] - 2s 4ms/step\n"
     ]
    },
    {
     "name": "stderr",
     "output_type": "stream",
     "text": [
      "  5%|███▊                                                                               | 4/88 [00:09<03:19,  2.38s/it]"
     ]
    },
    {
     "name": "stdout",
     "output_type": "stream",
     "text": [
      "512/512 [==============================] - 2s 4ms/step\n"
     ]
    },
    {
     "name": "stderr",
     "output_type": "stream",
     "text": [
      "  6%|████▋                                                                              | 5/88 [00:11<03:16,  2.36s/it]"
     ]
    },
    {
     "name": "stdout",
     "output_type": "stream",
     "text": [
      "512/512 [==============================] - 2s 4ms/step\n"
     ]
    },
    {
     "name": "stderr",
     "output_type": "stream",
     "text": [
      "  7%|█████▋                                                                             | 6/88 [00:14<03:12,  2.35s/it]"
     ]
    },
    {
     "name": "stdout",
     "output_type": "stream",
     "text": [
      "512/512 [==============================] - 2s 4ms/step\n"
     ]
    },
    {
     "name": "stderr",
     "output_type": "stream",
     "text": [
      "  8%|██████▌                                                                            | 7/88 [00:16<03:10,  2.35s/it]"
     ]
    },
    {
     "name": "stdout",
     "output_type": "stream",
     "text": [
      "512/512 [==============================] - 2s 4ms/step\n"
     ]
    },
    {
     "name": "stderr",
     "output_type": "stream",
     "text": [
      "  9%|███████▌                                                                           | 8/88 [00:18<03:07,  2.34s/it]"
     ]
    },
    {
     "name": "stdout",
     "output_type": "stream",
     "text": [
      "512/512 [==============================] - 2s 4ms/step\n"
     ]
    },
    {
     "name": "stderr",
     "output_type": "stream",
     "text": [
      " 10%|████████▍                                                                          | 9/88 [00:21<03:04,  2.34s/it]"
     ]
    },
    {
     "name": "stdout",
     "output_type": "stream",
     "text": [
      "512/512 [==============================] - 2s 4ms/step\n"
     ]
    },
    {
     "name": "stderr",
     "output_type": "stream",
     "text": [
      " 11%|█████████▎                                                                        | 10/88 [00:23<03:02,  2.34s/it]"
     ]
    },
    {
     "name": "stdout",
     "output_type": "stream",
     "text": [
      "512/512 [==============================] - 2s 4ms/step\n"
     ]
    },
    {
     "name": "stderr",
     "output_type": "stream",
     "text": [
      " 12%|██████████▎                                                                       | 11/88 [00:26<03:00,  2.35s/it]"
     ]
    },
    {
     "name": "stdout",
     "output_type": "stream",
     "text": [
      "512/512 [==============================] - 2s 4ms/step\n"
     ]
    },
    {
     "name": "stderr",
     "output_type": "stream",
     "text": [
      " 14%|███████████▏                                                                      | 12/88 [00:28<02:58,  2.35s/it]"
     ]
    },
    {
     "name": "stdout",
     "output_type": "stream",
     "text": [
      "512/512 [==============================] - 2s 4ms/step\n"
     ]
    },
    {
     "name": "stderr",
     "output_type": "stream",
     "text": [
      " 15%|████████████                                                                      | 13/88 [00:30<02:56,  2.35s/it]"
     ]
    },
    {
     "name": "stdout",
     "output_type": "stream",
     "text": [
      "512/512 [==============================] - 2s 4ms/step\n"
     ]
    },
    {
     "name": "stderr",
     "output_type": "stream",
     "text": [
      " 16%|█████████████                                                                     | 14/88 [00:33<02:54,  2.36s/it]"
     ]
    },
    {
     "name": "stdout",
     "output_type": "stream",
     "text": [
      "512/512 [==============================] - 2s 4ms/step\n"
     ]
    },
    {
     "name": "stderr",
     "output_type": "stream",
     "text": [
      " 17%|█████████████▉                                                                    | 15/88 [00:35<02:52,  2.37s/it]"
     ]
    },
    {
     "name": "stdout",
     "output_type": "stream",
     "text": [
      "512/512 [==============================] - 2s 4ms/step\n"
     ]
    },
    {
     "name": "stderr",
     "output_type": "stream",
     "text": [
      " 18%|██████████████▉                                                                   | 16/88 [00:37<02:50,  2.36s/it]"
     ]
    },
    {
     "name": "stdout",
     "output_type": "stream",
     "text": [
      "512/512 [==============================] - 2s 4ms/step\n"
     ]
    },
    {
     "name": "stderr",
     "output_type": "stream",
     "text": [
      " 19%|███████████████▊                                                                  | 17/88 [00:40<02:48,  2.37s/it]"
     ]
    },
    {
     "name": "stdout",
     "output_type": "stream",
     "text": [
      "512/512 [==============================] - 2s 4ms/step\n"
     ]
    },
    {
     "name": "stderr",
     "output_type": "stream",
     "text": [
      " 20%|████████████████▊                                                                 | 18/88 [00:42<02:46,  2.38s/it]"
     ]
    },
    {
     "name": "stdout",
     "output_type": "stream",
     "text": [
      "512/512 [==============================] - 2s 4ms/step\n"
     ]
    },
    {
     "name": "stderr",
     "output_type": "stream",
     "text": [
      " 22%|█████████████████▋                                                                | 19/88 [00:44<02:43,  2.37s/it]"
     ]
    },
    {
     "name": "stdout",
     "output_type": "stream",
     "text": [
      "512/512 [==============================] - 2s 4ms/step\n"
     ]
    },
    {
     "name": "stderr",
     "output_type": "stream",
     "text": [
      " 23%|██████████████████▋                                                               | 20/88 [00:47<02:41,  2.37s/it]"
     ]
    },
    {
     "name": "stdout",
     "output_type": "stream",
     "text": [
      "512/512 [==============================] - 2s 4ms/step\n"
     ]
    },
    {
     "name": "stderr",
     "output_type": "stream",
     "text": [
      " 24%|███████████████████▌                                                              | 21/88 [00:49<02:38,  2.37s/it]"
     ]
    },
    {
     "name": "stdout",
     "output_type": "stream",
     "text": [
      "512/512 [==============================] - 2s 4ms/step\n"
     ]
    },
    {
     "name": "stderr",
     "output_type": "stream",
     "text": [
      " 25%|████████████████████▌                                                             | 22/88 [00:52<02:35,  2.36s/it]"
     ]
    },
    {
     "name": "stdout",
     "output_type": "stream",
     "text": [
      "512/512 [==============================] - 2s 4ms/step\n"
     ]
    },
    {
     "name": "stderr",
     "output_type": "stream",
     "text": [
      " 26%|█████████████████████▍                                                            | 23/88 [00:54<02:33,  2.36s/it]"
     ]
    },
    {
     "name": "stdout",
     "output_type": "stream",
     "text": [
      "512/512 [==============================] - 2s 4ms/step\n"
     ]
    },
    {
     "name": "stderr",
     "output_type": "stream",
     "text": [
      " 27%|██████████████████████▎                                                           | 24/88 [00:56<02:30,  2.35s/it]"
     ]
    },
    {
     "name": "stdout",
     "output_type": "stream",
     "text": [
      "512/512 [==============================] - 2s 4ms/step\n"
     ]
    },
    {
     "name": "stderr",
     "output_type": "stream",
     "text": [
      " 28%|███████████████████████▎                                                          | 25/88 [00:59<02:27,  2.34s/it]"
     ]
    },
    {
     "name": "stdout",
     "output_type": "stream",
     "text": [
      "512/512 [==============================] - 2s 4ms/step\n"
     ]
    },
    {
     "name": "stderr",
     "output_type": "stream",
     "text": [
      " 30%|████████████████████████▏                                                         | 26/88 [01:01<02:24,  2.33s/it]"
     ]
    },
    {
     "name": "stdout",
     "output_type": "stream",
     "text": [
      "512/512 [==============================] - 2s 4ms/step\n"
     ]
    },
    {
     "name": "stderr",
     "output_type": "stream",
     "text": [
      " 31%|█████████████████████████▏                                                        | 27/88 [01:03<02:22,  2.33s/it]"
     ]
    },
    {
     "name": "stdout",
     "output_type": "stream",
     "text": [
      "512/512 [==============================] - 2s 4ms/step\n"
     ]
    },
    {
     "name": "stderr",
     "output_type": "stream",
     "text": [
      " 32%|██████████████████████████                                                        | 28/88 [01:06<02:19,  2.33s/it]"
     ]
    },
    {
     "name": "stdout",
     "output_type": "stream",
     "text": [
      "512/512 [==============================] - 2s 4ms/step\n"
     ]
    },
    {
     "name": "stderr",
     "output_type": "stream",
     "text": [
      " 33%|███████████████████████████                                                       | 29/88 [01:08<02:17,  2.33s/it]"
     ]
    },
    {
     "name": "stdout",
     "output_type": "stream",
     "text": [
      "512/512 [==============================] - 2s 4ms/step\n"
     ]
    },
    {
     "name": "stderr",
     "output_type": "stream",
     "text": [
      " 34%|███████████████████████████▉                                                      | 30/88 [01:10<02:14,  2.32s/it]"
     ]
    },
    {
     "name": "stdout",
     "output_type": "stream",
     "text": [
      "512/512 [==============================] - 2s 4ms/step\n"
     ]
    },
    {
     "name": "stderr",
     "output_type": "stream",
     "text": [
      " 35%|████████████████████████████▉                                                     | 31/88 [01:12<02:12,  2.32s/it]"
     ]
    },
    {
     "name": "stdout",
     "output_type": "stream",
     "text": [
      "512/512 [==============================] - 2s 4ms/step\n"
     ]
    },
    {
     "name": "stderr",
     "output_type": "stream",
     "text": [
      " 36%|█████████████████████████████▊                                                    | 32/88 [01:15<02:11,  2.34s/it]"
     ]
    },
    {
     "name": "stdout",
     "output_type": "stream",
     "text": [
      "512/512 [==============================] - 2s 4ms/step\n"
     ]
    },
    {
     "name": "stderr",
     "output_type": "stream",
     "text": [
      " 38%|██████████████████████████████▊                                                   | 33/88 [01:17<02:08,  2.34s/it]"
     ]
    },
    {
     "name": "stdout",
     "output_type": "stream",
     "text": [
      "512/512 [==============================] - 2s 4ms/step\n"
     ]
    },
    {
     "name": "stderr",
     "output_type": "stream",
     "text": [
      " 39%|███████████████████████████████▋                                                  | 34/88 [01:20<02:06,  2.34s/it]"
     ]
    },
    {
     "name": "stdout",
     "output_type": "stream",
     "text": [
      "512/512 [==============================] - 2s 4ms/step\n"
     ]
    },
    {
     "name": "stderr",
     "output_type": "stream",
     "text": [
      " 40%|████████████████████████████████▌                                                 | 35/88 [01:22<02:03,  2.33s/it]"
     ]
    },
    {
     "name": "stdout",
     "output_type": "stream",
     "text": [
      "512/512 [==============================] - 2s 4ms/step\n"
     ]
    },
    {
     "name": "stderr",
     "output_type": "stream",
     "text": [
      " 41%|█████████████████████████████████▌                                                | 36/88 [01:24<02:00,  2.33s/it]"
     ]
    },
    {
     "name": "stdout",
     "output_type": "stream",
     "text": [
      "512/512 [==============================] - 2s 4ms/step\n"
     ]
    },
    {
     "name": "stderr",
     "output_type": "stream",
     "text": [
      " 42%|██████████████████████████████████▍                                               | 37/88 [01:26<01:58,  2.33s/it]"
     ]
    },
    {
     "name": "stdout",
     "output_type": "stream",
     "text": [
      "512/512 [==============================] - 2s 4ms/step\n"
     ]
    },
    {
     "name": "stderr",
     "output_type": "stream",
     "text": [
      " 43%|███████████████████████████████████▍                                              | 38/88 [01:29<01:56,  2.32s/it]"
     ]
    },
    {
     "name": "stdout",
     "output_type": "stream",
     "text": [
      "512/512 [==============================] - 2s 4ms/step\n"
     ]
    },
    {
     "name": "stderr",
     "output_type": "stream",
     "text": [
      " 44%|████████████████████████████████████▎                                             | 39/88 [01:31<01:53,  2.32s/it]"
     ]
    },
    {
     "name": "stdout",
     "output_type": "stream",
     "text": [
      "512/512 [==============================] - 2s 4ms/step\n"
     ]
    },
    {
     "name": "stderr",
     "output_type": "stream",
     "text": [
      " 45%|█████████████████████████████████████▎                                            | 40/88 [01:33<01:51,  2.33s/it]"
     ]
    },
    {
     "name": "stdout",
     "output_type": "stream",
     "text": [
      "512/512 [==============================] - 2s 4ms/step\n"
     ]
    },
    {
     "name": "stderr",
     "output_type": "stream",
     "text": [
      " 47%|██████████████████████████████████████▏                                           | 41/88 [01:36<01:49,  2.34s/it]"
     ]
    },
    {
     "name": "stdout",
     "output_type": "stream",
     "text": [
      "512/512 [==============================] - 2s 4ms/step\n"
     ]
    },
    {
     "name": "stderr",
     "output_type": "stream",
     "text": [
      " 48%|███████████████████████████████████████▏                                          | 42/88 [01:38<01:48,  2.35s/it]"
     ]
    },
    {
     "name": "stdout",
     "output_type": "stream",
     "text": [
      "512/512 [==============================] - 2s 4ms/step\n"
     ]
    },
    {
     "name": "stderr",
     "output_type": "stream",
     "text": [
      " 49%|████████████████████████████████████████                                          | 43/88 [01:40<01:43,  2.31s/it]"
     ]
    },
    {
     "name": "stdout",
     "output_type": "stream",
     "text": [
      "512/512 [==============================] - 2s 3ms/step\n"
     ]
    },
    {
     "name": "stderr",
     "output_type": "stream",
     "text": [
      " 50%|█████████████████████████████████████████                                         | 44/88 [01:42<01:37,  2.22s/it]"
     ]
    },
    {
     "name": "stdout",
     "output_type": "stream",
     "text": [
      "512/512 [==============================] - 2s 4ms/step\n"
     ]
    },
    {
     "name": "stderr",
     "output_type": "stream",
     "text": [
      " 51%|█████████████████████████████████████████▉                                        | 45/88 [01:45<01:34,  2.19s/it]"
     ]
    },
    {
     "name": "stdout",
     "output_type": "stream",
     "text": [
      "512/512 [==============================] - 2s 4ms/step\n"
     ]
    },
    {
     "name": "stderr",
     "output_type": "stream",
     "text": [
      " 52%|██████████████████████████████████████████▊                                       | 46/88 [01:47<01:33,  2.23s/it]"
     ]
    },
    {
     "name": "stdout",
     "output_type": "stream",
     "text": [
      "512/512 [==============================] - 2s 4ms/step\n"
     ]
    },
    {
     "name": "stderr",
     "output_type": "stream",
     "text": [
      " 53%|███████████████████████████████████████████▊                                      | 47/88 [01:49<01:33,  2.29s/it]"
     ]
    },
    {
     "name": "stdout",
     "output_type": "stream",
     "text": [
      "512/512 [==============================] - 2s 4ms/step\n"
     ]
    },
    {
     "name": "stderr",
     "output_type": "stream",
     "text": [
      " 55%|████████████████████████████████████████████▋                                     | 48/88 [01:52<01:31,  2.30s/it]"
     ]
    },
    {
     "name": "stdout",
     "output_type": "stream",
     "text": [
      "512/512 [==============================] - 2s 4ms/step\n"
     ]
    },
    {
     "name": "stderr",
     "output_type": "stream",
     "text": [
      " 56%|█████████████████████████████████████████████▋                                    | 49/88 [01:54<01:31,  2.34s/it]"
     ]
    },
    {
     "name": "stdout",
     "output_type": "stream",
     "text": [
      "512/512 [==============================] - 2s 4ms/step\n"
     ]
    },
    {
     "name": "stderr",
     "output_type": "stream",
     "text": [
      " 57%|██████████████████████████████████████████████▌                                   | 50/88 [01:57<01:30,  2.38s/it]"
     ]
    },
    {
     "name": "stdout",
     "output_type": "stream",
     "text": [
      "512/512 [==============================] - 2s 4ms/step\n"
     ]
    },
    {
     "name": "stderr",
     "output_type": "stream",
     "text": [
      " 58%|███████████████████████████████████████████████▌                                  | 51/88 [01:59<01:27,  2.36s/it]"
     ]
    },
    {
     "name": "stdout",
     "output_type": "stream",
     "text": [
      "512/512 [==============================] - 2s 4ms/step\n"
     ]
    },
    {
     "name": "stderr",
     "output_type": "stream",
     "text": [
      " 59%|████████████████████████████████████████████████▍                                 | 52/88 [02:01<01:25,  2.38s/it]"
     ]
    },
    {
     "name": "stdout",
     "output_type": "stream",
     "text": [
      "512/512 [==============================] - 2s 4ms/step\n"
     ]
    },
    {
     "name": "stderr",
     "output_type": "stream",
     "text": [
      " 60%|█████████████████████████████████████████████████▍                                | 53/88 [02:04<01:22,  2.34s/it]"
     ]
    },
    {
     "name": "stdout",
     "output_type": "stream",
     "text": [
      "512/512 [==============================] - 2s 4ms/step\n"
     ]
    },
    {
     "name": "stderr",
     "output_type": "stream",
     "text": [
      " 61%|██████████████████████████████████████████████████▎                               | 54/88 [02:06<01:19,  2.34s/it]"
     ]
    },
    {
     "name": "stdout",
     "output_type": "stream",
     "text": [
      "512/512 [==============================] - 2s 4ms/step\n"
     ]
    },
    {
     "name": "stderr",
     "output_type": "stream",
     "text": [
      " 62%|███████████████████████████████████████████████████▎                              | 55/88 [02:08<01:17,  2.36s/it]"
     ]
    },
    {
     "name": "stdout",
     "output_type": "stream",
     "text": [
      "512/512 [==============================] - 2s 4ms/step\n"
     ]
    },
    {
     "name": "stderr",
     "output_type": "stream",
     "text": [
      " 64%|████████████████████████████████████████████████████▏                             | 56/88 [02:11<01:15,  2.36s/it]"
     ]
    },
    {
     "name": "stdout",
     "output_type": "stream",
     "text": [
      "512/512 [==============================] - 2s 5ms/step\n"
     ]
    },
    {
     "name": "stderr",
     "output_type": "stream",
     "text": [
      " 65%|█████████████████████████████████████████████████████                             | 57/88 [02:13<01:15,  2.45s/it]"
     ]
    },
    {
     "name": "stdout",
     "output_type": "stream",
     "text": [
      "512/512 [==============================] - 2s 4ms/step\n"
     ]
    },
    {
     "name": "stderr",
     "output_type": "stream",
     "text": [
      " 66%|██████████████████████████████████████████████████████                            | 58/88 [02:15<01:10,  2.36s/it]"
     ]
    },
    {
     "name": "stdout",
     "output_type": "stream",
     "text": [
      "512/512 [==============================] - 2s 4ms/step\n"
     ]
    },
    {
     "name": "stderr",
     "output_type": "stream",
     "text": [
      " 67%|██████████████████████████████████████████████████████▉                           | 59/88 [02:18<01:08,  2.35s/it]"
     ]
    },
    {
     "name": "stdout",
     "output_type": "stream",
     "text": [
      "512/512 [==============================] - 2s 4ms/step\n"
     ]
    },
    {
     "name": "stderr",
     "output_type": "stream",
     "text": [
      " 68%|███████████████████████████████████████████████████████▉                          | 60/88 [02:20<01:04,  2.31s/it]"
     ]
    },
    {
     "name": "stdout",
     "output_type": "stream",
     "text": [
      "512/512 [==============================] - 2s 4ms/step\n"
     ]
    },
    {
     "name": "stderr",
     "output_type": "stream",
     "text": [
      " 69%|████████████████████████████████████████████████████████▊                         | 61/88 [02:22<01:00,  2.25s/it]"
     ]
    },
    {
     "name": "stdout",
     "output_type": "stream",
     "text": [
      "512/512 [==============================] - 2s 4ms/step\n"
     ]
    },
    {
     "name": "stderr",
     "output_type": "stream",
     "text": [
      " 70%|█████████████████████████████████████████████████████████▊                        | 62/88 [02:24<00:58,  2.26s/it]"
     ]
    },
    {
     "name": "stdout",
     "output_type": "stream",
     "text": [
      "512/512 [==============================] - 2s 4ms/step\n"
     ]
    },
    {
     "name": "stderr",
     "output_type": "stream",
     "text": [
      " 72%|██████████████████████████████████████████████████████████▋                       | 63/88 [02:27<00:56,  2.28s/it]"
     ]
    },
    {
     "name": "stdout",
     "output_type": "stream",
     "text": [
      "512/512 [==============================] - 2s 4ms/step\n"
     ]
    },
    {
     "name": "stderr",
     "output_type": "stream",
     "text": [
      " 73%|███████████████████████████████████████████████████████████▋                      | 64/88 [02:29<00:54,  2.29s/it]"
     ]
    },
    {
     "name": "stdout",
     "output_type": "stream",
     "text": [
      "512/512 [==============================] - 2s 4ms/step\n"
     ]
    },
    {
     "name": "stderr",
     "output_type": "stream",
     "text": [
      " 74%|████████████████████████████████████████████████████████████▌                     | 65/88 [02:31<00:52,  2.30s/it]"
     ]
    },
    {
     "name": "stdout",
     "output_type": "stream",
     "text": [
      "512/512 [==============================] - 2s 4ms/step\n"
     ]
    },
    {
     "name": "stderr",
     "output_type": "stream",
     "text": [
      " 75%|█████████████████████████████████████████████████████████████▌                    | 66/88 [02:34<00:50,  2.32s/it]"
     ]
    },
    {
     "name": "stdout",
     "output_type": "stream",
     "text": [
      "512/512 [==============================] - 2s 4ms/step\n"
     ]
    },
    {
     "name": "stderr",
     "output_type": "stream",
     "text": [
      " 76%|██████████████████████████████████████████████████████████████▍                   | 67/88 [02:36<00:48,  2.33s/it]"
     ]
    },
    {
     "name": "stdout",
     "output_type": "stream",
     "text": [
      "512/512 [==============================] - 2s 4ms/step\n"
     ]
    },
    {
     "name": "stderr",
     "output_type": "stream",
     "text": [
      " 77%|███████████████████████████████████████████████████████████████▎                  | 68/88 [02:38<00:46,  2.33s/it]"
     ]
    },
    {
     "name": "stdout",
     "output_type": "stream",
     "text": [
      "512/512 [==============================] - 2s 4ms/step\n"
     ]
    },
    {
     "name": "stderr",
     "output_type": "stream",
     "text": [
      " 78%|████████████████████████████████████████████████████████████████▎                 | 69/88 [02:41<00:44,  2.33s/it]"
     ]
    },
    {
     "name": "stdout",
     "output_type": "stream",
     "text": [
      "512/512 [==============================] - 2s 4ms/step\n"
     ]
    },
    {
     "name": "stderr",
     "output_type": "stream",
     "text": [
      " 80%|█████████████████████████████████████████████████████████████████▏                | 70/88 [02:43<00:41,  2.33s/it]"
     ]
    },
    {
     "name": "stdout",
     "output_type": "stream",
     "text": [
      "512/512 [==============================] - 2s 4ms/step\n"
     ]
    },
    {
     "name": "stderr",
     "output_type": "stream",
     "text": [
      " 81%|██████████████████████████████████████████████████████████████████▏               | 71/88 [02:45<00:39,  2.33s/it]"
     ]
    },
    {
     "name": "stdout",
     "output_type": "stream",
     "text": [
      "512/512 [==============================] - 2s 4ms/step\n"
     ]
    },
    {
     "name": "stderr",
     "output_type": "stream",
     "text": [
      " 82%|███████████████████████████████████████████████████████████████████               | 72/88 [02:48<00:37,  2.33s/it]"
     ]
    },
    {
     "name": "stdout",
     "output_type": "stream",
     "text": [
      "512/512 [==============================] - 2s 4ms/step\n"
     ]
    },
    {
     "name": "stderr",
     "output_type": "stream",
     "text": [
      " 83%|████████████████████████████████████████████████████████████████████              | 73/88 [02:50<00:35,  2.34s/it]"
     ]
    },
    {
     "name": "stdout",
     "output_type": "stream",
     "text": [
      "512/512 [==============================] - 2s 4ms/step\n"
     ]
    },
    {
     "name": "stderr",
     "output_type": "stream",
     "text": [
      " 84%|████████████████████████████████████████████████████████████████████▉             | 74/88 [02:52<00:32,  2.35s/it]"
     ]
    },
    {
     "name": "stdout",
     "output_type": "stream",
     "text": [
      "512/512 [==============================] - 2s 4ms/step\n"
     ]
    },
    {
     "name": "stderr",
     "output_type": "stream",
     "text": [
      " 85%|█████████████████████████████████████████████████████████████████████▉            | 75/88 [02:55<00:30,  2.35s/it]"
     ]
    },
    {
     "name": "stdout",
     "output_type": "stream",
     "text": [
      "512/512 [==============================] - 2s 4ms/step\n"
     ]
    },
    {
     "name": "stderr",
     "output_type": "stream",
     "text": [
      " 86%|██████████████████████████████████████████████████████████████████████▊           | 76/88 [02:57<00:28,  2.35s/it]"
     ]
    },
    {
     "name": "stdout",
     "output_type": "stream",
     "text": [
      "512/512 [==============================] - 2s 4ms/step\n"
     ]
    },
    {
     "name": "stderr",
     "output_type": "stream",
     "text": [
      " 88%|███████████████████████████████████████████████████████████████████████▊          | 77/88 [02:59<00:25,  2.36s/it]"
     ]
    },
    {
     "name": "stdout",
     "output_type": "stream",
     "text": [
      "512/512 [==============================] - 2s 4ms/step\n"
     ]
    },
    {
     "name": "stderr",
     "output_type": "stream",
     "text": [
      " 89%|████████████████████████████████████████████████████████████████████████▋         | 78/88 [03:02<00:23,  2.36s/it]"
     ]
    },
    {
     "name": "stdout",
     "output_type": "stream",
     "text": [
      "512/512 [==============================] - 2s 4ms/step\n"
     ]
    },
    {
     "name": "stderr",
     "output_type": "stream",
     "text": [
      " 90%|█████████████████████████████████████████████████████████████████████████▌        | 79/88 [03:04<00:21,  2.36s/it]"
     ]
    },
    {
     "name": "stdout",
     "output_type": "stream",
     "text": [
      "512/512 [==============================] - 2s 4ms/step\n"
     ]
    },
    {
     "name": "stderr",
     "output_type": "stream",
     "text": [
      " 91%|██████████████████████████████████████████████████████████████████████████▌       | 80/88 [03:07<00:18,  2.36s/it]"
     ]
    },
    {
     "name": "stdout",
     "output_type": "stream",
     "text": [
      "512/512 [==============================] - 2s 4ms/step\n"
     ]
    },
    {
     "name": "stderr",
     "output_type": "stream",
     "text": [
      " 92%|███████████████████████████████████████████████████████████████████████████▍      | 81/88 [03:09<00:16,  2.35s/it]"
     ]
    },
    {
     "name": "stdout",
     "output_type": "stream",
     "text": [
      "512/512 [==============================] - 2s 4ms/step\n"
     ]
    },
    {
     "name": "stderr",
     "output_type": "stream",
     "text": [
      " 93%|████████████████████████████████████████████████████████████████████████████▍     | 82/88 [03:11<00:14,  2.35s/it]"
     ]
    },
    {
     "name": "stdout",
     "output_type": "stream",
     "text": [
      "512/512 [==============================] - 2s 4ms/step\n"
     ]
    },
    {
     "name": "stderr",
     "output_type": "stream",
     "text": [
      " 94%|█████████████████████████████████████████████████████████████████████████████▎    | 83/88 [03:14<00:11,  2.35s/it]"
     ]
    },
    {
     "name": "stdout",
     "output_type": "stream",
     "text": [
      "512/512 [==============================] - 2s 4ms/step\n"
     ]
    },
    {
     "name": "stderr",
     "output_type": "stream",
     "text": [
      " 95%|██████████████████████████████████████████████████████████████████████████████▎   | 84/88 [03:16<00:09,  2.35s/it]"
     ]
    },
    {
     "name": "stdout",
     "output_type": "stream",
     "text": [
      "512/512 [==============================] - 2s 4ms/step\n"
     ]
    },
    {
     "name": "stderr",
     "output_type": "stream",
     "text": [
      " 97%|███████████████████████████████████████████████████████████████████████████████▏  | 85/88 [03:18<00:07,  2.35s/it]"
     ]
    },
    {
     "name": "stdout",
     "output_type": "stream",
     "text": [
      "512/512 [==============================] - 2s 4ms/step\n"
     ]
    },
    {
     "name": "stderr",
     "output_type": "stream",
     "text": [
      " 98%|████████████████████████████████████████████████████████████████████████████████▏ | 86/88 [03:21<00:04,  2.34s/it]"
     ]
    },
    {
     "name": "stdout",
     "output_type": "stream",
     "text": [
      "512/512 [==============================] - 2s 4ms/step\n"
     ]
    },
    {
     "name": "stderr",
     "output_type": "stream",
     "text": [
      " 99%|█████████████████████████████████████████████████████████████████████████████████ | 87/88 [03:23<00:02,  2.34s/it]"
     ]
    },
    {
     "name": "stdout",
     "output_type": "stream",
     "text": [
      "512/512 [==============================] - 2s 4ms/step\n"
     ]
    },
    {
     "name": "stderr",
     "output_type": "stream",
     "text": [
      "100%|██████████████████████████████████████████████████████████████████████████████████| 88/88 [03:25<00:00,  2.34s/it]\n"
     ]
    },
    {
     "name": "stdout",
     "output_type": "stream",
     "text": [
      "CPU times: total: 4min 40s\n",
      "Wall time: 3min 29s\n"
     ]
    }
   ],
   "source": [
    "%%time\n",
    "e1 = Evaluation(model, datagen_test)\n",
    "e1.predict()"
   ]
  },
  {
   "cell_type": "code",
   "execution_count": 14,
   "id": "396ddde5-879a-4baa-bd86-b268b0717e3f",
   "metadata": {},
   "outputs": [
    {
     "data": {
      "text/html": [
       "<div>\n",
       "<style scoped>\n",
       "    .dataframe tbody tr th:only-of-type {\n",
       "        vertical-align: middle;\n",
       "    }\n",
       "\n",
       "    .dataframe tbody tr th {\n",
       "        vertical-align: top;\n",
       "    }\n",
       "\n",
       "    .dataframe thead th {\n",
       "        text-align: right;\n",
       "    }\n",
       "</style>\n",
       "<table border=\"1\" class=\"dataframe\">\n",
       "  <thead>\n",
       "    <tr style=\"text-align: right;\">\n",
       "      <th></th>\n",
       "      <th>precision</th>\n",
       "      <th>recall</th>\n",
       "      <th>MCC</th>\n",
       "      <th>F1</th>\n",
       "      <th>accuracy</th>\n",
       "      <th>IoU</th>\n",
       "    </tr>\n",
       "  </thead>\n",
       "  <tbody>\n",
       "    <tr>\n",
       "      <th>0</th>\n",
       "      <td>0.8285</td>\n",
       "      <td>0.760096</td>\n",
       "      <td>0.770628</td>\n",
       "      <td>0.792825</td>\n",
       "      <td>0.95839</td>\n",
       "      <td>0.656761</td>\n",
       "    </tr>\n",
       "  </tbody>\n",
       "</table>\n",
       "</div>"
      ],
      "text/plain": [
       "   precision    recall       MCC        F1  accuracy       IoU\n",
       "0     0.8285  0.760096  0.770628  0.792825   0.95839  0.656761"
      ]
     },
     "execution_count": 14,
     "metadata": {},
     "output_type": "execute_result"
    }
   ],
   "source": [
    "e1.eval_()"
   ]
  },
  {
   "cell_type": "code",
   "execution_count": 15,
   "id": "801a1abe-4183-43b9-9fda-6338d3fe1654",
   "metadata": {},
   "outputs": [],
   "source": [
    "e1.eval_().to_json(os.path.join(\"result\",\"metrique_PCEDNet.json\"))"
   ]
  },
  {
   "cell_type": "code",
   "execution_count": 16,
   "id": "f1fbe5ee",
   "metadata": {},
   "outputs": [
    {
     "name": "stdout",
     "output_type": "stream",
     "text": [
      "INFO:tensorflow:Assets written to: Model\\PCEDNET\\assets\n"
     ]
    }
   ],
   "source": [
    "model.save(os.path.join(MODEL_PATH))"
   ]
  },
  {
   "cell_type": "code",
   "execution_count": null,
   "id": "60f20abf",
   "metadata": {},
   "outputs": [],
   "source": []
  }
 ],
 "metadata": {
  "kernelspec": {
   "display_name": "Python 3 (ipykernel)",
   "language": "python",
   "name": "python3"
  },
  "language_info": {
   "codemirror_mode": {
    "name": "ipython",
    "version": 3
   },
   "file_extension": ".py",
   "mimetype": "text/x-python",
   "name": "python",
   "nbconvert_exporter": "python",
   "pygments_lexer": "ipython3",
   "version": "3.9.0"
  }
 },
 "nbformat": 4,
 "nbformat_minor": 5
}
