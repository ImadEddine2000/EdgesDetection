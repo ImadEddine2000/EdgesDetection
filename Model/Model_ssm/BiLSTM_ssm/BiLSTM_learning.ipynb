{
 "cells": [
  {
   "cell_type": "code",
   "execution_count": 1,
   "id": "82efbbd0",
   "metadata": {},
   "outputs": [],
   "source": [
    "import tensorflow as tf\n",
    "import os\n",
    "from Script.DataGenerator import DataGenerator\n",
    "from Script.Metrics_Evaluation import Evaluation\n",
    "from BiLSTM import BiLSTM, generate_input\n",
    "import matplotlib.pyplot as plt\n",
    "import pandas as pd"
   ]
  },
  {
   "cell_type": "code",
   "execution_count": 2,
   "id": "46173384-7805-4d25-9800-2a1ee1b0b8b7",
   "metadata": {},
   "outputs": [
    {
     "name": "stdout",
     "output_type": "stream",
     "text": [
      "Running on GPU\n"
     ]
    }
   ],
   "source": [
    "gpus =tf.config.list_physical_devices('GPU')\n",
    "if len(gpus):\n",
    "    print(\"Running on GPU\")\n",
    "    tf.config.set_visible_devices(gpus[0], 'GPU')\n",
    "else :\n",
    "    print(\"Running on CPU\")"
   ]
  },
  {
   "cell_type": "code",
   "execution_count": 3,
   "id": "c94c66c6",
   "metadata": {},
   "outputs": [],
   "source": [
    "BATCH_SIZE = 16384\n",
    "EPOCH = 50\n",
    "ABC2 = os.path.join(\"..\", \"..\", \"ABC2\", \"ABC_ssm\")\n",
    "DATA_PATH = os.path.join(ABC2, \"Train\")\n",
    "VALIDATION_PATH = os.path.join(ABC2, \"Validation\")\n",
    "TEST_PATH = os.path.join(ABC2, \"Test\")\n",
    "MODEL_PATH = os.path.join(\"Model\", \"BiLSTM\")"
   ]
  },
  {
   "cell_type": "code",
   "execution_count": 4,
   "id": "49496e48",
   "metadata": {},
   "outputs": [],
   "source": [
    "datagen_train = DataGenerator(DATA_PATH, generate_input, batch_size=BATCH_SIZE, split=1, extension=\"_.ssm.npy\")\n",
    "datagen_validation = DataGenerator(VALIDATION_PATH, generate_input, batch_size=BATCH_SIZE, split=1, extension=\"_.ssm.npy\")"
   ]
  },
  {
   "cell_type": "markdown",
   "id": "d979f73a",
   "metadata": {},
   "source": [
    "## Model Bi-lstm"
   ]
  },
  {
   "cell_type": "code",
   "execution_count": 5,
   "id": "17e20148",
   "metadata": {},
   "outputs": [
    {
     "name": "stdout",
     "output_type": "stream",
     "text": [
      "Model: \"model\"\n",
      "_________________________________________________________________\n",
      " Layer (type)                Output Shape              Param #   \n",
      "=================================================================\n",
      " input_1 (InputLayer)        [(None, 16, 6)]           0         \n",
      "                                                                 \n",
      " bidirectional (Bidirectiona  (None, 32)               2944      \n",
      " l)                                                              \n",
      "                                                                 \n",
      " dropout (Dropout)           (None, 32)                0         \n",
      "                                                                 \n",
      " dense (Dense)               (None, 12)                396       \n",
      "                                                                 \n",
      " dense_1 (Dense)             (None, 1)                 13        \n",
      "                                                                 \n",
      "=================================================================\n",
      "Total params: 3,353\n",
      "Trainable params: 3,353\n",
      "Non-trainable params: 0\n",
      "_________________________________________________________________\n"
     ]
    }
   ],
   "source": [
    "model = BiLSTM(unit=16).build()\n",
    "model.summary()"
   ]
  },
  {
   "cell_type": "markdown",
   "id": "f580fba9",
   "metadata": {},
   "source": [
    "## Training "
   ]
  },
  {
   "cell_type": "code",
   "execution_count": 6,
   "id": "1e539df5",
   "metadata": {
    "scrolled": true
   },
   "outputs": [
    {
     "data": {
      "image/png": "[encoded data removed]",
      "text/plain": [
       "<IPython.core.display.Image object>"
      ]
     },
     "execution_count": 6,
     "metadata": {},
     "output_type": "execute_result"
    }
   ],
   "source": [
    "tf.keras.utils.plot_model(model, to_file=os.path.join(\"result\", \"model_BiLSTM.png\"), show_layer_names=False,  show_shapes=True)"
   ]
  },
  {
   "cell_type": "code",
   "execution_count": 7,
   "id": "abbe31ee",
   "metadata": {},
   "outputs": [],
   "source": [
    "metrics = [\"accuracy\", tf.keras.metrics.Precision(thresholds=0.5), tf.keras.metrics.Recall(thresholds=0.5)]"
   ]
  },
  {
   "cell_type": "code",
   "execution_count": 8,
   "id": "6af872b0",
   "metadata": {},
   "outputs": [],
   "source": [
    "model.compile(optimizer=tf.keras.optimizers.Adam(), loss=tf.keras.losses.binary_crossentropy, metrics=metrics)"
   ]
  },
  {
   "cell_type": "code",
   "execution_count": 9,
   "id": "a964151a",
   "metadata": {
    "scrolled": true
   },
   "outputs": [
    {
     "name": "stdout",
     "output_type": "stream",
     "text": [
      "Epoch 1/50\n",
      "235/235 [==============================] - 7s 18ms/step - loss: 0.4621 - accuracy: 0.7595 - precision: 0.0929 - recall: 0.1437 - val_loss: 0.2189 - val_accuracy: 0.9132 - val_precision: 1.0000 - val_recall: 1.0817e-04 - lr: 0.0010\n",
      "Epoch 2/50\n",
      "235/235 [==============================] - 4s 16ms/step - loss: 0.2905 - accuracy: 0.8832 - precision: 0.5483 - recall: 0.0675 - val_loss: 0.1794 - val_accuracy: 0.9273 - val_precision: 0.8954 - val_recall: 0.1861 - lr: 0.0010\n",
      "Epoch 3/50\n",
      "235/235 [==============================] - 4s 15ms/step - loss: 0.2234 - accuracy: 0.9209 - precision: 0.8149 - recall: 0.3625 - val_loss: 0.1539 - val_accuracy: 0.9414 - val_precision: 0.9362 - val_recall: 0.4105 - lr: 0.0010\n",
      "Epoch 4/50\n",
      "235/235 [==============================] - 4s 15ms/step - loss: 0.1939 - accuracy: 0.9293 - precision: 0.7694 - recall: 0.4817 - val_loss: 0.1178 - val_accuracy: 0.9645 - val_precision: 0.9329 - val_recall: 0.6261 - lr: 0.0010\n",
      "Epoch 5/50\n",
      "235/235 [==============================] - 4s 16ms/step - loss: 0.1838 - accuracy: 0.9341 - precision: 0.8099 - recall: 0.5023 - val_loss: 0.0956 - val_accuracy: 0.9669 - val_precision: 0.9570 - val_recall: 0.6191 - lr: 0.0010\n",
      "Epoch 6/50\n",
      "235/235 [==============================] - 4s 15ms/step - loss: 0.1654 - accuracy: 0.9414 - precision: 0.8414 - recall: 0.5674 - val_loss: 0.0934 - val_accuracy: 0.9668 - val_precision: 0.9245 - val_recall: 0.6705 - lr: 0.0010\n",
      "Epoch 7/50\n",
      "235/235 [==============================] - 4s 15ms/step - loss: 0.1698 - accuracy: 0.9378 - precision: 0.8391 - recall: 0.5826 - val_loss: 0.0930 - val_accuracy: 0.9649 - val_precision: 0.9559 - val_recall: 0.6957 - lr: 0.0010\n",
      "Epoch 8/50\n",
      "235/235 [==============================] - 4s 15ms/step - loss: 0.1509 - accuracy: 0.9472 - precision: 0.8717 - recall: 0.6255 - val_loss: 0.0713 - val_accuracy: 0.9783 - val_precision: 0.9104 - val_recall: 0.7401 - lr: 0.0010\n",
      "Epoch 9/50\n",
      "235/235 [==============================] - 4s 15ms/step - loss: 0.1390 - accuracy: 0.9490 - precision: 0.8521 - recall: 0.6505 - val_loss: 0.0884 - val_accuracy: 0.9716 - val_precision: 0.9151 - val_recall: 0.7115 - lr: 0.0010\n",
      "Epoch 10/50\n",
      "235/235 [==============================] - 4s 15ms/step - loss: 0.1389 - accuracy: 0.9506 - precision: 0.8682 - recall: 0.6626 - val_loss: 0.0729 - val_accuracy: 0.9778 - val_precision: 0.9060 - val_recall: 0.7366 - lr: 0.0010\n",
      "Epoch 11/50\n",
      "235/235 [==============================] - 4s 15ms/step - loss: 0.1445 - accuracy: 0.9473 - precision: 0.8582 - recall: 0.6607 - val_loss: 0.0523 - val_accuracy: 0.9884 - val_precision: 0.9419 - val_recall: 0.8626 - lr: 0.0010\n",
      "Epoch 12/50\n",
      "235/235 [==============================] - 4s 15ms/step - loss: 0.1286 - accuracy: 0.9534 - precision: 0.8597 - recall: 0.6979 - val_loss: 0.0932 - val_accuracy: 0.9671 - val_precision: 0.9448 - val_recall: 0.7377 - lr: 0.0010\n",
      "Epoch 13/50\n",
      "235/235 [==============================] - 4s 15ms/step - loss: 0.1306 - accuracy: 0.9524 - precision: 0.8666 - recall: 0.6721 - val_loss: 0.0806 - val_accuracy: 0.9782 - val_precision: 0.9459 - val_recall: 0.7769 - lr: 0.0010\n",
      "Epoch 14/50\n",
      "235/235 [==============================] - 4s 15ms/step - loss: 0.1383 - accuracy: 0.9498 - precision: 0.8480 - recall: 0.6712 - val_loss: 0.0578 - val_accuracy: 0.9827 - val_precision: 0.9570 - val_recall: 0.8049 - lr: 0.0010\n",
      "Epoch 15/50\n",
      "235/235 [==============================] - 4s 15ms/step - loss: 0.1303 - accuracy: 0.9512 - precision: 0.8762 - recall: 0.6817 - val_loss: 0.0495 - val_accuracy: 0.9864 - val_precision: 0.9516 - val_recall: 0.8462 - lr: 0.0010\n",
      "Epoch 16/50\n",
      "235/235 [==============================] - 4s 15ms/step - loss: 0.1233 - accuracy: 0.9545 - precision: 0.8634 - recall: 0.7001 - val_loss: 0.0641 - val_accuracy: 0.9788 - val_precision: 0.9533 - val_recall: 0.8195 - lr: 0.0010\n",
      "Epoch 17/50\n",
      "235/235 [==============================] - 4s 15ms/step - loss: 0.1360 - accuracy: 0.9491 - precision: 0.8652 - recall: 0.6696 - val_loss: 0.0679 - val_accuracy: 0.9810 - val_precision: 0.9144 - val_recall: 0.8386 - lr: 0.0010\n",
      "Epoch 18/50\n",
      "235/235 [==============================] - 4s 15ms/step - loss: 0.1234 - accuracy: 0.9545 - precision: 0.8659 - recall: 0.7010 - val_loss: 0.0504 - val_accuracy: 0.9875 - val_precision: 0.9466 - val_recall: 0.8597 - lr: 0.0010\n",
      "Epoch 19/50\n",
      "235/235 [==============================] - 4s 15ms/step - loss: 0.1170 - accuracy: 0.9570 - precision: 0.8768 - recall: 0.7132 - val_loss: 0.0378 - val_accuracy: 0.9878 - val_precision: 0.9920 - val_recall: 0.8298 - lr: 0.0010\n",
      "Epoch 20/50\n",
      "235/235 [==============================] - 4s 15ms/step - loss: 0.1228 - accuracy: 0.9542 - precision: 0.8573 - recall: 0.7054 - val_loss: 0.0738 - val_accuracy: 0.9739 - val_precision: 0.9429 - val_recall: 0.7441 - lr: 0.0010\n",
      "Epoch 21/50\n",
      "235/235 [==============================] - 4s 15ms/step - loss: 0.1229 - accuracy: 0.9552 - precision: 0.8777 - recall: 0.7005 - val_loss: 0.0632 - val_accuracy: 0.9821 - val_precision: 0.8857 - val_recall: 0.8189 - lr: 0.0010\n",
      "Epoch 22/50\n",
      "235/235 [==============================] - 4s 15ms/step - loss: 0.1129 - accuracy: 0.9594 - precision: 0.8818 - recall: 0.7345 - val_loss: 0.0485 - val_accuracy: 0.9859 - val_precision: 0.9247 - val_recall: 0.8318 - lr: 0.0010\n",
      "Epoch 23/50\n",
      "235/235 [==============================] - 4s 15ms/step - loss: 0.1152 - accuracy: 0.9543 - precision: 0.8598 - recall: 0.7243 - val_loss: 0.0562 - val_accuracy: 0.9842 - val_precision: 0.9280 - val_recall: 0.8668 - lr: 0.0010\n",
      "Epoch 24/50\n",
      "235/235 [==============================] - 4s 15ms/step - loss: 0.1190 - accuracy: 0.9566 - precision: 0.8832 - recall: 0.7236 - val_loss: 0.0412 - val_accuracy: 0.9867 - val_precision: 0.9091 - val_recall: 0.8715 - lr: 0.0010\n",
      "Epoch 25/50\n",
      "235/235 [==============================] - 4s 15ms/step - loss: 0.1044 - accuracy: 0.9623 - precision: 0.8930 - recall: 0.7516 - val_loss: 0.0849 - val_accuracy: 0.9699 - val_precision: 0.9286 - val_recall: 0.7070 - lr: 0.0010\n",
      "Epoch 26/50\n",
      "235/235 [==============================] - 4s 15ms/step - loss: 0.1185 - accuracy: 0.9569 - precision: 0.8864 - recall: 0.7353 - val_loss: 0.0679 - val_accuracy: 0.9757 - val_precision: 0.9447 - val_recall: 0.8059 - lr: 0.0010\n",
      "Epoch 27/50\n",
      "235/235 [==============================] - 4s 15ms/step - loss: 0.0977 - accuracy: 0.9646 - precision: 0.8853 - recall: 0.7545 - val_loss: 0.0690 - val_accuracy: 0.9773 - val_precision: 0.9763 - val_recall: 0.8137 - lr: 0.0010\n",
      "Epoch 28/50\n",
      "235/235 [==============================] - 4s 16ms/step - loss: 0.0983 - accuracy: 0.9648 - precision: 0.8994 - recall: 0.7527 - val_loss: 0.0389 - val_accuracy: 0.9881 - val_precision: 0.9655 - val_recall: 0.8912 - lr: 0.0010\n",
      "Epoch 29/50\n",
      "235/235 [==============================] - 4s 15ms/step - loss: 0.1101 - accuracy: 0.9590 - precision: 0.8843 - recall: 0.7426 - val_loss: 0.0685 - val_accuracy: 0.9748 - val_precision: 0.9643 - val_recall: 0.7172 - lr: 0.0010\n",
      "Epoch 30/50\n",
      "235/235 [==============================] - 4s 16ms/step - loss: 0.1020 - accuracy: 0.9625 - precision: 0.9288 - recall: 0.6913 - val_loss: 0.0688 - val_accuracy: 0.9735 - val_precision: 0.9660 - val_recall: 0.7518 - lr: 1.6573e-05\n",
      "Epoch 31/50\n",
      "235/235 [==============================] - 4s 16ms/step - loss: 0.1092 - accuracy: 0.9592 - precision: 0.9306 - recall: 0.6863 - val_loss: 0.0723 - val_accuracy: 0.9750 - val_precision: 0.9274 - val_recall: 0.7595 - lr: 1.6573e-05\n",
      "Epoch 32/50\n",
      "235/235 [==============================] - 4s 15ms/step - loss: 0.0916 - accuracy: 0.9657 - precision: 0.9310 - recall: 0.7436 - val_loss: 0.0494 - val_accuracy: 0.9826 - val_precision: 0.9252 - val_recall: 0.8319 - lr: 1.6573e-05\n",
      "Epoch 33/50\n",
      "235/235 [==============================] - 4s 15ms/step - loss: 0.1044 - accuracy: 0.9609 - precision: 0.9242 - recall: 0.7133 - val_loss: 0.0372 - val_accuracy: 0.9848 - val_precision: 0.9875 - val_recall: 0.8261 - lr: 1.6573e-05\n",
      "Epoch 34/50\n",
      "235/235 [==============================] - 4s 15ms/step - loss: 0.1145 - accuracy: 0.9568 - precision: 0.9158 - recall: 0.7140 - val_loss: 0.0556 - val_accuracy: 0.9803 - val_precision: 0.9428 - val_recall: 0.8023 - lr: 1.6573e-05\n",
      "Epoch 35/50\n",
      "235/235 [==============================] - 4s 15ms/step - loss: 0.1040 - accuracy: 0.9623 - precision: 0.9218 - recall: 0.7349 - val_loss: 0.0453 - val_accuracy: 0.9838 - val_precision: 0.9681 - val_recall: 0.8683 - lr: 1.6573e-05\n",
      "Epoch 36/50\n",
      "235/235 [==============================] - 4s 15ms/step - loss: 0.0932 - accuracy: 0.9665 - precision: 0.9203 - recall: 0.7599 - val_loss: 0.0377 - val_accuracy: 0.9885 - val_precision: 0.9461 - val_recall: 0.8748 - lr: 1.6573e-05\n",
      "Epoch 37/50\n",
      "235/235 [==============================] - 4s 15ms/step - loss: 0.1125 - accuracy: 0.9589 - precision: 0.9158 - recall: 0.7222 - val_loss: 0.0734 - val_accuracy: 0.9752 - val_precision: 0.9046 - val_recall: 0.7885 - lr: 1.6573e-05\n",
      "Epoch 38/50\n",
      "235/235 [==============================] - 4s 15ms/step - loss: 0.1102 - accuracy: 0.9590 - precision: 0.9095 - recall: 0.7303 - val_loss: 0.0410 - val_accuracy: 0.9862 - val_precision: 0.9707 - val_recall: 0.8238 - lr: 1.6573e-05\n",
      "Epoch 39/50\n",
      "235/235 [==============================] - 4s 15ms/step - loss: 0.1009 - accuracy: 0.9627 - precision: 0.9161 - recall: 0.7406 - val_loss: 0.0666 - val_accuracy: 0.9768 - val_precision: 0.9178 - val_recall: 0.8143 - lr: 1.6573e-05\n",
      "Epoch 40/50\n",
      "235/235 [==============================] - 4s 15ms/step - loss: 0.1060 - accuracy: 0.9606 - precision: 0.9171 - recall: 0.7465 - val_loss: 0.0378 - val_accuracy: 0.9887 - val_precision: 0.9370 - val_recall: 0.8769 - lr: 1.6573e-05\n",
      "Epoch 41/50\n",
      "235/235 [==============================] - 4s 15ms/step - loss: 0.1077 - accuracy: 0.9599 - precision: 0.9008 - recall: 0.7248 - val_loss: 0.0480 - val_accuracy: 0.9846 - val_precision: 0.9324 - val_recall: 0.8802 - lr: 1.6573e-05\n",
      "Epoch 42/50\n",
      "235/235 [==============================] - 4s 16ms/step - loss: 0.0993 - accuracy: 0.9626 - precision: 0.9025 - recall: 0.7422 - val_loss: 0.0766 - val_accuracy: 0.9738 - val_precision: 0.9227 - val_recall: 0.8284 - lr: 1.6573e-05\n",
      "Epoch 43/50\n",
      "235/235 [==============================] - 4s 16ms/step - loss: 0.0841 - accuracy: 0.9699 - precision: 0.9112 - recall: 0.7818 - val_loss: 0.0637 - val_accuracy: 0.9780 - val_precision: 0.9272 - val_recall: 0.8252 - lr: 1.6573e-05\n",
      "Epoch 44/50\n",
      "235/235 [==============================] - 4s 15ms/step - loss: 0.0942 - accuracy: 0.9638 - precision: 0.9144 - recall: 0.7536 - val_loss: 0.0388 - val_accuracy: 0.9878 - val_precision: 0.9395 - val_recall: 0.9033 - lr: 2.7465e-07\n",
      "Epoch 45/50\n",
      "235/235 [==============================] - 4s 15ms/step - loss: 0.1042 - accuracy: 0.9601 - precision: 0.9070 - recall: 0.7387 - val_loss: 0.0542 - val_accuracy: 0.9823 - val_precision: 0.9045 - val_recall: 0.8312 - lr: 2.7465e-07\n",
      "Epoch 46/50\n",
      "235/235 [==============================] - 4s 15ms/step - loss: 0.0917 - accuracy: 0.9664 - precision: 0.9182 - recall: 0.7670 - val_loss: 0.0683 - val_accuracy: 0.9772 - val_precision: 0.8982 - val_recall: 0.7902 - lr: 2.7465e-07\n",
      "Epoch 47/50\n",
      "235/235 [==============================] - 4s 15ms/step - loss: 0.1048 - accuracy: 0.9620 - precision: 0.9119 - recall: 0.7537 - val_loss: 0.0741 - val_accuracy: 0.9747 - val_precision: 0.9253 - val_recall: 0.8300 - lr: 2.7465e-07\n",
      "Epoch 48/50\n",
      "235/235 [==============================] - 4s 15ms/step - loss: 0.0942 - accuracy: 0.9650 - precision: 0.9026 - recall: 0.7541 - val_loss: 0.0529 - val_accuracy: 0.9824 - val_precision: 0.9395 - val_recall: 0.8673 - lr: 2.7465e-07\n",
      "Epoch 49/50\n",
      "235/235 [==============================] - 4s 15ms/step - loss: 0.1034 - accuracy: 0.9618 - precision: 0.9053 - recall: 0.7471 - val_loss: 0.0620 - val_accuracy: 0.9794 - val_precision: 0.9098 - val_recall: 0.8597 - lr: 2.7465e-07\n",
      "Epoch 50/50\n",
      "235/235 [==============================] - 4s 16ms/step - loss: 0.1037 - accuracy: 0.9607 - precision: 0.9119 - recall: 0.7480 - val_loss: 0.0558 - val_accuracy: 0.9819 - val_precision: 0.9571 - val_recall: 0.8645 - lr: 2.7465e-07\n",
      "CPU times: total: 5min 14s\n",
      "Wall time: 3min 4s\n"
     ]
    }
   ],
   "source": [
    "%%time\n",
    "hist = model.fit(datagen_train, validation_data=datagen_validation, epochs=EPOCH,\n",
    "         callbacks= [tf.keras.callbacks.ReduceLROnPlateau(factor=tf.math.exp(-4.1), patience=int(EPOCH*2/10), min_lr=0.0000001)])"
   ]
  },
  {
   "cell_type": "code",
   "execution_count": 10,
   "id": "9ea4e4ec",
   "metadata": {
    "scrolled": true
   },
   "outputs": [
    {
     "data": {
      "text/plain": [
       "<Figure size 1000x500 with 0 Axes>"
      ]
     },
     "metadata": {},
     "output_type": "display_data"
    },
    {
     "data": {
      "image/png": "[encoded data removed]",
      "text/plain": [
       "<Figure size 640x480 with 1 Axes>"
      ]
     },
     "metadata": {},
     "output_type": "display_data"
    }
   ],
   "source": [
    "history_df = pd.DataFrame(hist.history)\n",
    "plt.figure(figsize=(10, 5))\n",
    "history_df[['loss', 'accuracy', 'precision', 'recall', 'lr']].plot()\n",
    "plt.title('Training Loss and metrics')\n",
    "plt.xlabel('Epoch')\n",
    "plt.ylabel('Value')\n",
    "plt.legend(loc='upper right')\n",
    "plt.savefig(os.path.join(\"result\", \"model_BiLSTM_plot.png\"))\n",
    "plt.show()"
   ]
  },
  {
   "cell_type": "markdown",
   "id": "310e04b6",
   "metadata": {},
   "source": [
    "# Evaluate"
   ]
  },
  {
   "cell_type": "code",
   "execution_count": 11,
   "id": "153a0746-966a-4e9d-a3df-0619d1e7aa1c",
   "metadata": {},
   "outputs": [],
   "source": [
    "datagen_test = DataGenerator(TEST_PATH, generate_input, batch_size=BATCH_SIZE, split=1, extension=\"_.ssm.npy\")"
   ]
  },
  {
   "cell_type": "code",
   "execution_count": 12,
   "id": "0fff644b",
   "metadata": {
    "scrolled": true
   },
   "outputs": [
    {
     "name": "stdout",
     "output_type": "stream",
     "text": [
      "Running on GPU\n"
     ]
    },
    {
     "name": "stderr",
     "output_type": "stream",
     "text": [
      "  0%|                                                                                           | 0/88 [00:00<?, ?it/s]"
     ]
    },
    {
     "name": "stdout",
     "output_type": "stream",
     "text": [
      "512/512 [==============================] - 2s 3ms/step\n"
     ]
    },
    {
     "name": "stderr",
     "output_type": "stream",
     "text": [
      "  1%|▉                                                                                  | 1/88 [00:02<03:12,  2.21s/it]"
     ]
    },
    {
     "name": "stdout",
     "output_type": "stream",
     "text": [
      "512/512 [==============================] - 1s 3ms/step\n"
     ]
    },
    {
     "name": "stderr",
     "output_type": "stream",
     "text": [
      "  2%|█▉                                                                                 | 2/88 [00:03<02:37,  1.83s/it]"
     ]
    },
    {
     "name": "stdout",
     "output_type": "stream",
     "text": [
      "512/512 [==============================] - 1s 3ms/step\n"
     ]
    },
    {
     "name": "stderr",
     "output_type": "stream",
     "text": [
      "  3%|██▊                                                                                | 3/88 [00:05<02:24,  1.70s/it]"
     ]
    },
    {
     "name": "stdout",
     "output_type": "stream",
     "text": [
      "512/512 [==============================] - 1s 3ms/step\n"
     ]
    },
    {
     "name": "stderr",
     "output_type": "stream",
     "text": [
      "  5%|███▊                                                                               | 4/88 [00:06<02:18,  1.65s/it]"
     ]
    },
    {
     "name": "stdout",
     "output_type": "stream",
     "text": [
      "512/512 [==============================] - 1s 3ms/step\n"
     ]
    },
    {
     "name": "stderr",
     "output_type": "stream",
     "text": [
      "  6%|████▋                                                                              | 5/88 [00:08<02:15,  1.63s/it]"
     ]
    },
    {
     "name": "stdout",
     "output_type": "stream",
     "text": [
      "512/512 [==============================] - 1s 2ms/step\n"
     ]
    },
    {
     "name": "stderr",
     "output_type": "stream",
     "text": [
      "  7%|█████▋                                                                             | 6/88 [00:09<02:10,  1.59s/it]"
     ]
    },
    {
     "name": "stdout",
     "output_type": "stream",
     "text": [
      "512/512 [==============================] - 1s 3ms/step\n"
     ]
    },
    {
     "name": "stderr",
     "output_type": "stream",
     "text": [
      "  8%|██████▌                                                                            | 7/88 [00:11<02:08,  1.58s/it]"
     ]
    },
    {
     "name": "stdout",
     "output_type": "stream",
     "text": [
      "512/512 [==============================] - 1s 2ms/step\n"
     ]
    },
    {
     "name": "stderr",
     "output_type": "stream",
     "text": [
      "  9%|███████▌                                                                           | 8/88 [00:13<02:04,  1.56s/it]"
     ]
    },
    {
     "name": "stdout",
     "output_type": "stream",
     "text": [
      "512/512 [==============================] - 1s 3ms/step\n"
     ]
    },
    {
     "name": "stderr",
     "output_type": "stream",
     "text": [
      " 10%|████████▍                                                                          | 9/88 [00:14<02:03,  1.56s/it]"
     ]
    },
    {
     "name": "stdout",
     "output_type": "stream",
     "text": [
      "512/512 [==============================] - 1s 3ms/step\n"
     ]
    },
    {
     "name": "stderr",
     "output_type": "stream",
     "text": [
      " 11%|█████████▎                                                                        | 10/88 [00:16<02:02,  1.57s/it]"
     ]
    },
    {
     "name": "stdout",
     "output_type": "stream",
     "text": [
      "512/512 [==============================] - 1s 3ms/step\n"
     ]
    },
    {
     "name": "stderr",
     "output_type": "stream",
     "text": [
      " 12%|██████████▎                                                                       | 11/88 [00:17<02:00,  1.57s/it]"
     ]
    },
    {
     "name": "stdout",
     "output_type": "stream",
     "text": [
      "512/512 [==============================] - 1s 3ms/step\n"
     ]
    },
    {
     "name": "stderr",
     "output_type": "stream",
     "text": [
      " 14%|███████████▏                                                                      | 12/88 [00:19<01:58,  1.56s/it]"
     ]
    },
    {
     "name": "stdout",
     "output_type": "stream",
     "text": [
      "512/512 [==============================] - 1s 3ms/step\n"
     ]
    },
    {
     "name": "stderr",
     "output_type": "stream",
     "text": [
      " 15%|████████████                                                                      | 13/88 [00:20<01:56,  1.56s/it]"
     ]
    },
    {
     "name": "stdout",
     "output_type": "stream",
     "text": [
      "512/512 [==============================] - 1s 3ms/step\n"
     ]
    },
    {
     "name": "stderr",
     "output_type": "stream",
     "text": [
      " 16%|█████████████                                                                     | 14/88 [00:22<01:54,  1.55s/it]"
     ]
    },
    {
     "name": "stdout",
     "output_type": "stream",
     "text": [
      "512/512 [==============================] - 1s 2ms/step\n"
     ]
    },
    {
     "name": "stderr",
     "output_type": "stream",
     "text": [
      " 17%|█████████████▉                                                                    | 15/88 [00:23<01:52,  1.54s/it]"
     ]
    },
    {
     "name": "stdout",
     "output_type": "stream",
     "text": [
      "512/512 [==============================] - 1s 2ms/step\n"
     ]
    },
    {
     "name": "stderr",
     "output_type": "stream",
     "text": [
      " 18%|██████████████▉                                                                   | 16/88 [00:25<01:50,  1.53s/it]"
     ]
    },
    {
     "name": "stdout",
     "output_type": "stream",
     "text": [
      "512/512 [==============================] - 1s 3ms/step\n"
     ]
    },
    {
     "name": "stderr",
     "output_type": "stream",
     "text": [
      " 19%|███████████████▊                                                                  | 17/88 [00:27<01:51,  1.57s/it]"
     ]
    },
    {
     "name": "stdout",
     "output_type": "stream",
     "text": [
      "512/512 [==============================] - 1s 3ms/step\n"
     ]
    },
    {
     "name": "stderr",
     "output_type": "stream",
     "text": [
      " 20%|████████████████▊                                                                 | 18/88 [00:28<01:49,  1.56s/it]"
     ]
    },
    {
     "name": "stdout",
     "output_type": "stream",
     "text": [
      "512/512 [==============================] - 1s 2ms/step\n"
     ]
    },
    {
     "name": "stderr",
     "output_type": "stream",
     "text": [
      " 22%|█████████████████▋                                                                | 19/88 [00:30<01:46,  1.55s/it]"
     ]
    },
    {
     "name": "stdout",
     "output_type": "stream",
     "text": [
      "512/512 [==============================] - 1s 3ms/step\n"
     ]
    },
    {
     "name": "stderr",
     "output_type": "stream",
     "text": [
      " 23%|██████████████████▋                                                               | 20/88 [00:31<01:47,  1.58s/it]"
     ]
    },
    {
     "name": "stdout",
     "output_type": "stream",
     "text": [
      "512/512 [==============================] - 1s 2ms/step\n"
     ]
    },
    {
     "name": "stderr",
     "output_type": "stream",
     "text": [
      " 24%|███████████████████▌                                                              | 21/88 [00:33<01:44,  1.57s/it]"
     ]
    },
    {
     "name": "stdout",
     "output_type": "stream",
     "text": [
      "512/512 [==============================] - 1s 3ms/step\n"
     ]
    },
    {
     "name": "stderr",
     "output_type": "stream",
     "text": [
      " 25%|████████████████████▌                                                             | 22/88 [00:34<01:44,  1.58s/it]"
     ]
    },
    {
     "name": "stdout",
     "output_type": "stream",
     "text": [
      "512/512 [==============================] - 1s 3ms/step\n"
     ]
    },
    {
     "name": "stderr",
     "output_type": "stream",
     "text": [
      " 26%|█████████████████████▍                                                            | 23/88 [00:36<01:42,  1.58s/it]"
     ]
    },
    {
     "name": "stdout",
     "output_type": "stream",
     "text": [
      "512/512 [==============================] - 1s 3ms/step\n"
     ]
    },
    {
     "name": "stderr",
     "output_type": "stream",
     "text": [
      " 27%|██████████████████████▎                                                           | 24/88 [00:38<01:41,  1.58s/it]"
     ]
    },
    {
     "name": "stdout",
     "output_type": "stream",
     "text": [
      "512/512 [==============================] - 1s 3ms/step\n"
     ]
    },
    {
     "name": "stderr",
     "output_type": "stream",
     "text": [
      " 28%|███████████████████████▎                                                          | 25/88 [00:39<01:39,  1.59s/it]"
     ]
    },
    {
     "name": "stdout",
     "output_type": "stream",
     "text": [
      "512/512 [==============================] - 1s 2ms/step\n"
     ]
    },
    {
     "name": "stderr",
     "output_type": "stream",
     "text": [
      " 30%|████████████████████████▏                                                         | 26/88 [00:41<01:35,  1.55s/it]"
     ]
    },
    {
     "name": "stdout",
     "output_type": "stream",
     "text": [
      "512/512 [==============================] - 1s 3ms/step\n"
     ]
    },
    {
     "name": "stderr",
     "output_type": "stream",
     "text": [
      " 31%|█████████████████████████▏                                                        | 27/88 [00:42<01:37,  1.59s/it]"
     ]
    },
    {
     "name": "stdout",
     "output_type": "stream",
     "text": [
      "512/512 [==============================] - 1s 2ms/step\n"
     ]
    },
    {
     "name": "stderr",
     "output_type": "stream",
     "text": [
      " 32%|██████████████████████████                                                        | 28/88 [00:44<01:34,  1.57s/it]"
     ]
    },
    {
     "name": "stdout",
     "output_type": "stream",
     "text": [
      "512/512 [==============================] - 1s 3ms/step\n"
     ]
    },
    {
     "name": "stderr",
     "output_type": "stream",
     "text": [
      " 33%|███████████████████████████                                                       | 29/88 [00:46<01:32,  1.57s/it]"
     ]
    },
    {
     "name": "stdout",
     "output_type": "stream",
     "text": [
      "512/512 [==============================] - 1s 3ms/step\n"
     ]
    },
    {
     "name": "stderr",
     "output_type": "stream",
     "text": [
      " 34%|███████████████████████████▉                                                      | 30/88 [00:47<01:30,  1.56s/it]"
     ]
    },
    {
     "name": "stdout",
     "output_type": "stream",
     "text": [
      "512/512 [==============================] - 1s 2ms/step\n"
     ]
    },
    {
     "name": "stderr",
     "output_type": "stream",
     "text": [
      " 35%|████████████████████████████▉                                                     | 31/88 [00:49<01:27,  1.54s/it]"
     ]
    },
    {
     "name": "stdout",
     "output_type": "stream",
     "text": [
      "512/512 [==============================] - 1s 2ms/step\n"
     ]
    },
    {
     "name": "stderr",
     "output_type": "stream",
     "text": [
      " 36%|█████████████████████████████▊                                                    | 32/88 [00:50<01:24,  1.52s/it]"
     ]
    },
    {
     "name": "stdout",
     "output_type": "stream",
     "text": [
      "512/512 [==============================] - 1s 2ms/step\n"
     ]
    },
    {
     "name": "stderr",
     "output_type": "stream",
     "text": [
      " 38%|██████████████████████████████▊                                                   | 33/88 [00:51<01:23,  1.51s/it]"
     ]
    },
    {
     "name": "stdout",
     "output_type": "stream",
     "text": [
      "512/512 [==============================] - 1s 2ms/step\n"
     ]
    },
    {
     "name": "stderr",
     "output_type": "stream",
     "text": [
      " 39%|███████████████████████████████▋                                                  | 34/88 [00:53<01:21,  1.51s/it]"
     ]
    },
    {
     "name": "stdout",
     "output_type": "stream",
     "text": [
      "512/512 [==============================] - 1s 3ms/step\n"
     ]
    },
    {
     "name": "stderr",
     "output_type": "stream",
     "text": [
      " 40%|████████████████████████████████▌                                                 | 35/88 [00:55<01:20,  1.53s/it]"
     ]
    },
    {
     "name": "stdout",
     "output_type": "stream",
     "text": [
      "512/512 [==============================] - 1s 2ms/step\n"
     ]
    },
    {
     "name": "stderr",
     "output_type": "stream",
     "text": [
      " 41%|█████████████████████████████████▌                                                | 36/88 [00:56<01:19,  1.52s/it]"
     ]
    },
    {
     "name": "stdout",
     "output_type": "stream",
     "text": [
      "512/512 [==============================] - 1s 3ms/step\n"
     ]
    },
    {
     "name": "stderr",
     "output_type": "stream",
     "text": [
      " 42%|██████████████████████████████████▍                                               | 37/88 [00:58<01:18,  1.54s/it]"
     ]
    },
    {
     "name": "stdout",
     "output_type": "stream",
     "text": [
      "512/512 [==============================] - 1s 2ms/step\n"
     ]
    },
    {
     "name": "stderr",
     "output_type": "stream",
     "text": [
      " 43%|███████████████████████████████████▍                                              | 38/88 [00:59<01:16,  1.54s/it]"
     ]
    },
    {
     "name": "stdout",
     "output_type": "stream",
     "text": [
      "512/512 [==============================] - 1s 3ms/step\n"
     ]
    },
    {
     "name": "stderr",
     "output_type": "stream",
     "text": [
      " 44%|████████████████████████████████████▎                                             | 39/88 [01:01<01:15,  1.54s/it]"
     ]
    },
    {
     "name": "stdout",
     "output_type": "stream",
     "text": [
      "512/512 [==============================] - 1s 3ms/step\n"
     ]
    },
    {
     "name": "stderr",
     "output_type": "stream",
     "text": [
      " 45%|█████████████████████████████████████▎                                            | 40/88 [01:02<01:13,  1.54s/it]"
     ]
    },
    {
     "name": "stdout",
     "output_type": "stream",
     "text": [
      "512/512 [==============================] - 1s 2ms/step\n"
     ]
    },
    {
     "name": "stderr",
     "output_type": "stream",
     "text": [
      " 47%|██████████████████████████████████████▏                                           | 41/88 [01:04<01:11,  1.52s/it]"
     ]
    },
    {
     "name": "stdout",
     "output_type": "stream",
     "text": [
      "512/512 [==============================] - 1s 2ms/step\n"
     ]
    },
    {
     "name": "stderr",
     "output_type": "stream",
     "text": [
      " 48%|███████████████████████████████████████▏                                          | 42/88 [01:05<01:09,  1.51s/it]"
     ]
    },
    {
     "name": "stdout",
     "output_type": "stream",
     "text": [
      "512/512 [==============================] - 1s 3ms/step\n"
     ]
    },
    {
     "name": "stderr",
     "output_type": "stream",
     "text": [
      " 49%|████████████████████████████████████████                                          | 43/88 [01:07<01:09,  1.55s/it]"
     ]
    },
    {
     "name": "stdout",
     "output_type": "stream",
     "text": [
      "512/512 [==============================] - 1s 3ms/step\n"
     ]
    },
    {
     "name": "stderr",
     "output_type": "stream",
     "text": [
      " 50%|█████████████████████████████████████████                                         | 44/88 [01:08<01:07,  1.54s/it]"
     ]
    },
    {
     "name": "stdout",
     "output_type": "stream",
     "text": [
      "512/512 [==============================] - 1s 2ms/step\n"
     ]
    },
    {
     "name": "stderr",
     "output_type": "stream",
     "text": [
      " 51%|█████████████████████████████████████████▉                                        | 45/88 [01:10<01:06,  1.54s/it]"
     ]
    },
    {
     "name": "stdout",
     "output_type": "stream",
     "text": [
      "512/512 [==============================] - 1s 3ms/step\n"
     ]
    },
    {
     "name": "stderr",
     "output_type": "stream",
     "text": [
      " 52%|██████████████████████████████████████████▊                                       | 46/88 [01:11<01:04,  1.54s/it]"
     ]
    },
    {
     "name": "stdout",
     "output_type": "stream",
     "text": [
      "512/512 [==============================] - 1s 2ms/step\n"
     ]
    },
    {
     "name": "stderr",
     "output_type": "stream",
     "text": [
      " 53%|███████████████████████████████████████████▊                                      | 47/88 [01:13<01:02,  1.53s/it]"
     ]
    },
    {
     "name": "stdout",
     "output_type": "stream",
     "text": [
      "512/512 [==============================] - 1s 3ms/step\n"
     ]
    },
    {
     "name": "stderr",
     "output_type": "stream",
     "text": [
      " 55%|████████████████████████████████████████████▋                                     | 48/88 [01:15<01:01,  1.54s/it]"
     ]
    },
    {
     "name": "stdout",
     "output_type": "stream",
     "text": [
      "512/512 [==============================] - 1s 3ms/step\n"
     ]
    },
    {
     "name": "stderr",
     "output_type": "stream",
     "text": [
      " 56%|█████████████████████████████████████████████▋                                    | 49/88 [01:16<01:00,  1.55s/it]"
     ]
    },
    {
     "name": "stdout",
     "output_type": "stream",
     "text": [
      "512/512 [==============================] - 1s 2ms/step\n"
     ]
    },
    {
     "name": "stderr",
     "output_type": "stream",
     "text": [
      " 57%|██████████████████████████████████████████████▌                                   | 50/88 [01:18<00:58,  1.54s/it]"
     ]
    },
    {
     "name": "stdout",
     "output_type": "stream",
     "text": [
      "512/512 [==============================] - 1s 3ms/step\n"
     ]
    },
    {
     "name": "stderr",
     "output_type": "stream",
     "text": [
      " 58%|███████████████████████████████████████████████▌                                  | 51/88 [01:19<00:57,  1.54s/it]"
     ]
    },
    {
     "name": "stdout",
     "output_type": "stream",
     "text": [
      "512/512 [==============================] - 1s 3ms/step\n"
     ]
    },
    {
     "name": "stderr",
     "output_type": "stream",
     "text": [
      " 59%|████████████████████████████████████████████████▍                                 | 52/88 [01:21<00:55,  1.54s/it]"
     ]
    },
    {
     "name": "stdout",
     "output_type": "stream",
     "text": [
      "512/512 [==============================] - 1s 2ms/step\n"
     ]
    },
    {
     "name": "stderr",
     "output_type": "stream",
     "text": [
      " 60%|█████████████████████████████████████████████████▍                                | 53/88 [01:22<00:53,  1.54s/it]"
     ]
    },
    {
     "name": "stdout",
     "output_type": "stream",
     "text": [
      "512/512 [==============================] - 1s 3ms/step\n"
     ]
    },
    {
     "name": "stderr",
     "output_type": "stream",
     "text": [
      " 61%|██████████████████████████████████████████████████▎                               | 54/88 [01:24<00:52,  1.55s/it]"
     ]
    },
    {
     "name": "stdout",
     "output_type": "stream",
     "text": [
      "512/512 [==============================] - 1s 3ms/step\n"
     ]
    },
    {
     "name": "stderr",
     "output_type": "stream",
     "text": [
      " 62%|███████████████████████████████████████████████████▎                              | 55/88 [01:25<00:51,  1.55s/it]"
     ]
    },
    {
     "name": "stdout",
     "output_type": "stream",
     "text": [
      "512/512 [==============================] - 1s 3ms/step\n"
     ]
    },
    {
     "name": "stderr",
     "output_type": "stream",
     "text": [
      " 64%|████████████████████████████████████████████████████▏                             | 56/88 [01:27<00:49,  1.56s/it]"
     ]
    },
    {
     "name": "stdout",
     "output_type": "stream",
     "text": [
      "512/512 [==============================] - 1s 3ms/step\n"
     ]
    },
    {
     "name": "stderr",
     "output_type": "stream",
     "text": [
      " 65%|█████████████████████████████████████████████████████                             | 57/88 [01:29<00:48,  1.57s/it]"
     ]
    },
    {
     "name": "stdout",
     "output_type": "stream",
     "text": [
      "512/512 [==============================] - 1s 3ms/step\n"
     ]
    },
    {
     "name": "stderr",
     "output_type": "stream",
     "text": [
      " 66%|██████████████████████████████████████████████████████                            | 58/88 [01:30<00:46,  1.57s/it]"
     ]
    },
    {
     "name": "stdout",
     "output_type": "stream",
     "text": [
      "512/512 [==============================] - 1s 3ms/step\n"
     ]
    },
    {
     "name": "stderr",
     "output_type": "stream",
     "text": [
      " 67%|██████████████████████████████████████████████████████▉                           | 59/88 [01:32<00:45,  1.56s/it]"
     ]
    },
    {
     "name": "stdout",
     "output_type": "stream",
     "text": [
      "512/512 [==============================] - 1s 2ms/step\n"
     ]
    },
    {
     "name": "stderr",
     "output_type": "stream",
     "text": [
      " 68%|███████████████████████████████████████████████████████▉                          | 60/88 [01:33<00:43,  1.54s/it]"
     ]
    },
    {
     "name": "stdout",
     "output_type": "stream",
     "text": [
      "512/512 [==============================] - 1s 3ms/step\n"
     ]
    },
    {
     "name": "stderr",
     "output_type": "stream",
     "text": [
      " 69%|████████████████████████████████████████████████████████▊                         | 61/88 [01:35<00:41,  1.54s/it]"
     ]
    },
    {
     "name": "stdout",
     "output_type": "stream",
     "text": [
      "512/512 [==============================] - 1s 3ms/step\n"
     ]
    },
    {
     "name": "stderr",
     "output_type": "stream",
     "text": [
      " 70%|█████████████████████████████████████████████████████████▊                        | 62/88 [01:36<00:40,  1.56s/it]"
     ]
    },
    {
     "name": "stdout",
     "output_type": "stream",
     "text": [
      "512/512 [==============================] - 1s 3ms/step\n"
     ]
    },
    {
     "name": "stderr",
     "output_type": "stream",
     "text": [
      " 72%|██████████████████████████████████████████████████████████▋                       | 63/88 [01:38<00:38,  1.55s/it]"
     ]
    },
    {
     "name": "stdout",
     "output_type": "stream",
     "text": [
      "512/512 [==============================] - 1s 3ms/step\n"
     ]
    },
    {
     "name": "stderr",
     "output_type": "stream",
     "text": [
      " 73%|███████████████████████████████████████████████████████████▋                      | 64/88 [01:39<00:37,  1.56s/it]"
     ]
    },
    {
     "name": "stdout",
     "output_type": "stream",
     "text": [
      "512/512 [==============================] - 1s 3ms/step\n"
     ]
    },
    {
     "name": "stderr",
     "output_type": "stream",
     "text": [
      " 74%|████████████████████████████████████████████████████████████▌                     | 65/88 [01:41<00:35,  1.56s/it]"
     ]
    },
    {
     "name": "stdout",
     "output_type": "stream",
     "text": [
      "512/512 [==============================] - 1s 2ms/step\n"
     ]
    },
    {
     "name": "stderr",
     "output_type": "stream",
     "text": [
      " 75%|█████████████████████████████████████████████████████████████▌                    | 66/88 [01:43<00:34,  1.55s/it]"
     ]
    },
    {
     "name": "stdout",
     "output_type": "stream",
     "text": [
      "512/512 [==============================] - 3725s 7s/step\n"
     ]
    },
    {
     "name": "stderr",
     "output_type": "stream",
     "text": [
      " 76%|█████████████████████████████████████████████████████████▊                  | 67/88 [1:03:48<6:31:32, 1118.70s/it]"
     ]
    },
    {
     "name": "stdout",
     "output_type": "stream",
     "text": [
      "512/512 [==============================] - 2s 3ms/step\n"
     ]
    },
    {
     "name": "stderr",
     "output_type": "stream",
     "text": [
      " 77%|███████████████████████████████████████████████████████████▌                 | 68/88 [1:03:50<4:21:12, 783.62s/it]"
     ]
    },
    {
     "name": "stdout",
     "output_type": "stream",
     "text": [
      "512/512 [==============================] - 1s 3ms/step\n"
     ]
    },
    {
     "name": "stderr",
     "output_type": "stream",
     "text": [
      " 78%|████████████████████████████████████████████████████████████▍                | 69/88 [1:03:51<2:53:51, 549.02s/it]"
     ]
    },
    {
     "name": "stdout",
     "output_type": "stream",
     "text": [
      "512/512 [==============================] - 1s 3ms/step\n"
     ]
    },
    {
     "name": "stderr",
     "output_type": "stream",
     "text": [
      " 80%|█████████████████████████████████████████████████████████████▎               | 70/88 [1:03:53<1:55:26, 384.80s/it]"
     ]
    },
    {
     "name": "stdout",
     "output_type": "stream",
     "text": [
      "512/512 [==============================] - 1s 2ms/step\n"
     ]
    },
    {
     "name": "stderr",
     "output_type": "stream",
     "text": [
      " 81%|██████████████████████████████████████████████████████████████               | 71/88 [1:03:54<1:16:26, 269.82s/it]"
     ]
    },
    {
     "name": "stdout",
     "output_type": "stream",
     "text": [
      "512/512 [==============================] - 1s 3ms/step\n"
     ]
    },
    {
     "name": "stderr",
     "output_type": "stream",
     "text": [
      " 82%|████████████████████████████████████████████████████████████████▋              | 72/88 [1:03:56<50:29, 189.34s/it]"
     ]
    },
    {
     "name": "stdout",
     "output_type": "stream",
     "text": [
      "512/512 [==============================] - 1s 2ms/step\n"
     ]
    },
    {
     "name": "stderr",
     "output_type": "stream",
     "text": [
      " 83%|█████████████████████████████████████████████████████████████████▌             | 73/88 [1:03:58<33:14, 132.99s/it]"
     ]
    },
    {
     "name": "stdout",
     "output_type": "stream",
     "text": [
      "512/512 [==============================] - 1s 3ms/step\n"
     ]
    },
    {
     "name": "stderr",
     "output_type": "stream",
     "text": [
      " 84%|███████████████████████████████████████████████████████████████████▎            | 74/88 [1:03:59<21:49, 93.56s/it]"
     ]
    },
    {
     "name": "stdout",
     "output_type": "stream",
     "text": [
      "512/512 [==============================] - 1s 3ms/step\n"
     ]
    },
    {
     "name": "stderr",
     "output_type": "stream",
     "text": [
      " 85%|████████████████████████████████████████████████████████████████████▏           | 75/88 [1:04:01<14:17, 65.97s/it]"
     ]
    },
    {
     "name": "stdout",
     "output_type": "stream",
     "text": [
      "512/512 [==============================] - 1s 3ms/step\n"
     ]
    },
    {
     "name": "stderr",
     "output_type": "stream",
     "text": [
      " 86%|█████████████████████████████████████████████████████████████████████           | 76/88 [1:04:02<09:19, 46.65s/it]"
     ]
    },
    {
     "name": "stdout",
     "output_type": "stream",
     "text": [
      "512/512 [==============================] - 1s 3ms/step\n"
     ]
    },
    {
     "name": "stderr",
     "output_type": "stream",
     "text": [
      " 88%|██████████████████████████████████████████████████████████████████████          | 77/88 [1:04:04<06:04, 33.14s/it]"
     ]
    },
    {
     "name": "stdout",
     "output_type": "stream",
     "text": [
      "512/512 [==============================] - 1s 3ms/step\n"
     ]
    },
    {
     "name": "stderr",
     "output_type": "stream",
     "text": [
      " 89%|██████████████████████████████████████████████████████████████████████▉         | 78/88 [1:04:05<03:56, 23.66s/it]"
     ]
    },
    {
     "name": "stdout",
     "output_type": "stream",
     "text": [
      "512/512 [==============================] - 1s 3ms/step\n"
     ]
    },
    {
     "name": "stderr",
     "output_type": "stream",
     "text": [
      " 90%|███████████████████████████████████████████████████████████████████████▊        | 79/88 [1:04:07<02:33, 17.02s/it]"
     ]
    },
    {
     "name": "stdout",
     "output_type": "stream",
     "text": [
      "512/512 [==============================] - 1s 3ms/step\n"
     ]
    },
    {
     "name": "stderr",
     "output_type": "stream",
     "text": [
      " 91%|████████████████████████████████████████████████████████████████████████▋       | 80/88 [1:04:08<01:38, 12.37s/it]"
     ]
    },
    {
     "name": "stdout",
     "output_type": "stream",
     "text": [
      "512/512 [==============================] - 1s 3ms/step\n"
     ]
    },
    {
     "name": "stderr",
     "output_type": "stream",
     "text": [
      " 92%|█████████████████████████████████████████████████████████████████████████▋      | 81/88 [1:04:10<01:03,  9.13s/it]"
     ]
    },
    {
     "name": "stdout",
     "output_type": "stream",
     "text": [
      "512/512 [==============================] - 1s 3ms/step\n"
     ]
    },
    {
     "name": "stderr",
     "output_type": "stream",
     "text": [
      " 93%|██████████████████████████████████████████████████████████████████████████▌     | 82/88 [1:04:12<00:41,  6.86s/it]"
     ]
    },
    {
     "name": "stdout",
     "output_type": "stream",
     "text": [
      "512/512 [==============================] - 1s 2ms/step\n"
     ]
    },
    {
     "name": "stderr",
     "output_type": "stream",
     "text": [
      " 94%|███████████████████████████████████████████████████████████████████████████▍    | 83/88 [1:04:13<00:26,  5.25s/it]"
     ]
    },
    {
     "name": "stdout",
     "output_type": "stream",
     "text": [
      "512/512 [==============================] - 1s 3ms/step\n"
     ]
    },
    {
     "name": "stderr",
     "output_type": "stream",
     "text": [
      " 95%|████████████████████████████████████████████████████████████████████████████▎   | 84/88 [1:04:15<00:16,  4.14s/it]"
     ]
    },
    {
     "name": "stdout",
     "output_type": "stream",
     "text": [
      "512/512 [==============================] - 1s 2ms/step\n"
     ]
    },
    {
     "name": "stderr",
     "output_type": "stream",
     "text": [
      " 97%|█████████████████████████████████████████████████████████████████████████████▎  | 85/88 [1:04:16<00:10,  3.34s/it]"
     ]
    },
    {
     "name": "stdout",
     "output_type": "stream",
     "text": [
      "512/512 [==============================] - 1s 3ms/step\n"
     ]
    },
    {
     "name": "stderr",
     "output_type": "stream",
     "text": [
      " 98%|██████████████████████████████████████████████████████████████████████████████▏ | 86/88 [1:04:18<00:05,  2.81s/it]"
     ]
    },
    {
     "name": "stdout",
     "output_type": "stream",
     "text": [
      "512/512 [==============================] - 1s 2ms/step\n"
     ]
    },
    {
     "name": "stderr",
     "output_type": "stream",
     "text": [
      " 99%|███████████████████████████████████████████████████████████████████████████████ | 87/88 [1:04:19<00:02,  2.41s/it]"
     ]
    },
    {
     "name": "stdout",
     "output_type": "stream",
     "text": [
      "512/512 [==============================] - 1s 2ms/step\n"
     ]
    },
    {
     "name": "stderr",
     "output_type": "stream",
     "text": [
      "100%|████████████████████████████████████████████████████████████████████████████████| 88/88 [1:04:21<00:00, 43.88s/it]\n"
     ]
    },
    {
     "name": "stdout",
     "output_type": "stream",
     "text": [
      "CPU times: total: 3min 6s\n",
      "Wall time: 1h 4min 24s\n"
     ]
    }
   ],
   "source": [
    "%%time\n",
    "e1 = Evaluation(model, datagen_test)\n",
    "e1.predict()"
   ]
  },
  {
   "cell_type": "code",
   "execution_count": 13,
   "id": "5b0b7368-4c08-4ef4-8c65-e5a96a8f65a7",
   "metadata": {},
   "outputs": [
    {
     "data": {
      "text/html": [
       "<div>\n",
       "<style scoped>\n",
       "    .dataframe tbody tr th:only-of-type {\n",
       "        vertical-align: middle;\n",
       "    }\n",
       "\n",
       "    .dataframe tbody tr th {\n",
       "        vertical-align: top;\n",
       "    }\n",
       "\n",
       "    .dataframe thead th {\n",
       "        text-align: right;\n",
       "    }\n",
       "</style>\n",
       "<table border=\"1\" class=\"dataframe\">\n",
       "  <thead>\n",
       "    <tr style=\"text-align: right;\">\n",
       "      <th></th>\n",
       "      <th>precision</th>\n",
       "      <th>recall</th>\n",
       "      <th>MCC</th>\n",
       "      <th>F1</th>\n",
       "      <th>accuracy</th>\n",
       "      <th>IoU</th>\n",
       "    </tr>\n",
       "  </thead>\n",
       "  <tbody>\n",
       "    <tr>\n",
       "      <th>0</th>\n",
       "      <td>0.930729</td>\n",
       "      <td>0.807042</td>\n",
       "      <td>0.85215</td>\n",
       "      <td>0.864484</td>\n",
       "      <td>0.972852</td>\n",
       "      <td>0.761313</td>\n",
       "    </tr>\n",
       "  </tbody>\n",
       "</table>\n",
       "</div>"
      ],
      "text/plain": [
       "   precision    recall      MCC        F1  accuracy       IoU\n",
       "0   0.930729  0.807042  0.85215  0.864484  0.972852  0.761313"
      ]
     },
     "execution_count": 13,
     "metadata": {},
     "output_type": "execute_result"
    }
   ],
   "source": [
    "e1.eval_()"
   ]
  },
  {
   "cell_type": "code",
   "execution_count": 14,
   "id": "e76acfc0-fb90-400f-a731-cc1689f64809",
   "metadata": {},
   "outputs": [],
   "source": [
    "e1.eval_().to_json(os.path.join(\"result\", \"metrique_BiLSTM.json\"))"
   ]
  },
  {
   "cell_type": "code",
   "execution_count": 15,
   "id": "bb2d1e54",
   "metadata": {},
   "outputs": [
    {
     "name": "stderr",
     "output_type": "stream",
     "text": [
      "WARNING:absl:Found untraced functions such as lstm_cell_2_layer_call_fn, lstm_cell_2_layer_call_and_return_conditional_losses, lstm_cell_1_layer_call_fn, lstm_cell_1_layer_call_and_return_conditional_losses while saving (showing 4 of 4). These functions will not be directly callable after loading.\n"
     ]
    },
    {
     "name": "stdout",
     "output_type": "stream",
     "text": [
      "INFO:tensorflow:Assets written to: Model\\BiLSTM\\assets\n"
     ]
    },
    {
     "name": "stderr",
     "output_type": "stream",
     "text": [
      "INFO:tensorflow:Assets written to: Model\\BiLSTM\\assets\n"
     ]
    }
   ],
   "source": [
    "model.save(MODEL_PATH)"
   ]
  },
  {
   "cell_type": "code",
   "execution_count": null,
   "id": "441050ba",
   "metadata": {},
   "outputs": [],
   "source": []
  },
  {
   "cell_type": "code",
   "execution_count": null,
   "id": "9d7e1f66",
   "metadata": {},
   "outputs": [],
   "source": []
  }
 ],
 "metadata": {
  "kernelspec": {
   "display_name": "Python 3 (ipykernel)",
   "language": "python",
   "name": "python3"
  },
  "language_info": {
   "codemirror_mode": {
    "name": "ipython",
    "version": 3
   },
   "file_extension": ".py",
   "mimetype": "text/x-python",
   "name": "python",
   "nbconvert_exporter": "python",
   "pygments_lexer": "ipython3",
   "version": "3.9.0"
  }
 },
 "nbformat": 4,
 "nbformat_minor": 5
}
