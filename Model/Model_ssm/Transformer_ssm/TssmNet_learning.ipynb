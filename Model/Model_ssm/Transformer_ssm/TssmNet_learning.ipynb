{
 "cells": [
  {
   "cell_type": "code",
   "execution_count": 1,
   "id": "32aed6ee",
   "metadata": {},
   "outputs": [],
   "source": [
    "import tensorflow as tf \n",
    "import os\n",
    "from Script.DataGenerator import DataGenerator\n",
    "from Script.Metrics_Evaluation import Evaluation\n",
    "from TssmNet import TssmNet, generate_input\n",
    "import matplotlib.pyplot as plt\n",
    "import pandas as pd\n",
    "import shutil"
   ]
  },
  {
   "cell_type": "code",
   "execution_count": 2,
   "id": "5ada3e97",
   "metadata": {},
   "outputs": [
    {
     "name": "stdout",
     "output_type": "stream",
     "text": [
      "Running on GPU\n"
     ]
    }
   ],
   "source": [
    "gpus =tf.config.list_physical_devices('GPU')\n",
    "if len(gpus):\n",
    "    print(\"Running on GPU\")\n",
    "    tf.config.set_visible_devices(gpus[0], 'GPU')\n",
    "else :\n",
    "    print(\"Running on CPU\")"
   ]
  },
  {
   "cell_type": "code",
   "execution_count": 3,
   "id": "5fadcd72",
   "metadata": {},
   "outputs": [],
   "source": [
    "BATCH_SIZE = 16384\n",
    "EPOCH = 50\n",
    "ABC2 = os.path.join(\"..\", \"..\", \"ABC2\", \"ABC_ssm\")\n",
    "DATA_PATH = os.path.join(ABC2, \"Train\")\n",
    "VALIDATION_PATH = os.path.join(ABC2, \"Validation\")\n",
    "TEST_PATH = os.path.join(ABC2, \"Test\")\n",
    "MODEL_PATH = os.path.join(\"Model\", \"TSSM\")"
   ]
  },
  {
   "cell_type": "code",
   "execution_count": 4,
   "id": "dd60a4c5",
   "metadata": {},
   "outputs": [],
   "source": [
    "datagen_train = DataGenerator(DATA_PATH, generate_input, batch_size=BATCH_SIZE, split=1, extension=\"_.ssm.npy\")\n",
    "datagen_validation = DataGenerator(VALIDATION_PATH, generate_input, batch_size=BATCH_SIZE, split=1, extension=\"_.ssm.npy\")"
   ]
  },
  {
   "cell_type": "code",
   "execution_count": 5,
   "id": "673102f0",
   "metadata": {},
   "outputs": [],
   "source": [
    "model =  TssmNet(h=4, d_k=128, d_v=128, d_ff=128, d_model=datagen_train.get_input_shape()[2], n=1).build()"
   ]
  },
  {
   "cell_type": "code",
   "execution_count": 6,
   "id": "5555f3d9",
   "metadata": {},
   "outputs": [
    {
     "name": "stdout",
     "output_type": "stream",
     "text": [
      "Model: \"model\"\n",
      "_________________________________________________________________\n",
      " Layer (type)                Output Shape              Param #   \n",
      "=================================================================\n",
      " input_1 (InputLayer)        [(None, 16, 6)]           0         \n",
      "                                                                 \n",
      " encoder (Encoder)           (None, 16, 6)             15524     \n",
      "                                                                 \n",
      " flatten (Flatten)           (None, 96)                0         \n",
      "                                                                 \n",
      " dense_2 (Dense)             (None, 1)                 97        \n",
      "                                                                 \n",
      "=================================================================\n",
      "Total params: 15,621\n",
      "Trainable params: 15,621\n",
      "Non-trainable params: 0\n",
      "_________________________________________________________________\n"
     ]
    }
   ],
   "source": [
    "model.summary()"
   ]
  },
  {
   "cell_type": "code",
   "execution_count": 7,
   "id": "9ea7da0e",
   "metadata": {
    "scrolled": true
   },
   "outputs": [
    {
     "data": {
      "image/png": "[encoded data removed]",
      "text/plain": [
       "<IPython.core.display.Image object>"
      ]
     },
     "execution_count": 7,
     "metadata": {},
     "output_type": "execute_result"
    }
   ],
   "source": [
    "tf.keras.utils.plot_model(model, to_file=os.path.join(\"result\",\"model_multi-head_attention.png\"), show_layer_names=False,  show_shapes=True)"
   ]
  },
  {
   "cell_type": "code",
   "execution_count": 8,
   "id": "d33921aa",
   "metadata": {},
   "outputs": [],
   "source": [
    "metrics = [\"accuracy\", tf.keras.metrics.Precision(thresholds=0.5), tf.keras.metrics.Recall(thresholds=0.5)]"
   ]
  },
  {
   "cell_type": "code",
   "execution_count": 9,
   "id": "f145ef2a",
   "metadata": {},
   "outputs": [],
   "source": [
    "model.compile(optimizer=tf.keras.optimizers.Adam(), loss=tf.keras.losses.binary_crossentropy, metrics=metrics)"
   ]
  },
  {
   "cell_type": "code",
   "execution_count": 10,
   "id": "35f68e7d",
   "metadata": {
    "scrolled": true
   },
   "outputs": [
    {
     "name": "stdout",
     "output_type": "stream",
     "text": [
      "Epoch 1/50\n",
      "235/235 [==============================] - 37s 151ms/step - loss: 0.3725 - accuracy: 0.8532 - precision: 0.1865 - recall: 0.0903 - val_loss: 0.2991 - val_accuracy: 0.9088 - val_precision: 0.0135 - val_recall: 5.1693e-05 - lr: 0.0010\n",
      "Epoch 2/50\n",
      "235/235 [==============================] - 35s 150ms/step - loss: 0.3048 - accuracy: 0.8889 - precision: 0.4731 - recall: 0.1125 - val_loss: 0.1800 - val_accuracy: 0.9378 - val_precision: 0.9072 - val_recall: 0.1556 - lr: 0.0010\n",
      "Epoch 3/50\n",
      "235/235 [==============================] - 35s 150ms/step - loss: 0.2895 - accuracy: 0.8928 - precision: 0.6414 - recall: 0.2607 - val_loss: 0.1688 - val_accuracy: 0.9364 - val_precision: 0.9604 - val_recall: 0.2654 - lr: 0.0010\n",
      "Epoch 4/50\n",
      "235/235 [==============================] - 35s 150ms/step - loss: 0.2500 - accuracy: 0.9069 - precision: 0.6838 - recall: 0.3414 - val_loss: 0.1389 - val_accuracy: 0.9536 - val_precision: 0.9255 - val_recall: 0.4237 - lr: 0.0010\n",
      "Epoch 5/50\n",
      "235/235 [==============================] - 35s 150ms/step - loss: 0.2280 - accuracy: 0.9148 - precision: 0.7370 - recall: 0.4067 - val_loss: 0.1601 - val_accuracy: 0.9400 - val_precision: 0.8667 - val_recall: 0.3507 - lr: 0.0010\n",
      "Epoch 6/50\n",
      "235/235 [==============================] - 35s 150ms/step - loss: 0.2142 - accuracy: 0.9192 - precision: 0.7448 - recall: 0.4632 - val_loss: 0.1311 - val_accuracy: 0.9554 - val_precision: 0.7516 - val_recall: 0.6132 - lr: 0.0010\n",
      "Epoch 7/50\n",
      "235/235 [==============================] - 35s 150ms/step - loss: 0.2336 - accuracy: 0.9130 - precision: 0.7468 - recall: 0.4476 - val_loss: 0.1581 - val_accuracy: 0.9470 - val_precision: 0.8752 - val_recall: 0.5057 - lr: 0.0010\n",
      "Epoch 8/50\n",
      "235/235 [==============================] - 35s 149ms/step - loss: 0.2079 - accuracy: 0.9201 - precision: 0.7546 - recall: 0.4811 - val_loss: 0.1192 - val_accuracy: 0.9558 - val_precision: 0.9547 - val_recall: 0.4047 - lr: 0.0010\n",
      "Epoch 9/50\n",
      "235/235 [==============================] - 35s 150ms/step - loss: 0.2091 - accuracy: 0.9220 - precision: 0.7879 - recall: 0.4541 - val_loss: 0.1214 - val_accuracy: 0.9539 - val_precision: 0.7893 - val_recall: 0.6957 - lr: 0.0010\n",
      "Epoch 10/50\n",
      "235/235 [==============================] - 35s 150ms/step - loss: 0.1872 - accuracy: 0.9272 - precision: 0.7690 - recall: 0.4770 - val_loss: 0.0975 - val_accuracy: 0.9643 - val_precision: 0.9147 - val_recall: 0.6766 - lr: 0.0010\n",
      "Epoch 11/50\n",
      "235/235 [==============================] - 36s 152ms/step - loss: 0.1629 - accuracy: 0.9385 - precision: 0.8248 - recall: 0.5738 - val_loss: 0.0839 - val_accuracy: 0.9692 - val_precision: 0.8933 - val_recall: 0.6852 - lr: 0.0010\n",
      "Epoch 12/50\n",
      "235/235 [==============================] - 35s 151ms/step - loss: 0.1817 - accuracy: 0.9312 - precision: 0.7920 - recall: 0.5624 - val_loss: 0.1023 - val_accuracy: 0.9643 - val_precision: 0.7956 - val_recall: 0.7166 - lr: 0.0010\n",
      "Epoch 13/50\n",
      "235/235 [==============================] - 36s 153ms/step - loss: 0.1736 - accuracy: 0.9372 - precision: 0.8219 - recall: 0.5886 - val_loss: 0.1047 - val_accuracy: 0.9651 - val_precision: 0.9042 - val_recall: 0.7362 - lr: 0.0010\n",
      "Epoch 14/50\n",
      "235/235 [==============================] - 35s 150ms/step - loss: 0.1605 - accuracy: 0.9402 - precision: 0.8155 - recall: 0.6413 - val_loss: 0.1361 - val_accuracy: 0.9432 - val_precision: 0.5908 - val_recall: 0.8285 - lr: 0.0010\n",
      "Epoch 15/50\n",
      "235/235 [==============================] - 35s 150ms/step - loss: 0.1674 - accuracy: 0.9375 - precision: 0.8062 - recall: 0.6072 - val_loss: 0.1077 - val_accuracy: 0.9607 - val_precision: 0.7964 - val_recall: 0.7062 - lr: 0.0010\n",
      "Epoch 16/50\n",
      "235/235 [==============================] - 35s 150ms/step - loss: 0.1618 - accuracy: 0.9401 - precision: 0.8246 - recall: 0.6229 - val_loss: 0.0968 - val_accuracy: 0.9685 - val_precision: 0.7965 - val_recall: 0.8080 - lr: 0.0010\n",
      "Epoch 17/50\n",
      "235/235 [==============================] - 35s 149ms/step - loss: 0.1535 - accuracy: 0.9446 - precision: 0.8073 - recall: 0.6627 - val_loss: 0.0662 - val_accuracy: 0.9771 - val_precision: 0.8976 - val_recall: 0.7126 - lr: 0.0010\n",
      "Epoch 18/50\n",
      "235/235 [==============================] - 35s 149ms/step - loss: 0.1502 - accuracy: 0.9458 - precision: 0.8304 - recall: 0.6387 - val_loss: 0.0845 - val_accuracy: 0.9722 - val_precision: 0.9149 - val_recall: 0.7971 - lr: 0.0010\n",
      "Epoch 19/50\n",
      "235/235 [==============================] - 35s 149ms/step - loss: 0.1498 - accuracy: 0.9456 - precision: 0.8321 - recall: 0.6622 - val_loss: 0.0918 - val_accuracy: 0.9654 - val_precision: 0.8456 - val_recall: 0.8049 - lr: 0.0010\n",
      "Epoch 20/50\n",
      "235/235 [==============================] - 35s 149ms/step - loss: 0.1482 - accuracy: 0.9441 - precision: 0.8361 - recall: 0.6694 - val_loss: 0.1669 - val_accuracy: 0.9296 - val_precision: 0.6482 - val_recall: 0.8470 - lr: 0.0010\n",
      "Epoch 21/50\n",
      "235/235 [==============================] - 35s 149ms/step - loss: 0.1445 - accuracy: 0.9478 - precision: 0.8285 - recall: 0.6769 - val_loss: 0.0586 - val_accuracy: 0.9816 - val_precision: 0.9282 - val_recall: 0.8890 - lr: 0.0010\n",
      "Epoch 22/50\n",
      "235/235 [==============================] - 35s 150ms/step - loss: 0.1499 - accuracy: 0.9454 - precision: 0.8008 - recall: 0.6740 - val_loss: 0.1119 - val_accuracy: 0.9512 - val_precision: 0.6703 - val_recall: 0.6913 - lr: 0.0010\n",
      "Epoch 23/50\n",
      "235/235 [==============================] - 35s 149ms/step - loss: 0.1539 - accuracy: 0.9426 - precision: 0.8278 - recall: 0.6609 - val_loss: 0.0900 - val_accuracy: 0.9649 - val_precision: 0.9065 - val_recall: 0.6156 - lr: 0.0010\n",
      "Epoch 24/50\n",
      "235/235 [==============================] - 35s 149ms/step - loss: 0.1491 - accuracy: 0.9457 - precision: 0.8333 - recall: 0.6750 - val_loss: 0.0741 - val_accuracy: 0.9734 - val_precision: 0.9288 - val_recall: 0.7101 - lr: 0.0010\n",
      "Epoch 25/50\n",
      "235/235 [==============================] - 35s 149ms/step - loss: 0.1477 - accuracy: 0.9469 - precision: 0.8314 - recall: 0.6700 - val_loss: 0.0934 - val_accuracy: 0.9679 - val_precision: 0.9080 - val_recall: 0.7227 - lr: 0.0010\n",
      "Epoch 26/50\n",
      "235/235 [==============================] - 35s 149ms/step - loss: 0.1502 - accuracy: 0.9441 - precision: 0.8132 - recall: 0.6817 - val_loss: 0.0583 - val_accuracy: 0.9795 - val_precision: 0.9002 - val_recall: 0.7819 - lr: 0.0010\n",
      "Epoch 27/50\n",
      "235/235 [==============================] - 35s 151ms/step - loss: 0.1481 - accuracy: 0.9471 - precision: 0.8264 - recall: 0.6803 - val_loss: 0.0831 - val_accuracy: 0.9693 - val_precision: 0.8915 - val_recall: 0.7750 - lr: 0.0010\n",
      "Epoch 28/50\n",
      "235/235 [==============================] - 36s 151ms/step - loss: 0.1495 - accuracy: 0.9486 - precision: 0.8430 - recall: 0.6680 - val_loss: 0.0855 - val_accuracy: 0.9729 - val_precision: 0.9194 - val_recall: 0.7498 - lr: 0.0010\n",
      "Epoch 29/50\n",
      "235/235 [==============================] - 35s 151ms/step - loss: 0.1422 - accuracy: 0.9486 - precision: 0.8564 - recall: 0.6934 - val_loss: 0.1025 - val_accuracy: 0.9632 - val_precision: 0.7229 - val_recall: 0.8944 - lr: 0.0010\n",
      "Epoch 30/50\n",
      "235/235 [==============================] - 35s 150ms/step - loss: 0.1538 - accuracy: 0.9442 - precision: 0.8118 - recall: 0.6646 - val_loss: 0.0921 - val_accuracy: 0.9665 - val_precision: 0.8182 - val_recall: 0.7547 - lr: 0.0010\n",
      "Epoch 31/50\n",
      "235/235 [==============================] - 35s 151ms/step - loss: 0.1309 - accuracy: 0.9532 - precision: 0.8453 - recall: 0.6980 - val_loss: 0.0721 - val_accuracy: 0.9755 - val_precision: 0.9368 - val_recall: 0.7463 - lr: 0.0010\n",
      "Epoch 32/50\n",
      "235/235 [==============================] - 36s 151ms/step - loss: 0.1291 - accuracy: 0.9555 - precision: 0.8485 - recall: 0.6876 - val_loss: 0.0540 - val_accuracy: 0.9839 - val_precision: 0.9334 - val_recall: 0.8825 - lr: 0.0010\n",
      "Epoch 33/50\n",
      "235/235 [==============================] - 35s 149ms/step - loss: 0.1437 - accuracy: 0.9480 - precision: 0.8381 - recall: 0.6879 - val_loss: 0.0639 - val_accuracy: 0.9803 - val_precision: 0.9288 - val_recall: 0.8203 - lr: 0.0010\n",
      "Epoch 34/50\n",
      "235/235 [==============================] - 35s 149ms/step - loss: 0.1352 - accuracy: 0.9502 - precision: 0.8645 - recall: 0.7064 - val_loss: 0.1055 - val_accuracy: 0.9604 - val_precision: 0.7908 - val_recall: 0.8420 - lr: 0.0010\n",
      "Epoch 35/50\n",
      "235/235 [==============================] - 35s 149ms/step - loss: 0.1793 - accuracy: 0.9318 - precision: 0.7700 - recall: 0.6378 - val_loss: 0.0548 - val_accuracy: 0.9823 - val_precision: 0.9343 - val_recall: 0.8270 - lr: 0.0010\n",
      "Epoch 36/50\n",
      "235/235 [==============================] - 35s 150ms/step - loss: 0.1369 - accuracy: 0.9517 - precision: 0.8479 - recall: 0.7122 - val_loss: 0.0579 - val_accuracy: 0.9826 - val_precision: 0.8865 - val_recall: 0.8838 - lr: 0.0010\n",
      "Epoch 37/50\n",
      "235/235 [==============================] - 35s 151ms/step - loss: 0.1365 - accuracy: 0.9506 - precision: 0.8400 - recall: 0.6898 - val_loss: 0.0568 - val_accuracy: 0.9828 - val_precision: 0.9252 - val_recall: 0.8733 - lr: 0.0010\n",
      "Epoch 38/50\n",
      "235/235 [==============================] - 35s 151ms/step - loss: 0.1413 - accuracy: 0.9486 - precision: 0.8404 - recall: 0.6849 - val_loss: 0.0553 - val_accuracy: 0.9837 - val_precision: 0.9808 - val_recall: 0.8713 - lr: 0.0010\n",
      "Epoch 39/50\n",
      "235/235 [==============================] - 35s 149ms/step - loss: 0.1218 - accuracy: 0.9560 - precision: 0.8484 - recall: 0.7157 - val_loss: 0.0813 - val_accuracy: 0.9733 - val_precision: 0.8849 - val_recall: 0.7635 - lr: 0.0010\n",
      "Epoch 40/50\n",
      "235/235 [==============================] - 35s 149ms/step - loss: 0.1297 - accuracy: 0.9548 - precision: 0.8538 - recall: 0.7035 - val_loss: 0.0583 - val_accuracy: 0.9808 - val_precision: 0.8779 - val_recall: 0.8044 - lr: 0.0010\n",
      "Epoch 41/50\n",
      "235/235 [==============================] - 35s 149ms/step - loss: 0.1475 - accuracy: 0.9453 - precision: 0.8361 - recall: 0.6945 - val_loss: 0.0689 - val_accuracy: 0.9764 - val_precision: 0.9284 - val_recall: 0.7922 - lr: 0.0010\n",
      "Epoch 42/50\n",
      "235/235 [==============================] - 35s 151ms/step - loss: 0.1119 - accuracy: 0.9606 - precision: 0.8724 - recall: 0.7399 - val_loss: 0.0645 - val_accuracy: 0.9792 - val_precision: 0.9076 - val_recall: 0.8562 - lr: 0.0010\n",
      "Epoch 43/50\n",
      "235/235 [==============================] - 35s 149ms/step - loss: 0.1196 - accuracy: 0.9567 - precision: 0.8716 - recall: 0.7281 - val_loss: 0.0475 - val_accuracy: 0.9873 - val_precision: 0.9375 - val_recall: 0.8768 - lr: 1.6573e-05\n",
      "Epoch 44/50\n",
      "235/235 [==============================] - 35s 149ms/step - loss: 0.1192 - accuracy: 0.9567 - precision: 0.8592 - recall: 0.7273 - val_loss: 0.0393 - val_accuracy: 0.9898 - val_precision: 0.9656 - val_recall: 0.8802 - lr: 1.6573e-05\n",
      "Epoch 45/50\n",
      "235/235 [==============================] - 35s 149ms/step - loss: 0.1270 - accuracy: 0.9541 - precision: 0.8643 - recall: 0.7173 - val_loss: 0.0791 - val_accuracy: 0.9741 - val_precision: 0.8693 - val_recall: 0.8038 - lr: 1.6573e-05\n",
      "Epoch 46/50\n",
      "235/235 [==============================] - 35s 149ms/step - loss: 0.1286 - accuracy: 0.9538 - precision: 0.8648 - recall: 0.7182 - val_loss: 0.0638 - val_accuracy: 0.9789 - val_precision: 0.9044 - val_recall: 0.8428 - lr: 1.6573e-05\n",
      "Epoch 47/50\n",
      "235/235 [==============================] - 35s 150ms/step - loss: 0.1181 - accuracy: 0.9574 - precision: 0.8758 - recall: 0.7238 - val_loss: 0.0462 - val_accuracy: 0.9865 - val_precision: 0.9463 - val_recall: 0.9035 - lr: 1.6573e-05\n",
      "Epoch 48/50\n",
      "235/235 [==============================] - 35s 149ms/step - loss: 0.1126 - accuracy: 0.9609 - precision: 0.8880 - recall: 0.7591 - val_loss: 0.0737 - val_accuracy: 0.9749 - val_precision: 0.8884 - val_recall: 0.7949 - lr: 1.6573e-05\n",
      "Epoch 49/50\n",
      "235/235 [==============================] - 35s 150ms/step - loss: 0.1212 - accuracy: 0.9564 - precision: 0.8806 - recall: 0.7270 - val_loss: 0.0774 - val_accuracy: 0.9744 - val_precision: 0.8595 - val_recall: 0.7888 - lr: 1.6573e-05\n",
      "Epoch 50/50\n",
      "235/235 [==============================] - 36s 151ms/step - loss: 0.1127 - accuracy: 0.9607 - precision: 0.8812 - recall: 0.7392 - val_loss: 0.0809 - val_accuracy: 0.9727 - val_precision: 0.8434 - val_recall: 0.7906 - lr: 1.6573e-05\n",
      "CPU times: total: 31min 36s\n",
      "Wall time: 29min 23s\n"
     ]
    }
   ],
   "source": [
    "%%time\n",
    "hist = model.fit(datagen_train, validation_data=datagen_validation, epochs=EPOCH,\n",
    "         callbacks= [tf.keras.callbacks.ReduceLROnPlateau(factor=tf.math.exp(-4.1), patience=int(EPOCH*2/10), min_lr=0.0000001)])"
   ]
  },
  {
   "cell_type": "code",
   "execution_count": 11,
   "id": "9381fd01",
   "metadata": {},
   "outputs": [
    {
     "data": {
      "text/plain": [
       "<Figure size 1000x500 with 0 Axes>"
      ]
     },
     "metadata": {},
     "output_type": "display_data"
    },
    {
     "data": {
      "image/png": "[encoded data removed]",
      "text/plain": [
       "<Figure size 640x480 with 1 Axes>"
      ]
     },
     "metadata": {},
     "output_type": "display_data"
    }
   ],
   "source": [
    "history_df = pd.DataFrame(hist.history)\n",
    "plt.figure(figsize=(10, 5))\n",
    "history_df[['loss', 'accuracy', 'precision', 'recall', 'lr']].plot()\n",
    "plt.title('Training Loss and metrics')\n",
    "plt.xlabel('Epoch')\n",
    "plt.ylabel('Value')\n",
    "plt.legend(loc='upper right')\n",
    "plt.savefig(os.path.join(\"result\", \"model_multi-head_attention_plot.png\"))\n",
    "plt.show()\n"
   ]
  },
  {
   "cell_type": "markdown",
   "id": "c653ae54",
   "metadata": {},
   "source": [
    "# Evaluate"
   ]
  },
  {
   "cell_type": "code",
   "execution_count": 12,
   "id": "4c17719d-9965-4527-9585-e30c937ad94d",
   "metadata": {},
   "outputs": [],
   "source": [
    "datagen_test = DataGenerator(TEST_PATH, generate_input, batch_size=BATCH_SIZE, split=1, extension=\"_.ssm.npy\")"
   ]
  },
  {
   "cell_type": "code",
   "execution_count": 13,
   "id": "364315ef",
   "metadata": {
    "scrolled": true
   },
   "outputs": [
    {
     "name": "stdout",
     "output_type": "stream",
     "text": [
      "Running on GPU\n"
     ]
    },
    {
     "name": "stderr",
     "output_type": "stream",
     "text": [
      "  0%|                                                                                           | 0/88 [00:00<?, ?it/s]"
     ]
    },
    {
     "name": "stdout",
     "output_type": "stream",
     "text": [
      "512/512 [==============================] - 1s 2ms/step\n"
     ]
    },
    {
     "name": "stderr",
     "output_type": "stream",
     "text": [
      "  1%|▉                                                                                  | 1/88 [00:01<02:11,  1.51s/it]"
     ]
    },
    {
     "name": "stdout",
     "output_type": "stream",
     "text": [
      "512/512 [==============================] - 1s 2ms/step\n"
     ]
    },
    {
     "name": "stderr",
     "output_type": "stream",
     "text": [
      "  2%|█▉                                                                                 | 2/88 [00:02<01:57,  1.37s/it]"
     ]
    },
    {
     "name": "stdout",
     "output_type": "stream",
     "text": [
      "512/512 [==============================] - 1s 2ms/step\n"
     ]
    },
    {
     "name": "stderr",
     "output_type": "stream",
     "text": [
      "  3%|██▊                                                                                | 3/88 [00:04<01:54,  1.34s/it]"
     ]
    },
    {
     "name": "stdout",
     "output_type": "stream",
     "text": [
      "512/512 [==============================] - 1s 2ms/step\n"
     ]
    },
    {
     "name": "stderr",
     "output_type": "stream",
     "text": [
      "  5%|███▊                                                                               | 4/88 [00:05<01:50,  1.31s/it]"
     ]
    },
    {
     "name": "stdout",
     "output_type": "stream",
     "text": [
      "512/512 [==============================] - 1s 2ms/step\n"
     ]
    },
    {
     "name": "stderr",
     "output_type": "stream",
     "text": [
      "  6%|████▋                                                                              | 5/88 [00:06<01:47,  1.30s/it]"
     ]
    },
    {
     "name": "stdout",
     "output_type": "stream",
     "text": [
      "512/512 [==============================] - 1s 2ms/step\n"
     ]
    },
    {
     "name": "stderr",
     "output_type": "stream",
     "text": [
      "  7%|█████▋                                                                             | 6/88 [00:07<01:47,  1.31s/it]"
     ]
    },
    {
     "name": "stdout",
     "output_type": "stream",
     "text": [
      "512/512 [==============================] - 1s 2ms/step\n"
     ]
    },
    {
     "name": "stderr",
     "output_type": "stream",
     "text": [
      "  8%|██████▌                                                                            | 7/88 [00:09<01:45,  1.31s/it]"
     ]
    },
    {
     "name": "stdout",
     "output_type": "stream",
     "text": [
      "512/512 [==============================] - 1s 2ms/step\n"
     ]
    },
    {
     "name": "stderr",
     "output_type": "stream",
     "text": [
      "  9%|███████▌                                                                           | 8/88 [00:10<01:45,  1.32s/it]"
     ]
    },
    {
     "name": "stdout",
     "output_type": "stream",
     "text": [
      "512/512 [==============================] - 1s 2ms/step\n"
     ]
    },
    {
     "name": "stderr",
     "output_type": "stream",
     "text": [
      " 10%|████████▍                                                                          | 9/88 [00:11<01:41,  1.29s/it]"
     ]
    },
    {
     "name": "stdout",
     "output_type": "stream",
     "text": [
      "512/512 [==============================] - 1s 2ms/step\n"
     ]
    },
    {
     "name": "stderr",
     "output_type": "stream",
     "text": [
      " 11%|█████████▎                                                                        | 10/88 [00:13<01:41,  1.30s/it]"
     ]
    },
    {
     "name": "stdout",
     "output_type": "stream",
     "text": [
      "512/512 [==============================] - 1s 2ms/step\n"
     ]
    },
    {
     "name": "stderr",
     "output_type": "stream",
     "text": [
      " 12%|██████████▎                                                                       | 11/88 [00:14<01:38,  1.29s/it]"
     ]
    },
    {
     "name": "stdout",
     "output_type": "stream",
     "text": [
      "512/512 [==============================] - 1s 2ms/step\n"
     ]
    },
    {
     "name": "stderr",
     "output_type": "stream",
     "text": [
      " 14%|███████████▏                                                                      | 12/88 [00:15<01:38,  1.30s/it]"
     ]
    },
    {
     "name": "stdout",
     "output_type": "stream",
     "text": [
      "512/512 [==============================] - 1s 2ms/step\n"
     ]
    },
    {
     "name": "stderr",
     "output_type": "stream",
     "text": [
      " 15%|████████████                                                                      | 13/88 [00:16<01:36,  1.28s/it]"
     ]
    },
    {
     "name": "stdout",
     "output_type": "stream",
     "text": [
      "512/512 [==============================] - 1s 2ms/step\n"
     ]
    },
    {
     "name": "stderr",
     "output_type": "stream",
     "text": [
      " 16%|█████████████                                                                     | 14/88 [00:18<01:36,  1.30s/it]"
     ]
    },
    {
     "name": "stdout",
     "output_type": "stream",
     "text": [
      "512/512 [==============================] - 1s 2ms/step\n"
     ]
    },
    {
     "name": "stderr",
     "output_type": "stream",
     "text": [
      " 17%|█████████████▉                                                                    | 15/88 [00:19<01:33,  1.29s/it]"
     ]
    },
    {
     "name": "stdout",
     "output_type": "stream",
     "text": [
      "512/512 [==============================] - 1s 2ms/step\n"
     ]
    },
    {
     "name": "stderr",
     "output_type": "stream",
     "text": [
      " 18%|██████████████▉                                                                   | 16/88 [00:20<01:34,  1.31s/it]"
     ]
    },
    {
     "name": "stdout",
     "output_type": "stream",
     "text": [
      "512/512 [==============================] - 1s 2ms/step\n"
     ]
    },
    {
     "name": "stderr",
     "output_type": "stream",
     "text": [
      " 19%|███████████████▊                                                                  | 17/88 [00:22<01:31,  1.29s/it]"
     ]
    },
    {
     "name": "stdout",
     "output_type": "stream",
     "text": [
      "512/512 [==============================] - 1s 2ms/step\n"
     ]
    },
    {
     "name": "stderr",
     "output_type": "stream",
     "text": [
      " 20%|████████████████▊                                                                 | 18/88 [00:23<01:31,  1.31s/it]"
     ]
    },
    {
     "name": "stdout",
     "output_type": "stream",
     "text": [
      "512/512 [==============================] - 1s 2ms/step\n"
     ]
    },
    {
     "name": "stderr",
     "output_type": "stream",
     "text": [
      " 22%|█████████████████▋                                                                | 19/88 [00:24<01:28,  1.29s/it]"
     ]
    },
    {
     "name": "stdout",
     "output_type": "stream",
     "text": [
      "512/512 [==============================] - 1s 2ms/step\n"
     ]
    },
    {
     "name": "stderr",
     "output_type": "stream",
     "text": [
      " 23%|██████████████████▋                                                               | 20/88 [00:26<01:28,  1.30s/it]"
     ]
    },
    {
     "name": "stdout",
     "output_type": "stream",
     "text": [
      "512/512 [==============================] - 1s 2ms/step\n"
     ]
    },
    {
     "name": "stderr",
     "output_type": "stream",
     "text": [
      " 24%|███████████████████▌                                                              | 21/88 [00:27<01:26,  1.29s/it]"
     ]
    },
    {
     "name": "stdout",
     "output_type": "stream",
     "text": [
      "512/512 [==============================] - 1s 2ms/step\n"
     ]
    },
    {
     "name": "stderr",
     "output_type": "stream",
     "text": [
      " 25%|████████████████████▌                                                             | 22/88 [00:28<01:26,  1.31s/it]"
     ]
    },
    {
     "name": "stdout",
     "output_type": "stream",
     "text": [
      "512/512 [==============================] - 1s 2ms/step\n"
     ]
    },
    {
     "name": "stderr",
     "output_type": "stream",
     "text": [
      " 26%|█████████████████████▍                                                            | 23/88 [00:29<01:23,  1.29s/it]"
     ]
    },
    {
     "name": "stdout",
     "output_type": "stream",
     "text": [
      "512/512 [==============================] - 1s 2ms/step\n"
     ]
    },
    {
     "name": "stderr",
     "output_type": "stream",
     "text": [
      " 27%|██████████████████████▎                                                           | 24/88 [00:31<01:23,  1.31s/it]"
     ]
    },
    {
     "name": "stdout",
     "output_type": "stream",
     "text": [
      "512/512 [==============================] - 1s 2ms/step\n"
     ]
    },
    {
     "name": "stderr",
     "output_type": "stream",
     "text": [
      " 28%|███████████████████████▎                                                          | 25/88 [00:32<01:20,  1.28s/it]"
     ]
    },
    {
     "name": "stdout",
     "output_type": "stream",
     "text": [
      "512/512 [==============================] - 1s 2ms/step\n"
     ]
    },
    {
     "name": "stderr",
     "output_type": "stream",
     "text": [
      " 30%|████████████████████████▏                                                         | 26/88 [00:33<01:20,  1.31s/it]"
     ]
    },
    {
     "name": "stdout",
     "output_type": "stream",
     "text": [
      "512/512 [==============================] - 1s 2ms/step\n"
     ]
    },
    {
     "name": "stderr",
     "output_type": "stream",
     "text": [
      " 31%|█████████████████████████▏                                                        | 27/88 [00:35<01:18,  1.28s/it]"
     ]
    },
    {
     "name": "stdout",
     "output_type": "stream",
     "text": [
      "512/512 [==============================] - 1s 2ms/step\n"
     ]
    },
    {
     "name": "stderr",
     "output_type": "stream",
     "text": [
      " 32%|██████████████████████████                                                        | 28/88 [00:36<01:18,  1.30s/it]"
     ]
    },
    {
     "name": "stdout",
     "output_type": "stream",
     "text": [
      "512/512 [==============================] - 1s 2ms/step\n"
     ]
    },
    {
     "name": "stderr",
     "output_type": "stream",
     "text": [
      " 33%|███████████████████████████                                                       | 29/88 [00:37<01:15,  1.28s/it]"
     ]
    },
    {
     "name": "stdout",
     "output_type": "stream",
     "text": [
      "512/512 [==============================] - 1s 2ms/step\n"
     ]
    },
    {
     "name": "stderr",
     "output_type": "stream",
     "text": [
      " 34%|███████████████████████████▉                                                      | 30/88 [00:39<01:15,  1.31s/it]"
     ]
    },
    {
     "name": "stdout",
     "output_type": "stream",
     "text": [
      "512/512 [==============================] - 1s 2ms/step\n"
     ]
    },
    {
     "name": "stderr",
     "output_type": "stream",
     "text": [
      " 35%|████████████████████████████▉                                                     | 31/88 [00:40<01:13,  1.30s/it]"
     ]
    },
    {
     "name": "stdout",
     "output_type": "stream",
     "text": [
      "512/512 [==============================] - 1s 2ms/step\n"
     ]
    },
    {
     "name": "stderr",
     "output_type": "stream",
     "text": [
      " 36%|█████████████████████████████▊                                                    | 32/88 [00:41<01:13,  1.31s/it]"
     ]
    },
    {
     "name": "stdout",
     "output_type": "stream",
     "text": [
      "512/512 [==============================] - 1s 2ms/step\n"
     ]
    },
    {
     "name": "stderr",
     "output_type": "stream",
     "text": [
      " 38%|██████████████████████████████▊                                                   | 33/88 [00:42<01:10,  1.29s/it]"
     ]
    },
    {
     "name": "stdout",
     "output_type": "stream",
     "text": [
      "512/512 [==============================] - 1s 2ms/step\n"
     ]
    },
    {
     "name": "stderr",
     "output_type": "stream",
     "text": [
      " 39%|███████████████████████████████▋                                                  | 34/88 [00:44<01:09,  1.29s/it]"
     ]
    },
    {
     "name": "stdout",
     "output_type": "stream",
     "text": [
      "512/512 [==============================] - 1s 2ms/step\n"
     ]
    },
    {
     "name": "stderr",
     "output_type": "stream",
     "text": [
      " 40%|████████████████████████████████▌                                                 | 35/88 [00:45<01:07,  1.27s/it]"
     ]
    },
    {
     "name": "stdout",
     "output_type": "stream",
     "text": [
      "512/512 [==============================] - 1s 2ms/step\n"
     ]
    },
    {
     "name": "stderr",
     "output_type": "stream",
     "text": [
      " 41%|█████████████████████████████████▌                                                | 36/88 [00:46<01:07,  1.30s/it]"
     ]
    },
    {
     "name": "stdout",
     "output_type": "stream",
     "text": [
      "512/512 [==============================] - 1s 2ms/step\n"
     ]
    },
    {
     "name": "stderr",
     "output_type": "stream",
     "text": [
      " 42%|██████████████████████████████████▍                                               | 37/88 [00:48<01:05,  1.28s/it]"
     ]
    },
    {
     "name": "stdout",
     "output_type": "stream",
     "text": [
      "512/512 [==============================] - 1s 2ms/step\n"
     ]
    },
    {
     "name": "stderr",
     "output_type": "stream",
     "text": [
      " 43%|███████████████████████████████████▍                                              | 38/88 [00:49<01:03,  1.27s/it]"
     ]
    },
    {
     "name": "stdout",
     "output_type": "stream",
     "text": [
      "512/512 [==============================] - 1s 2ms/step\n"
     ]
    },
    {
     "name": "stderr",
     "output_type": "stream",
     "text": [
      " 44%|████████████████████████████████████▎                                             | 39/88 [00:50<01:03,  1.29s/it]"
     ]
    },
    {
     "name": "stdout",
     "output_type": "stream",
     "text": [
      "512/512 [==============================] - 1s 2ms/step\n"
     ]
    },
    {
     "name": "stderr",
     "output_type": "stream",
     "text": [
      " 45%|█████████████████████████████████████▎                                            | 40/88 [00:51<01:01,  1.28s/it]"
     ]
    },
    {
     "name": "stdout",
     "output_type": "stream",
     "text": [
      "512/512 [==============================] - 1s 2ms/step\n"
     ]
    },
    {
     "name": "stderr",
     "output_type": "stream",
     "text": [
      " 47%|██████████████████████████████████████▏                                           | 41/88 [00:53<01:01,  1.31s/it]"
     ]
    },
    {
     "name": "stdout",
     "output_type": "stream",
     "text": [
      "512/512 [==============================] - 1s 2ms/step\n"
     ]
    },
    {
     "name": "stderr",
     "output_type": "stream",
     "text": [
      " 48%|███████████████████████████████████████▏                                          | 42/88 [00:54<01:00,  1.32s/it]"
     ]
    },
    {
     "name": "stdout",
     "output_type": "stream",
     "text": [
      "512/512 [==============================] - 1s 2ms/step\n"
     ]
    },
    {
     "name": "stderr",
     "output_type": "stream",
     "text": [
      " 49%|████████████████████████████████████████                                          | 43/88 [00:55<00:59,  1.33s/it]"
     ]
    },
    {
     "name": "stdout",
     "output_type": "stream",
     "text": [
      "512/512 [==============================] - 1s 2ms/step\n"
     ]
    },
    {
     "name": "stderr",
     "output_type": "stream",
     "text": [
      " 50%|█████████████████████████████████████████                                         | 44/88 [00:57<00:57,  1.32s/it]"
     ]
    },
    {
     "name": "stdout",
     "output_type": "stream",
     "text": [
      "512/512 [==============================] - 1s 2ms/step\n"
     ]
    },
    {
     "name": "stderr",
     "output_type": "stream",
     "text": [
      " 51%|█████████████████████████████████████████▉                                        | 45/88 [00:58<00:56,  1.31s/it]"
     ]
    },
    {
     "name": "stdout",
     "output_type": "stream",
     "text": [
      "512/512 [==============================] - 1s 2ms/step\n"
     ]
    },
    {
     "name": "stderr",
     "output_type": "stream",
     "text": [
      " 52%|██████████████████████████████████████████▊                                       | 46/88 [00:59<00:54,  1.30s/it]"
     ]
    },
    {
     "name": "stdout",
     "output_type": "stream",
     "text": [
      "512/512 [==============================] - 1s 2ms/step\n"
     ]
    },
    {
     "name": "stderr",
     "output_type": "stream",
     "text": [
      " 53%|███████████████████████████████████████████▊                                      | 47/88 [01:01<00:53,  1.30s/it]"
     ]
    },
    {
     "name": "stdout",
     "output_type": "stream",
     "text": [
      "512/512 [==============================] - 1s 2ms/step\n"
     ]
    },
    {
     "name": "stderr",
     "output_type": "stream",
     "text": [
      " 55%|████████████████████████████████████████████▋                                     | 48/88 [01:02<00:51,  1.30s/it]"
     ]
    },
    {
     "name": "stdout",
     "output_type": "stream",
     "text": [
      "512/512 [==============================] - 1s 2ms/step\n"
     ]
    },
    {
     "name": "stderr",
     "output_type": "stream",
     "text": [
      " 56%|█████████████████████████████████████████████▋                                    | 49/88 [01:03<00:52,  1.35s/it]"
     ]
    },
    {
     "name": "stdout",
     "output_type": "stream",
     "text": [
      "512/512 [==============================] - 1s 2ms/step\n"
     ]
    },
    {
     "name": "stderr",
     "output_type": "stream",
     "text": [
      " 57%|██████████████████████████████████████████████▌                                   | 50/88 [01:05<00:50,  1.33s/it]"
     ]
    },
    {
     "name": "stdout",
     "output_type": "stream",
     "text": [
      "512/512 [==============================] - 1s 2ms/step\n"
     ]
    },
    {
     "name": "stderr",
     "output_type": "stream",
     "text": [
      " 58%|███████████████████████████████████████████████▌                                  | 51/88 [01:06<00:48,  1.32s/it]"
     ]
    },
    {
     "name": "stdout",
     "output_type": "stream",
     "text": [
      "512/512 [==============================] - 1s 2ms/step\n"
     ]
    },
    {
     "name": "stderr",
     "output_type": "stream",
     "text": [
      " 59%|████████████████████████████████████████████████▍                                 | 52/88 [01:07<00:47,  1.31s/it]"
     ]
    },
    {
     "name": "stdout",
     "output_type": "stream",
     "text": [
      "512/512 [==============================] - 1s 2ms/step\n"
     ]
    },
    {
     "name": "stderr",
     "output_type": "stream",
     "text": [
      " 60%|█████████████████████████████████████████████████▍                                | 53/88 [01:09<00:46,  1.32s/it]"
     ]
    },
    {
     "name": "stdout",
     "output_type": "stream",
     "text": [
      "512/512 [==============================] - 1s 2ms/step\n"
     ]
    },
    {
     "name": "stderr",
     "output_type": "stream",
     "text": [
      " 61%|██████████████████████████████████████████████████▎                               | 54/88 [01:10<00:46,  1.35s/it]"
     ]
    },
    {
     "name": "stdout",
     "output_type": "stream",
     "text": [
      "512/512 [==============================] - 1s 2ms/step\n"
     ]
    },
    {
     "name": "stderr",
     "output_type": "stream",
     "text": [
      " 62%|███████████████████████████████████████████████████▎                              | 55/88 [01:11<00:44,  1.34s/it]"
     ]
    },
    {
     "name": "stdout",
     "output_type": "stream",
     "text": [
      "512/512 [==============================] - 1s 2ms/step\n"
     ]
    },
    {
     "name": "stderr",
     "output_type": "stream",
     "text": [
      " 64%|████████████████████████████████████████████████████▏                             | 56/88 [01:13<00:42,  1.33s/it]"
     ]
    },
    {
     "name": "stdout",
     "output_type": "stream",
     "text": [
      "512/512 [==============================] - 1s 2ms/step\n"
     ]
    },
    {
     "name": "stderr",
     "output_type": "stream",
     "text": [
      " 65%|█████████████████████████████████████████████████████                             | 57/88 [01:14<00:40,  1.31s/it]"
     ]
    },
    {
     "name": "stdout",
     "output_type": "stream",
     "text": [
      "512/512 [==============================] - 1s 2ms/step\n"
     ]
    },
    {
     "name": "stderr",
     "output_type": "stream",
     "text": [
      " 66%|██████████████████████████████████████████████████████                            | 58/88 [01:15<00:39,  1.32s/it]"
     ]
    },
    {
     "name": "stdout",
     "output_type": "stream",
     "text": [
      "512/512 [==============================] - 1s 2ms/step\n"
     ]
    },
    {
     "name": "stderr",
     "output_type": "stream",
     "text": [
      " 67%|██████████████████████████████████████████████████████▉                           | 59/88 [01:16<00:37,  1.29s/it]"
     ]
    },
    {
     "name": "stdout",
     "output_type": "stream",
     "text": [
      "512/512 [==============================] - 1s 2ms/step\n"
     ]
    },
    {
     "name": "stderr",
     "output_type": "stream",
     "text": [
      " 68%|███████████████████████████████████████████████████████▉                          | 60/88 [01:18<00:36,  1.29s/it]"
     ]
    },
    {
     "name": "stdout",
     "output_type": "stream",
     "text": [
      "512/512 [==============================] - 1s 2ms/step\n"
     ]
    },
    {
     "name": "stderr",
     "output_type": "stream",
     "text": [
      " 69%|████████████████████████████████████████████████████████▊                         | 61/88 [01:19<00:34,  1.28s/it]"
     ]
    },
    {
     "name": "stdout",
     "output_type": "stream",
     "text": [
      "512/512 [==============================] - 1s 2ms/step\n"
     ]
    },
    {
     "name": "stderr",
     "output_type": "stream",
     "text": [
      " 70%|█████████████████████████████████████████████████████████▊                        | 62/88 [01:20<00:33,  1.30s/it]"
     ]
    },
    {
     "name": "stdout",
     "output_type": "stream",
     "text": [
      "512/512 [==============================] - 1s 2ms/step\n"
     ]
    },
    {
     "name": "stderr",
     "output_type": "stream",
     "text": [
      " 72%|██████████████████████████████████████████████████████████▋                       | 63/88 [01:22<00:31,  1.28s/it]"
     ]
    },
    {
     "name": "stdout",
     "output_type": "stream",
     "text": [
      "512/512 [==============================] - 1s 2ms/step\n"
     ]
    },
    {
     "name": "stderr",
     "output_type": "stream",
     "text": [
      " 73%|███████████████████████████████████████████████████████████▋                      | 64/88 [01:23<00:31,  1.31s/it]"
     ]
    },
    {
     "name": "stdout",
     "output_type": "stream",
     "text": [
      "512/512 [==============================] - 1s 2ms/step\n"
     ]
    },
    {
     "name": "stderr",
     "output_type": "stream",
     "text": [
      " 74%|████████████████████████████████████████████████████████████▌                     | 65/88 [01:24<00:29,  1.29s/it]"
     ]
    },
    {
     "name": "stdout",
     "output_type": "stream",
     "text": [
      "512/512 [==============================] - 1s 2ms/step\n"
     ]
    },
    {
     "name": "stderr",
     "output_type": "stream",
     "text": [
      " 75%|█████████████████████████████████████████████████████████████▌                    | 66/88 [01:26<00:28,  1.30s/it]"
     ]
    },
    {
     "name": "stdout",
     "output_type": "stream",
     "text": [
      "512/512 [==============================] - 1s 2ms/step\n"
     ]
    },
    {
     "name": "stderr",
     "output_type": "stream",
     "text": [
      " 76%|██████████████████████████████████████████████████████████████▍                   | 67/88 [01:27<00:26,  1.28s/it]"
     ]
    },
    {
     "name": "stdout",
     "output_type": "stream",
     "text": [
      "512/512 [==============================] - 1s 2ms/step\n"
     ]
    },
    {
     "name": "stderr",
     "output_type": "stream",
     "text": [
      " 77%|███████████████████████████████████████████████████████████████▎                  | 68/88 [01:28<00:26,  1.31s/it]"
     ]
    },
    {
     "name": "stdout",
     "output_type": "stream",
     "text": [
      "512/512 [==============================] - 1s 2ms/step\n"
     ]
    },
    {
     "name": "stderr",
     "output_type": "stream",
     "text": [
      " 78%|████████████████████████████████████████████████████████████████▎                 | 69/88 [01:29<00:24,  1.29s/it]"
     ]
    },
    {
     "name": "stdout",
     "output_type": "stream",
     "text": [
      "512/512 [==============================] - 1s 2ms/step\n"
     ]
    },
    {
     "name": "stderr",
     "output_type": "stream",
     "text": [
      " 80%|█████████████████████████████████████████████████████████████████▏                | 70/88 [01:31<00:23,  1.30s/it]"
     ]
    },
    {
     "name": "stdout",
     "output_type": "stream",
     "text": [
      "512/512 [==============================] - 1s 2ms/step\n"
     ]
    },
    {
     "name": "stderr",
     "output_type": "stream",
     "text": [
      " 81%|██████████████████████████████████████████████████████████████████▏               | 71/88 [01:32<00:21,  1.27s/it]"
     ]
    },
    {
     "name": "stdout",
     "output_type": "stream",
     "text": [
      "512/512 [==============================] - 1s 2ms/step\n"
     ]
    },
    {
     "name": "stderr",
     "output_type": "stream",
     "text": [
      " 82%|███████████████████████████████████████████████████████████████████               | 72/88 [01:33<00:20,  1.30s/it]"
     ]
    },
    {
     "name": "stdout",
     "output_type": "stream",
     "text": [
      "512/512 [==============================] - 1s 2ms/step\n"
     ]
    },
    {
     "name": "stderr",
     "output_type": "stream",
     "text": [
      " 83%|████████████████████████████████████████████████████████████████████              | 73/88 [01:35<00:19,  1.27s/it]"
     ]
    },
    {
     "name": "stdout",
     "output_type": "stream",
     "text": [
      "512/512 [==============================] - 1s 2ms/step\n"
     ]
    },
    {
     "name": "stderr",
     "output_type": "stream",
     "text": [
      " 84%|████████████████████████████████████████████████████████████████████▉             | 74/88 [01:36<00:18,  1.31s/it]"
     ]
    },
    {
     "name": "stdout",
     "output_type": "stream",
     "text": [
      "512/512 [==============================] - 1s 2ms/step\n"
     ]
    },
    {
     "name": "stderr",
     "output_type": "stream",
     "text": [
      " 85%|█████████████████████████████████████████████████████████████████████▉            | 75/88 [01:37<00:16,  1.29s/it]"
     ]
    },
    {
     "name": "stdout",
     "output_type": "stream",
     "text": [
      "512/512 [==============================] - 1s 2ms/step\n"
     ]
    },
    {
     "name": "stderr",
     "output_type": "stream",
     "text": [
      " 86%|██████████████████████████████████████████████████████████████████████▊           | 76/88 [01:38<00:15,  1.30s/it]"
     ]
    },
    {
     "name": "stdout",
     "output_type": "stream",
     "text": [
      "512/512 [==============================] - 1s 2ms/step\n"
     ]
    },
    {
     "name": "stderr",
     "output_type": "stream",
     "text": [
      " 88%|███████████████████████████████████████████████████████████████████████▊          | 77/88 [01:40<00:14,  1.29s/it]"
     ]
    },
    {
     "name": "stdout",
     "output_type": "stream",
     "text": [
      "512/512 [==============================] - 1s 2ms/step\n"
     ]
    },
    {
     "name": "stderr",
     "output_type": "stream",
     "text": [
      " 89%|████████████████████████████████████████████████████████████████████████▋         | 78/88 [01:41<00:13,  1.32s/it]"
     ]
    },
    {
     "name": "stdout",
     "output_type": "stream",
     "text": [
      "512/512 [==============================] - 1s 2ms/step\n"
     ]
    },
    {
     "name": "stderr",
     "output_type": "stream",
     "text": [
      " 90%|█████████████████████████████████████████████████████████████████████████▌        | 79/88 [01:42<00:11,  1.29s/it]"
     ]
    },
    {
     "name": "stdout",
     "output_type": "stream",
     "text": [
      "512/512 [==============================] - 1s 2ms/step\n"
     ]
    },
    {
     "name": "stderr",
     "output_type": "stream",
     "text": [
      " 91%|██████████████████████████████████████████████████████████████████████████▌       | 80/88 [01:44<00:10,  1.30s/it]"
     ]
    },
    {
     "name": "stdout",
     "output_type": "stream",
     "text": [
      "512/512 [==============================] - 1s 2ms/step\n"
     ]
    },
    {
     "name": "stderr",
     "output_type": "stream",
     "text": [
      " 92%|███████████████████████████████████████████████████████████████████████████▍      | 81/88 [01:45<00:08,  1.28s/it]"
     ]
    },
    {
     "name": "stdout",
     "output_type": "stream",
     "text": [
      "512/512 [==============================] - 1s 2ms/step\n"
     ]
    },
    {
     "name": "stderr",
     "output_type": "stream",
     "text": [
      " 93%|████████████████████████████████████████████████████████████████████████████▍     | 82/88 [01:46<00:07,  1.30s/it]"
     ]
    },
    {
     "name": "stdout",
     "output_type": "stream",
     "text": [
      "512/512 [==============================] - 1s 2ms/step\n"
     ]
    },
    {
     "name": "stderr",
     "output_type": "stream",
     "text": [
      " 94%|█████████████████████████████████████████████████████████████████████████████▎    | 83/88 [01:47<00:06,  1.28s/it]"
     ]
    },
    {
     "name": "stdout",
     "output_type": "stream",
     "text": [
      "512/512 [==============================] - 1s 2ms/step\n"
     ]
    },
    {
     "name": "stderr",
     "output_type": "stream",
     "text": [
      " 95%|██████████████████████████████████████████████████████████████████████████████▎   | 84/88 [01:49<00:05,  1.31s/it]"
     ]
    },
    {
     "name": "stdout",
     "output_type": "stream",
     "text": [
      "512/512 [==============================] - 1s 2ms/step\n"
     ]
    },
    {
     "name": "stderr",
     "output_type": "stream",
     "text": [
      " 97%|███████████████████████████████████████████████████████████████████████████████▏  | 85/88 [01:50<00:03,  1.29s/it]"
     ]
    },
    {
     "name": "stdout",
     "output_type": "stream",
     "text": [
      "512/512 [==============================] - 1s 2ms/step\n"
     ]
    },
    {
     "name": "stderr",
     "output_type": "stream",
     "text": [
      " 98%|████████████████████████████████████████████████████████████████████████████████▏ | 86/88 [01:51<00:02,  1.31s/it]"
     ]
    },
    {
     "name": "stdout",
     "output_type": "stream",
     "text": [
      "512/512 [==============================] - 1s 2ms/step\n"
     ]
    },
    {
     "name": "stderr",
     "output_type": "stream",
     "text": [
      " 99%|█████████████████████████████████████████████████████████████████████████████████ | 87/88 [01:53<00:01,  1.29s/it]"
     ]
    },
    {
     "name": "stdout",
     "output_type": "stream",
     "text": [
      "512/512 [==============================] - 1s 2ms/step\n"
     ]
    },
    {
     "name": "stderr",
     "output_type": "stream",
     "text": [
      "100%|██████████████████████████████████████████████████████████████████████████████████| 88/88 [01:54<00:00,  1.30s/it]\n"
     ]
    },
    {
     "name": "stdout",
     "output_type": "stream",
     "text": [
      "CPU times: total: 2min 9s\n",
      "Wall time: 1min 57s\n"
     ]
    }
   ],
   "source": [
    "%%time\n",
    "e1 = Evaluation(model, datagen_test)\n",
    "e1.predict()"
   ]
  },
  {
   "cell_type": "code",
   "execution_count": 14,
   "id": "ac6e641b-169c-4a5b-be73-6d98ba950866",
   "metadata": {},
   "outputs": [
    {
     "data": {
      "text/html": [
       "<div>\n",
       "<style scoped>\n",
       "    .dataframe tbody tr th:only-of-type {\n",
       "        vertical-align: middle;\n",
       "    }\n",
       "\n",
       "    .dataframe tbody tr th {\n",
       "        vertical-align: top;\n",
       "    }\n",
       "\n",
       "    .dataframe thead th {\n",
       "        text-align: right;\n",
       "    }\n",
       "</style>\n",
       "<table border=\"1\" class=\"dataframe\">\n",
       "  <thead>\n",
       "    <tr style=\"text-align: right;\">\n",
       "      <th></th>\n",
       "      <th>precision</th>\n",
       "      <th>recall</th>\n",
       "      <th>MCC</th>\n",
       "      <th>F1</th>\n",
       "      <th>accuracy</th>\n",
       "      <th>IoU</th>\n",
       "    </tr>\n",
       "  </thead>\n",
       "  <tbody>\n",
       "    <tr>\n",
       "      <th>0</th>\n",
       "      <td>0.90196</td>\n",
       "      <td>0.796113</td>\n",
       "      <td>0.826557</td>\n",
       "      <td>0.845737</td>\n",
       "      <td>0.962481</td>\n",
       "      <td>0.732708</td>\n",
       "    </tr>\n",
       "  </tbody>\n",
       "</table>\n",
       "</div>"
      ],
      "text/plain": [
       "   precision    recall       MCC        F1  accuracy       IoU\n",
       "0    0.90196  0.796113  0.826557  0.845737  0.962481  0.732708"
      ]
     },
     "execution_count": 14,
     "metadata": {},
     "output_type": "execute_result"
    }
   ],
   "source": [
    "e1.eval_()"
   ]
  },
  {
   "cell_type": "code",
   "execution_count": 15,
   "id": "6eaaa8b5-c023-4bf6-8b98-d87d8df8aea6",
   "metadata": {},
   "outputs": [],
   "source": [
    "e1.eval_().to_json(os.path.join(\"result\",\"metrique_Tssm.json\"))"
   ]
  },
  {
   "cell_type": "code",
   "execution_count": 16,
   "id": "608e3f6c",
   "metadata": {},
   "outputs": [
    {
     "name": "stderr",
     "output_type": "stream",
     "text": [
      "WARNING:absl:Found untraced functions such as dropout_layer_call_fn, dropout_layer_call_and_return_conditional_losses, encoder_layer_layer_call_fn, encoder_layer_layer_call_and_return_conditional_losses, multi_head_attention_layer_call_fn while saving (showing 5 of 34). These functions will not be directly callable after loading.\n"
     ]
    },
    {
     "name": "stdout",
     "output_type": "stream",
     "text": [
      "INFO:tensorflow:Assets written to: Model\\TSSM\\assets\n"
     ]
    },
    {
     "name": "stderr",
     "output_type": "stream",
     "text": [
      "INFO:tensorflow:Assets written to: Model\\TSSM\\assets\n"
     ]
    }
   ],
   "source": [
    "model.save(MODEL_PATH)"
   ]
  }
 ],
 "metadata": {
  "kernelspec": {
   "display_name": "Python 3 (ipykernel)",
   "language": "python",
   "name": "python3"
  },
  "language_info": {
   "codemirror_mode": {
    "name": "ipython",
    "version": 3
   },
   "file_extension": ".py",
   "mimetype": "text/x-python",
   "name": "python",
   "nbconvert_exporter": "python",
   "pygments_lexer": "ipython3",
   "version": "3.9.0"
  }
 },
 "nbformat": 4,
 "nbformat_minor": 5
}
