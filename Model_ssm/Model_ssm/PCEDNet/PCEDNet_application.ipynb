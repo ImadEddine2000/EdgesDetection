{
 "cells": [
  {
   "cell_type": "code",
   "execution_count": 9,
   "id": "7115e678",
   "metadata": {},
   "outputs": [],
   "source": [
    "import tensorflow as tf\n",
    "import os\n",
    "import numpy as np\n",
    "from Script.Convert2numpy import convertAndSave\n",
    "from PCEDNet import generate_input\n",
    "from Script.Apply_model import apply_model\n",
    "import shutil"
   ]
  },
  {
   "cell_type": "code",
   "execution_count": 3,
   "id": "7ea53ce3",
   "metadata": {},
   "outputs": [],
   "source": [
    "MODEL_PATH_V2 = os.path.join(\"Model\", \"PCEDNET-V2\")\n",
    "MODEL_PATH = os.path.join(\"Model\", \"PCEDNET\")\n",
    "APPLICATION_PATH = \"Application2\"\n",
    "APPLICATION_PATH_F = os.path.join(\"..\",\"Application\")"
   ]
  },
  {
   "cell_type": "code",
   "execution_count": 4,
   "id": "eddcee0c",
   "metadata": {
    "scrolled": true
   },
   "outputs": [
    {
     "name": "stderr",
     "output_type": "stream",
     "text": [
      "100%|██████████| 52/52 [06:02<00:00,  6.97s/it]\n"
     ]
    },
    {
     "ename": "NameError",
     "evalue": "name 'nanClean' is not defined",
     "output_type": "error",
     "traceback": [
      "\u001b[1;31m---------------------------------------------------------------------------\u001b[0m",
      "\u001b[1;31mNameError\u001b[0m                                 Traceback (most recent call last)",
      "Cell \u001b[1;32mIn[4], line 5\u001b[0m\n\u001b[0;32m      3\u001b[0m     os\u001b[38;5;241m.\u001b[39mmkdir(APPLICATION_PATH)\n\u001b[0;32m      4\u001b[0m convertAndSave(APPLICATION_PATH_F, APPLICATION_PATH, \u001b[38;5;124m\"\u001b[39m\u001b[38;5;124m.ssm\u001b[39m\u001b[38;5;124m\"\u001b[39m)\n\u001b[1;32m----> 5\u001b[0m \u001b[43mnanClean\u001b[49m(APPLICATION_PATH, \u001b[38;5;124m\"\u001b[39m\u001b[38;5;124m_.ssm.npy\u001b[39m\u001b[38;5;124m\"\u001b[39m)\n",
      "\u001b[1;31mNameError\u001b[0m: name 'nanClean' is not defined"
     ]
    }
   ],
   "source": [
    "if os.path.exists(APPLICATION_PATH):\n",
    "    shutil.rmtree(APPLICATION_PATH)\n",
    "    os.mkdir(APPLICATION_PATH)\n",
    "convertAndSave(APPLICATION_PATH_F, APPLICATION_PATH, \".ssm\")\n",
    "convertAndSave(APPLICATION_PATH_F, APPLICATION_PATH, \".ply\")"
   ]
  },
  {
   "cell_type": "code",
   "execution_count": 13,
   "id": "89b13472",
   "metadata": {},
   "outputs": [],
   "source": [
    "with os.scandir(APPLICATION_PATH_F) as entries:\n",
    "    for entry in entries:\n",
    "        if entry.name.endswith(\".ply\"):\n",
    "            shutil.copy(os.path.join(APPLICATION_PATH_F, entry.name), APPLICATION_PATH)"
   ]
  },
  {
   "cell_type": "code",
   "execution_count": 14,
   "id": "16728eac",
   "metadata": {},
   "outputs": [],
   "source": [
    "model = tf.keras.models.load_model(MODEL_PATH)"
   ]
  },
  {
   "cell_type": "code",
   "execution_count": 15,
   "id": "d38f32b5",
   "metadata": {
    "scrolled": true
   },
   "outputs": [
    {
     "name": "stdout",
     "output_type": "stream",
     "text": [
      "356/356 [==============================] - 1s 3ms/step\n",
      "616/616 [==============================] - 2s 3ms/step\n",
      "200/200 [==============================] - 1s 3ms/step\n",
      "4240/4240 [==============================] - 14s 3ms/step\n",
      "6119/6119 [==============================] - 22s 4ms/step\n",
      "830/830 [==============================] - 3s 4ms/step\n",
      "432/432 [==============================] - 1s 3ms/step\n",
      "841/841 [==============================] - 3s 4ms/step\n",
      "155/155 [==============================] - 1s 4ms/step\n",
      "368/368 [==============================] - 1s 4ms/step\n",
      "762/762 [==============================] - 2s 3ms/step\n",
      "485/485 [==============================] - 2s 4ms/step\n",
      "774/774 [==============================] - 3s 4ms/step\n",
      "472/472 [==============================] - 2s 3ms/step\n",
      "1058/1058 [==============================] - 4s 3ms/step\n",
      "116/116 [==============================] - 1s 4ms/step\n",
      "1156/1156 [==============================] - 4s 3ms/step\n",
      "1806/1806 [==============================] - 6s 3ms/step\n",
      "523/523 [==============================] - 2s 3ms/step\n",
      "664/664 [==============================] - 2s 3ms/step\n",
      "1122/1122 [==============================] - 3s 3ms/step\n",
      "3002/3002 [==============================] - 11s 4ms/step\n",
      "706/706 [==============================] - 2s 3ms/step\n",
      "79/79 [==============================] - 0s 3ms/step\n",
      "11700/11700 [==============================] - 41s 3ms/step\n",
      "584/584 [==============================] - 2s 3ms/step\n",
      "5049/5049 [==============================] - 17s 3ms/step\n",
      "425/425 [==============================] - 1s 3ms/step\n",
      "410/410 [==============================] - 2s 4ms/step\n",
      "633/633 [==============================] - 2s 3ms/step\n",
      "662/662 [==============================] - 2s 3ms/step\n",
      "41/41 [==============================] - 0s 5ms/step\n",
      "448/448 [==============================] - 2s 3ms/step\n",
      "364/364 [==============================] - 1s 3ms/step\n",
      "318/318 [==============================] - 1s 3ms/step\n",
      "632/632 [==============================] - 2s 4ms/step\n",
      "376/376 [==============================] - 1s 3ms/step\n",
      "545/545 [==============================] - 2s 3ms/step\n",
      "856/856 [==============================] - 3s 3ms/step\n",
      "273/273 [==============================] - 1s 4ms/step\n",
      "933/933 [==============================] - 3s 4ms/step\n",
      "4758/4758 [==============================] - 17s 3ms/step\n",
      "91/91 [==============================] - 0s 4ms/step\n",
      "590/590 [==============================] - 2s 3ms/step\n",
      "489/489 [==============================] - 1s 3ms/step\n",
      "1885/1885 [==============================] - 7s 3ms/step\n",
      "785/785 [==============================] - 3s 4ms/step\n",
      "372/372 [==============================] - 1s 4ms/step\n",
      "889/889 [==============================] - 3s 3ms/step\n",
      "416/416 [==============================] - 2s 4ms/step\n",
      "968/968 [==============================] - 3s 3ms/step\n",
      "490/490 [==============================] - 2s 4ms/step\n"
     ]
    }
   ],
   "source": [
    "apply_model(APPLICATION_PATH, model, generate_input, shuffle=False)"
   ]
  },
  {
   "cell_type": "code",
   "execution_count": null,
   "id": "238622ca",
   "metadata": {},
   "outputs": [],
   "source": []
  }
 ],
 "metadata": {
  "kernelspec": {
   "display_name": "Python 3 (ipykernel)",
   "language": "python",
   "name": "python3"
  },
  "language_info": {
   "codemirror_mode": {
    "name": "ipython",
    "version": 3
   },
   "file_extension": ".py",
   "mimetype": "text/x-python",
   "name": "python",
   "nbconvert_exporter": "python",
   "pygments_lexer": "ipython3",
   "version": "3.10.0"
  }
 },
 "nbformat": 4,
 "nbformat_minor": 5
}
