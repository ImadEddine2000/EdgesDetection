{
 "cells": [
  {
   "cell_type": "code",
   "execution_count": 1,
   "id": "ee7a999d",
   "metadata": {},
   "outputs": [],
   "source": [
    "import tensorflow as tf\n",
    "import os\n",
    "import numpy as np\n",
    "import random\n",
    "from Convert2numpy import get_numpy_file, nanClean, convertAndSave\n",
    "from DataGenerator import DataGenerator\n",
    "from Metrics_Evaluation import Evaluation\n",
    "from PCEDNet import PCEDNet, generate_input\n",
    "import matplotlib.pyplot as plt\n",
    "import pandas as pd\n",
    "import shutil"
   ]
  },
  {
   "cell_type": "code",
   "execution_count": 2,
   "id": "1a6b54f8",
   "metadata": {},
   "outputs": [],
   "source": [
    "DATA_PATH = \"Train2\"\n",
    "DATA_PATH_F = \"Train\"\n",
    "VALIDATION_PATH = \"Validation2\"\n",
    "VALIDATION_PATH_F = \"Validation\"\n",
    "TEST_PATH = \"Test2\"\n",
    "TEST_PATH_F = \"Test\"\n",
    "MODEL_PATH = os.path.join(\"Model\", \"PCEDNET\")"
   ]
  },
  {
   "cell_type": "markdown",
   "id": "08690e31",
   "metadata": {},
   "source": [
    "# Load Data"
   ]
  },
  {
   "cell_type": "markdown",
   "id": "2722a159",
   "metadata": {},
   "source": [
    "## Convert to numpy"
   ]
  },
  {
   "cell_type": "code",
   "execution_count": 7,
   "id": "184b9b24",
   "metadata": {
    "scrolled": true
   },
   "outputs": [
    {
     "name": "stderr",
     "output_type": "stream",
     "text": [
      "100%|██████████| 136/136 [08:52<00:00,  3.92s/it]\n",
      "100%|██████████| 137/137 [00:04<00:00, 30.76it/s]\n",
      "100%|██████████| 10/10 [00:19<00:00,  1.93s/it]\n",
      "100%|██████████| 10/10 [00:00<00:00, 48.84it/s]\n",
      "100%|██████████| 58/58 [02:51<00:00,  2.95s/it]\n",
      "100%|██████████| 58/58 [00:01<00:00, 42.30it/s]\n"
     ]
    }
   ],
   "source": [
    "for data_path in [DATA_PATH, VALIDATION_PATH, TEST_PATH]:\n",
    "    if os.path.exists(data_path):\n",
    "        shutil.rmtree(data_path)\n",
    "    os.mkdir(data_path)\n",
    "\n",
    "#Train\n",
    "convertAndSave(DATA_PATH_F, DATA_PATH, \".ssm\")\n",
    "convertAndSave(DATA_PATH_F, DATA_PATH, \".lb\")\n",
    "#Validation\n",
    "convertAndSave(VALIDATION_PATH_F, VALIDATION_PATH, \".ssm\")\n",
    "convertAndSave(VALIDATION_PATH_F, VALIDATION_PATH, \".lb\")\n",
    "#Test\n",
    "convertAndSave(TEST_PATH_F, TEST_PATH, \".ssm\")\n",
    "convertAndSave(TEST_PATH_F, TEST_PATH, \".lb\")"
   ]
  },
  {
   "cell_type": "markdown",
   "id": "e075ef19",
   "metadata": {},
   "source": [
    "## Clean "
   ]
  },
  {
   "cell_type": "code",
   "execution_count": 8,
   "id": "3ab78270",
   "metadata": {},
   "outputs": [],
   "source": [
    "#train\n",
    "nanClean(DATA_PATH, \"_.ssm.npy\")\n",
    "#Validation\n",
    "nanClean(VALIDATION_PATH, \"_.ssm.npy\")\n",
    "#Test\n",
    "nanClean(TEST_PATH, \"_.ssm.npy\")"
   ]
  },
  {
   "cell_type": "code",
   "execution_count": 3,
   "id": "c1627436",
   "metadata": {},
   "outputs": [],
   "source": [
    "model = PCEDNet().build()"
   ]
  },
  {
   "cell_type": "code",
   "execution_count": 4,
   "id": "1be9ebbb",
   "metadata": {},
   "outputs": [
    {
     "name": "stdout",
     "output_type": "stream",
     "text": [
      "Model: \"model\"\n",
      "__________________________________________________________________________________________________\n",
      " Layer (type)                   Output Shape         Param #     Connected to                     \n",
      "==================================================================================================\n",
      " input_1 (InputLayer)           [(None, 6)]          0           []                               \n",
      "                                                                                                  \n",
      " input_2 (InputLayer)           [(None, 6)]          0           []                               \n",
      "                                                                                                  \n",
      " input_3 (InputLayer)           [(None, 6)]          0           []                               \n",
      "                                                                                                  \n",
      " input_4 (InputLayer)           [(None, 6)]          0           []                               \n",
      "                                                                                                  \n",
      " input_5 (InputLayer)           [(None, 6)]          0           []                               \n",
      "                                                                                                  \n",
      " input_6 (InputLayer)           [(None, 6)]          0           []                               \n",
      "                                                                                                  \n",
      " input_7 (InputLayer)           [(None, 6)]          0           []                               \n",
      "                                                                                                  \n",
      " input_8 (InputLayer)           [(None, 6)]          0           []                               \n",
      "                                                                                                  \n",
      " input_9 (InputLayer)           [(None, 6)]          0           []                               \n",
      "                                                                                                  \n",
      " input_10 (InputLayer)          [(None, 6)]          0           []                               \n",
      "                                                                                                  \n",
      " input_11 (InputLayer)          [(None, 6)]          0           []                               \n",
      "                                                                                                  \n",
      " input_12 (InputLayer)          [(None, 6)]          0           []                               \n",
      "                                                                                                  \n",
      " input_13 (InputLayer)          [(None, 6)]          0           []                               \n",
      "                                                                                                  \n",
      " input_14 (InputLayer)          [(None, 6)]          0           []                               \n",
      "                                                                                                  \n",
      " input_15 (InputLayer)          [(None, 6)]          0           []                               \n",
      "                                                                                                  \n",
      " input_16 (InputLayer)          [(None, 6)]          0           []                               \n",
      "                                                                                                  \n",
      " concatenate (Concatenate)      (None, 12)           0           ['input_1[0][0]',                \n",
      "                                                                  'input_2[0][0]']                \n",
      "                                                                                                  \n",
      " concatenate_1 (Concatenate)    (None, 12)           0           ['input_3[0][0]',                \n",
      "                                                                  'input_4[0][0]']                \n",
      "                                                                                                  \n",
      " concatenate_3 (Concatenate)    (None, 12)           0           ['input_5[0][0]',                \n",
      "                                                                  'input_6[0][0]']                \n",
      "                                                                                                  \n",
      " concatenate_4 (Concatenate)    (None, 12)           0           ['input_7[0][0]',                \n",
      "                                                                  'input_8[0][0]']                \n",
      "                                                                                                  \n",
      " concatenate_7 (Concatenate)    (None, 12)           0           ['input_9[0][0]',                \n",
      "                                                                  'input_10[0][0]']               \n",
      "                                                                                                  \n",
      " concatenate_8 (Concatenate)    (None, 12)           0           ['input_11[0][0]',               \n",
      "                                                                  'input_12[0][0]']               \n",
      "                                                                                                  \n",
      " concatenate_10 (Concatenate)   (None, 12)           0           ['input_13[0][0]',               \n",
      "                                                                  'input_14[0][0]']               \n",
      "                                                                                                  \n",
      " concatenate_11 (Concatenate)   (None, 12)           0           ['input_15[0][0]',               \n",
      "                                                                  'input_16[0][0]']               \n",
      "                                                                                                  \n",
      " dense (Dense)                  (None, 6)            78          ['concatenate[0][0]']            \n",
      "                                                                                                  \n",
      " dense_1 (Dense)                (None, 6)            78          ['concatenate_1[0][0]']          \n",
      "                                                                                                  \n",
      " dense_3 (Dense)                (None, 6)            78          ['concatenate_3[0][0]']          \n",
      "                                                                                                  \n",
      " dense_4 (Dense)                (None, 6)            78          ['concatenate_4[0][0]']          \n",
      "                                                                                                  \n",
      " dense_7 (Dense)                (None, 6)            78          ['concatenate_7[0][0]']          \n",
      "                                                                                                  \n",
      " dense_8 (Dense)                (None, 6)            78          ['concatenate_8[0][0]']          \n",
      "                                                                                                  \n",
      " dense_10 (Dense)               (None, 6)            78          ['concatenate_10[0][0]']         \n",
      "                                                                                                  \n",
      " dense_11 (Dense)               (None, 6)            78          ['concatenate_11[0][0]']         \n",
      "                                                                                                  \n",
      " concatenate_2 (Concatenate)    (None, 12)           0           ['dense[0][0]',                  \n",
      "                                                                  'dense_1[0][0]']                \n",
      "                                                                                                  \n",
      " concatenate_5 (Concatenate)    (None, 12)           0           ['dense_3[0][0]',                \n",
      "                                                                  'dense_4[0][0]']                \n",
      "                                                                                                  \n",
      " concatenate_9 (Concatenate)    (None, 12)           0           ['dense_7[0][0]',                \n",
      "                                                                  'dense_8[0][0]']                \n"
     ]
    },
    {
     "name": "stdout",
     "output_type": "stream",
     "text": [
      "                                                                                                  \n",
      " concatenate_12 (Concatenate)   (None, 12)           0           ['dense_10[0][0]',               \n",
      "                                                                  'dense_11[0][0]']               \n",
      "                                                                                                  \n",
      " dense_2 (Dense)                (None, 6)            78          ['concatenate_2[0][0]']          \n",
      "                                                                                                  \n",
      " dense_5 (Dense)                (None, 6)            78          ['concatenate_5[0][0]']          \n",
      "                                                                                                  \n",
      " dense_9 (Dense)                (None, 6)            78          ['concatenate_9[0][0]']          \n",
      "                                                                                                  \n",
      " dense_12 (Dense)               (None, 6)            78          ['concatenate_12[0][0]']         \n",
      "                                                                                                  \n",
      " concatenate_6 (Concatenate)    (None, 12)           0           ['dense_2[0][0]',                \n",
      "                                                                  'dense_5[0][0]']                \n",
      "                                                                                                  \n",
      " concatenate_13 (Concatenate)   (None, 12)           0           ['dense_9[0][0]',                \n",
      "                                                                  'dense_12[0][0]']               \n",
      "                                                                                                  \n",
      " dense_6 (Dense)                (None, 6)            78          ['concatenate_6[0][0]']          \n",
      "                                                                                                  \n",
      " dense_13 (Dense)               (None, 6)            78          ['concatenate_13[0][0]']         \n",
      "                                                                                                  \n",
      " concatenate_14 (Concatenate)   (None, 12)           0           ['dense_6[0][0]',                \n",
      "                                                                  'dense_13[0][0]']               \n",
      "                                                                                                  \n",
      " dense_14 (Dense)               (None, 16)           208         ['concatenate_14[0][0]']         \n",
      "                                                                                                  \n",
      " batch_normalization (BatchNorm  (None, 16)          64          ['dense_14[0][0]']               \n",
      " alization)                                                                                       \n",
      "                                                                                                  \n",
      " dense_15 (Dense)               (None, 16)           272         ['batch_normalization[0][0]']    \n",
      "                                                                                                  \n",
      " batch_normalization_1 (BatchNo  (None, 16)          64          ['dense_15[0][0]']               \n",
      " rmalization)                                                                                     \n",
      "                                                                                                  \n",
      " dense_16 (Dense)               (None, 1)            17          ['batch_normalization_1[0][0]']  \n",
      "                                                                                                  \n",
      "==================================================================================================\n",
      "Total params: 1,717\n",
      "Trainable params: 1,653\n",
      "Non-trainable params: 64\n",
      "__________________________________________________________________________________________________\n"
     ]
    }
   ],
   "source": [
    "model.summary()"
   ]
  },
  {
   "cell_type": "code",
   "execution_count": 5,
   "id": "298ff86a",
   "metadata": {},
   "outputs": [],
   "source": [
    "model.compile(optimizer=tf.keras.optimizers.Adam(), loss=tf.keras.losses.binary_crossentropy, metrics=[\"accuracy\"])"
   ]
  },
  {
   "cell_type": "markdown",
   "id": "adbf25d2",
   "metadata": {},
   "source": [
    "# Train"
   ]
  },
  {
   "cell_type": "code",
   "execution_count": 6,
   "id": "52102de8",
   "metadata": {
    "scrolled": true
   },
   "outputs": [
    {
     "name": "stdout",
     "output_type": "stream",
     "text": [
      "Epoch 1/50\n",
      "234/234 [==============================] - 131s 231ms/step - loss: 0.5407 - accuracy: 0.7631 - val_loss: 0.3941 - val_accuracy: 0.8988 - lr: 0.0010\n",
      "Epoch 2/50\n",
      "234/234 [==============================] - 44s 186ms/step - loss: 0.3746 - accuracy: 0.8695 - val_loss: 0.2362 - val_accuracy: 0.9514 - lr: 0.0010\n",
      "Epoch 3/50\n",
      "234/234 [==============================] - 43s 183ms/step - loss: 0.3396 - accuracy: 0.8729 - val_loss: 0.1711 - val_accuracy: 0.9620 - lr: 0.0010\n",
      "Epoch 4/50\n",
      "234/234 [==============================] - 53s 228ms/step - loss: 0.3009 - accuracy: 0.8956 - val_loss: 0.1948 - val_accuracy: 0.9469 - lr: 0.0010\n",
      "Epoch 5/50\n",
      "234/234 [==============================] - 33s 138ms/step - loss: 0.2666 - accuracy: 0.9080 - val_loss: 0.1366 - val_accuracy: 0.9659 - lr: 0.0010\n",
      "Epoch 6/50\n",
      "234/234 [==============================] - 41s 173ms/step - loss: 0.2769 - accuracy: 0.9049 - val_loss: 0.1529 - val_accuracy: 0.9675 - lr: 0.0010\n",
      "Epoch 7/50\n",
      "234/234 [==============================] - 36s 150ms/step - loss: 0.2731 - accuracy: 0.9081 - val_loss: 0.1321 - val_accuracy: 0.9695 - lr: 0.0010\n",
      "Epoch 8/50\n",
      "234/234 [==============================] - 55s 231ms/step - loss: 0.2567 - accuracy: 0.9169 - val_loss: 0.1049 - val_accuracy: 0.9759 - lr: 0.0010\n",
      "Epoch 9/50\n",
      "234/234 [==============================] - 42s 178ms/step - loss: 0.2428 - accuracy: 0.9200 - val_loss: 0.1034 - val_accuracy: 0.9784 - lr: 0.0010\n",
      "Epoch 10/50\n",
      "234/234 [==============================] - 39s 166ms/step - loss: 0.2212 - accuracy: 0.9291 - val_loss: 0.0863 - val_accuracy: 0.9843 - lr: 0.0010\n",
      "Epoch 11/50\n",
      "234/234 [==============================] - 38s 162ms/step - loss: 0.2490 - accuracy: 0.9196 - val_loss: 0.1098 - val_accuracy: 0.9716 - lr: 0.0010\n",
      "Epoch 12/50\n",
      "234/234 [==============================] - 47s 200ms/step - loss: 0.2351 - accuracy: 0.9249 - val_loss: 0.1010 - val_accuracy: 0.9735 - lr: 0.0010\n",
      "Epoch 13/50\n",
      "234/234 [==============================] - 31s 134ms/step - loss: 0.2438 - accuracy: 0.9224 - val_loss: 0.0833 - val_accuracy: 0.9808 - lr: 0.0010\n",
      "Epoch 14/50\n",
      "234/234 [==============================] - 45s 194ms/step - loss: 0.2121 - accuracy: 0.9310 - val_loss: 0.0812 - val_accuracy: 0.9782 - lr: 0.0010\n",
      "Epoch 15/50\n",
      "234/234 [==============================] - 28s 120ms/step - loss: 0.2453 - accuracy: 0.9210 - val_loss: 0.0928 - val_accuracy: 0.9754 - lr: 0.0010\n",
      "Epoch 16/50\n",
      "234/234 [==============================] - 23s 99ms/step - loss: 0.2180 - accuracy: 0.9305 - val_loss: 0.1088 - val_accuracy: 0.9764 - lr: 0.0010\n",
      "Epoch 17/50\n",
      "234/234 [==============================] - 28s 121ms/step - loss: 0.1991 - accuracy: 0.9375 - val_loss: 0.0942 - val_accuracy: 0.9762 - lr: 0.0010\n",
      "Epoch 18/50\n",
      "234/234 [==============================] - 34s 147ms/step - loss: 0.1833 - accuracy: 0.9434 - val_loss: 0.0853 - val_accuracy: 0.9747 - lr: 0.0010\n",
      "Epoch 19/50\n",
      "234/234 [==============================] - 20s 85ms/step - loss: 0.1758 - accuracy: 0.9444 - val_loss: 0.0878 - val_accuracy: 0.9791 - lr: 0.0010\n",
      "Epoch 20/50\n",
      "234/234 [==============================] - 22s 93ms/step - loss: 0.1787 - accuracy: 0.9438 - val_loss: 0.0825 - val_accuracy: 0.9771 - lr: 1.6573e-05\n",
      "Epoch 21/50\n",
      "234/234 [==============================] - 28s 120ms/step - loss: 0.2055 - accuracy: 0.9366 - val_loss: 0.0804 - val_accuracy: 0.9760 - lr: 1.6573e-05\n",
      "Epoch 22/50\n",
      "234/234 [==============================] - 17s 73ms/step - loss: 0.1993 - accuracy: 0.9395 - val_loss: 0.0828 - val_accuracy: 0.9760 - lr: 1.6573e-05\n",
      "Epoch 23/50\n",
      "234/234 [==============================] - 21s 91ms/step - loss: 0.2228 - accuracy: 0.9290 - val_loss: 0.0583 - val_accuracy: 0.9854 - lr: 1.6573e-05\n",
      "Epoch 24/50\n",
      "234/234 [==============================] - 25s 108ms/step - loss: 0.2101 - accuracy: 0.9359 - val_loss: 0.0784 - val_accuracy: 0.9778 - lr: 1.6573e-05\n",
      "Epoch 25/50\n",
      "234/234 [==============================] - 22s 93ms/step - loss: 0.1933 - accuracy: 0.9355 - val_loss: 0.0827 - val_accuracy: 0.9775 - lr: 1.6573e-05\n",
      "Epoch 26/50\n",
      "234/234 [==============================] - 19s 80ms/step - loss: 0.2717 - accuracy: 0.9124 - val_loss: 0.0789 - val_accuracy: 0.9788 - lr: 1.6573e-05\n",
      "Epoch 27/50\n",
      "234/234 [==============================] - 18s 76ms/step - loss: 0.2155 - accuracy: 0.9301 - val_loss: 0.0772 - val_accuracy: 0.9790 - lr: 1.6573e-05\n",
      "Epoch 28/50\n",
      "234/234 [==============================] - 15s 65ms/step - loss: 0.1811 - accuracy: 0.9421 - val_loss: 0.0608 - val_accuracy: 0.9843 - lr: 1.6573e-05\n",
      "Epoch 29/50\n",
      "234/234 [==============================] - 13s 54ms/step - loss: 0.2066 - accuracy: 0.9347 - val_loss: 0.0760 - val_accuracy: 0.9768 - lr: 2.7465e-07\n",
      "Epoch 30/50\n",
      "234/234 [==============================] - 21s 91ms/step - loss: 0.2008 - accuracy: 0.9336 - val_loss: 0.0828 - val_accuracy: 0.9760 - lr: 2.7465e-07\n",
      "Epoch 31/50\n",
      "234/234 [==============================] - 16s 69ms/step - loss: 0.2060 - accuracy: 0.9350 - val_loss: 0.0739 - val_accuracy: 0.9797 - lr: 2.7465e-07\n",
      "Epoch 32/50\n",
      "234/234 [==============================] - 21s 88ms/step - loss: 0.1750 - accuracy: 0.9439 - val_loss: 0.0531 - val_accuracy: 0.9879 - lr: 2.7465e-07\n",
      "Epoch 33/50\n",
      "234/234 [==============================] - 20s 84ms/step - loss: 0.2033 - accuracy: 0.9377 - val_loss: 0.0857 - val_accuracy: 0.9743 - lr: 2.7465e-07\n",
      "Epoch 34/50\n",
      "234/234 [==============================] - 13s 56ms/step - loss: 0.2181 - accuracy: 0.9322 - val_loss: 0.0797 - val_accuracy: 0.9792 - lr: 2.7465e-07\n",
      "Epoch 35/50\n",
      "234/234 [==============================] - 17s 73ms/step - loss: 0.2258 - accuracy: 0.9259 - val_loss: 0.0770 - val_accuracy: 0.9776 - lr: 2.7465e-07\n",
      "Epoch 36/50\n",
      "234/234 [==============================] - 8s 35ms/step - loss: 0.2099 - accuracy: 0.9321 - val_loss: 0.0582 - val_accuracy: 0.9826 - lr: 2.7465e-07\n",
      "Epoch 37/50\n",
      "234/234 [==============================] - 8s 35ms/step - loss: 0.1961 - accuracy: 0.9343 - val_loss: 0.0752 - val_accuracy: 0.9797 - lr: 2.7465e-07\n",
      "Epoch 38/50\n",
      "234/234 [==============================] - 8s 36ms/step - loss: 0.2115 - accuracy: 0.9337 - val_loss: 0.0704 - val_accuracy: 0.9785 - lr: 1.0000e-07\n",
      "Epoch 39/50\n",
      "234/234 [==============================] - 8s 35ms/step - loss: 0.2119 - accuracy: 0.9303 - val_loss: 0.0768 - val_accuracy: 0.9790 - lr: 1.0000e-07\n",
      "Epoch 40/50\n",
      "234/234 [==============================] - 7s 31ms/step - loss: 0.2235 - accuracy: 0.9275 - val_loss: 0.0805 - val_accuracy: 0.9772 - lr: 1.0000e-07\n",
      "Epoch 41/50\n",
      "234/234 [==============================] - 8s 36ms/step - loss: 0.1945 - accuracy: 0.9396 - val_loss: 0.0831 - val_accuracy: 0.9764 - lr: 1.0000e-07\n",
      "Epoch 42/50\n",
      "234/234 [==============================] - 13s 56ms/step - loss: 0.2024 - accuracy: 0.9367 - val_loss: 0.0805 - val_accuracy: 0.9755 - lr: 1.0000e-07\n",
      "Epoch 43/50\n",
      "234/234 [==============================] - 11s 48ms/step - loss: 0.1653 - accuracy: 0.9486 - val_loss: 0.0697 - val_accuracy: 0.9846 - lr: 1.0000e-07\n",
      "Epoch 44/50\n",
      "234/234 [==============================] - 10s 41ms/step - loss: 0.2341 - accuracy: 0.9232 - val_loss: 0.0775 - val_accuracy: 0.9792 - lr: 1.0000e-07\n",
      "Epoch 45/50\n",
      "234/234 [==============================] - 13s 56ms/step - loss: 0.2005 - accuracy: 0.9370 - val_loss: 0.0799 - val_accuracy: 0.9758 - lr: 1.0000e-07\n",
      "Epoch 46/50\n",
      "234/234 [==============================] - 10s 43ms/step - loss: 0.2304 - accuracy: 0.9222 - val_loss: 0.0832 - val_accuracy: 0.9753 - lr: 1.0000e-07\n",
      "Epoch 47/50\n",
      "234/234 [==============================] - 9s 40ms/step - loss: 0.2171 - accuracy: 0.9316 - val_loss: 0.0733 - val_accuracy: 0.9793 - lr: 1.0000e-07\n",
      "Epoch 48/50\n",
      "234/234 [==============================] - 9s 36ms/step - loss: 0.1955 - accuracy: 0.9344 - val_loss: 0.0795 - val_accuracy: 0.9768 - lr: 1.0000e-07\n",
      "Epoch 49/50\n",
      "234/234 [==============================] - 9s 39ms/step - loss: 0.2023 - accuracy: 0.9361 - val_loss: 0.0817 - val_accuracy: 0.9774 - lr: 1.0000e-07\n",
      "Epoch 50/50\n",
      "234/234 [==============================] - 10s 43ms/step - loss: 0.2143 - accuracy: 0.9289 - val_loss: 0.0765 - val_accuracy: 0.9770 - lr: 1.0000e-07\n"
     ]
    }
   ],
   "source": [
    "hist = model.fit(DataGenerator(DATA_PATH, generate_input, batch_size=8192*2), validation_data=DataGenerator(VALIDATION_PATH, generate_input, batch_size=1024), epochs=50,\n",
    "         callbacks= tf.keras.callbacks.ReduceLROnPlateau(factor=tf.math.exp(-4.1), patience=5, min_lr=0.0000001))"
   ]
  },
  {
   "cell_type": "code",
   "execution_count": 7,
   "id": "e30ddcea",
   "metadata": {},
   "outputs": [
    {
     "data": {
      "text/plain": [
       "<Figure size 1000x500 with 0 Axes>"
      ]
     },
     "metadata": {},
     "output_type": "display_data"
    },
    {
     "data": {
      "image/png": "[encoded data removed]",
      "text/plain": [
       "<Figure size 640x480 with 1 Axes>"
      ]
     },
     "metadata": {},
     "output_type": "display_data"
    }
   ],
   "source": [
    "history_df = pd.DataFrame(hist.history)\n",
    "\n",
    "# Plot the training loss and accuracy\n",
    "plt.figure(figsize=(10, 5))\n",
    "history_df[['loss', 'accuracy']].plot()\n",
    "plt.title('Training Loss and Accuracy')\n",
    "plt.xlabel('Epoch')\n",
    "plt.ylabel('Value')\n",
    "plt.legend(loc='upper right')\n",
    "plt.show()"
   ]
  },
  {
   "cell_type": "markdown",
   "id": "46378423",
   "metadata": {},
   "source": [
    "# Evaluation"
   ]
  },
  {
   "cell_type": "code",
   "execution_count": 9,
   "id": "dae34cc3",
   "metadata": {
    "scrolled": true
   },
   "outputs": [
    {
     "name": "stdout",
     "output_type": "stream",
     "text": [
      "44878/44878 [==============================] - 54s 1ms/step\n"
     ]
    },
    {
     "data": {
      "text/html": [
       "<div>\n",
       "<style scoped>\n",
       "    .dataframe tbody tr th:only-of-type {\n",
       "        vertical-align: middle;\n",
       "    }\n",
       "\n",
       "    .dataframe tbody tr th {\n",
       "        vertical-align: top;\n",
       "    }\n",
       "\n",
       "    .dataframe thead th {\n",
       "        text-align: right;\n",
       "    }\n",
       "</style>\n",
       "<table border=\"1\" class=\"dataframe\">\n",
       "  <thead>\n",
       "    <tr style=\"text-align: right;\">\n",
       "      <th></th>\n",
       "      <th>precision</th>\n",
       "      <th>recall</th>\n",
       "      <th>MCC</th>\n",
       "      <th>F1</th>\n",
       "      <th>accuracy</th>\n",
       "      <th>IoU</th>\n",
       "    </tr>\n",
       "  </thead>\n",
       "  <tbody>\n",
       "    <tr>\n",
       "      <th>0</th>\n",
       "      <td>0.84001</td>\n",
       "      <td>0.779385</td>\n",
       "      <td>0.787741</td>\n",
       "      <td>0.808563</td>\n",
       "      <td>0.961279</td>\n",
       "      <td>0.678645</td>\n",
       "    </tr>\n",
       "  </tbody>\n",
       "</table>\n",
       "</div>"
      ],
      "text/plain": [
       "   precision    recall       MCC        F1  accuracy       IoU\n",
       "0    0.84001  0.779385  0.787741  0.808563  0.961279  0.678645"
      ]
     },
     "execution_count": 9,
     "metadata": {},
     "output_type": "execute_result"
    }
   ],
   "source": [
    "e1 = Evaluation(TEST_PATH, model, generate_input).eval_()\n",
    "e1"
   ]
  },
  {
   "cell_type": "code",
   "execution_count": 14,
   "id": "f1fbe5ee",
   "metadata": {
    "scrolled": false
   },
   "outputs": [
    {
     "name": "stderr",
     "output_type": "stream",
     "text": [
      "WARNING:absl:Found untraced functions such as _update_step_xla while saving (showing 1 of 1). These functions will not be directly callable after loading.\n"
     ]
    },
    {
     "name": "stdout",
     "output_type": "stream",
     "text": [
      "INFO:tensorflow:Assets written to: Model\\PCEDNET\\assets\n"
     ]
    },
    {
     "name": "stderr",
     "output_type": "stream",
     "text": [
      "INFO:tensorflow:Assets written to: Model\\PCEDNET\\assets\n"
     ]
    }
   ],
   "source": [
    "model.save(os.path.join(MODEL_PATH))"
   ]
  },
  {
   "cell_type": "code",
   "execution_count": null,
   "id": "60f20abf",
   "metadata": {},
   "outputs": [],
   "source": []
  }
 ],
 "metadata": {
  "kernelspec": {
   "display_name": "Python 3 (ipykernel)",
   "language": "python",
   "name": "python3"
  },
  "language_info": {
   "codemirror_mode": {
    "name": "ipython",
    "version": 3
   },
   "file_extension": ".py",
   "mimetype": "text/x-python",
   "name": "python",
   "nbconvert_exporter": "python",
   "pygments_lexer": "ipython3",
   "version": "3.10.0"
  }
 },
 "nbformat": 4,
 "nbformat_minor": 5
}
