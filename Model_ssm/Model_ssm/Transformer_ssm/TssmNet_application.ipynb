{
 "cells": [
  {
   "cell_type": "code",
   "execution_count": 8,
   "id": "7115e678",
   "metadata": {},
   "outputs": [],
   "source": [
    "import tensorflow as tf\n",
    "import os\n",
    "import numpy as np\n",
    "from Script.Convert2numpy import convertAndSave\n",
    "from TssmNet import TssmNet, generate_input\n",
    "from Script.Apply_model import apply_model\n",
    "import shutil\n",
    "from tqdm import tqdm"
   ]
  },
  {
   "cell_type": "code",
   "execution_count": 3,
   "id": "7ea53ce3",
   "metadata": {},
   "outputs": [],
   "source": [
    "MODEL_PATH = os.path.join(\"Model\", \"TSSM\")\n",
    "APPLICATION_PATH = \"Application2\"\n",
    "APPLICATION_PATH_F = os.path.join(\"..\",\"Application\")"
   ]
  },
  {
   "cell_type": "code",
   "execution_count": 4,
   "id": "eddcee0c",
   "metadata": {
    "scrolled": true
   },
   "outputs": [
    {
     "name": "stderr",
     "output_type": "stream",
     "text": [
      "100%|██████████| 52/52 [02:27<00:00,  2.83s/it]\n",
      "100%|██████████| 52/52 [00:11<00:00,  4.65it/s]\n"
     ]
    }
   ],
   "source": [
    "if os.path.exists(APPLICATION_PATH):\n",
    "    shutil.rmtree(APPLICATION_PATH)\n",
    "    os.mkdir(APPLICATION_PATH)\n",
    "convertAndSave(APPLICATION_PATH_F, APPLICATION_PATH, \".ssm\")\n",
    "convertAndSave(APPLICATION_PATH_F, APPLICATION_PATH, \".ply\")"
   ]
  },
  {
   "cell_type": "code",
   "execution_count": 9,
   "id": "89b13472",
   "metadata": {},
   "outputs": [
    {
     "name": "stderr",
     "output_type": "stream",
     "text": [
      "104it [00:00, 1052.34it/s]\n"
     ]
    }
   ],
   "source": [
    "with os.scandir(APPLICATION_PATH_F) as entries:\n",
    "    for entry in tqdm(entries):\n",
    "        if entry.name.endswith(\".ply\"):\n",
    "            shutil.copy(os.path.join(APPLICATION_PATH_F, entry.name), APPLICATION_PATH)"
   ]
  },
  {
   "cell_type": "code",
   "execution_count": 10,
   "id": "16728eac",
   "metadata": {},
   "outputs": [],
   "source": [
    "model = tf.keras.models.load_model(MODEL_PATH)"
   ]
  },
  {
   "cell_type": "code",
   "execution_count": 11,
   "id": "d38f32b5",
   "metadata": {
    "scrolled": true
   },
   "outputs": [
    {
     "name": "stdout",
     "output_type": "stream",
     "text": [
      "356/356 [==============================] - 1s 3ms/step\n",
      "616/616 [==============================] - 2s 3ms/step\n",
      "200/200 [==============================] - 1s 3ms/step\n",
      "4240/4240 [==============================] - 12s 3ms/step\n",
      "6119/6119 [==============================] - 18s 3ms/step\n",
      "830/830 [==============================] - 2s 3ms/step\n",
      "432/432 [==============================] - 1s 3ms/step\n",
      "841/841 [==============================] - 3s 3ms/step\n",
      "155/155 [==============================] - 0s 3ms/step\n",
      "368/368 [==============================] - 1s 3ms/step\n",
      "762/762 [==============================] - 2s 3ms/step\n",
      "485/485 [==============================] - 1s 3ms/step\n",
      "774/774 [==============================] - 2s 3ms/step\n",
      "472/472 [==============================] - 1s 3ms/step\n",
      "1058/1058 [==============================] - 3s 3ms/step\n",
      "116/116 [==============================] - 0s 3ms/step\n",
      "1156/1156 [==============================] - 4s 3ms/step\n",
      "1806/1806 [==============================] - 5s 3ms/step\n",
      "523/523 [==============================] - 2s 3ms/step\n",
      "664/664 [==============================] - 2s 3ms/step\n",
      "1122/1122 [==============================] - 3s 3ms/step\n",
      "3002/3002 [==============================] - 8s 3ms/step\n",
      "706/706 [==============================] - 2s 3ms/step\n",
      "79/79 [==============================] - 0s 3ms/step\n",
      "11700/11700 [==============================] - 33s 3ms/step\n",
      "584/584 [==============================] - 2s 3ms/step\n",
      "5049/5049 [==============================] - 15s 3ms/step\n",
      "425/425 [==============================] - 1s 3ms/step\n",
      "410/410 [==============================] - 1s 3ms/step\n",
      "633/633 [==============================] - 2s 3ms/step\n",
      "662/662 [==============================] - 2s 3ms/step\n",
      "41/41 [==============================] - 0s 3ms/step\n",
      "448/448 [==============================] - 1s 3ms/step\n",
      "364/364 [==============================] - 1s 3ms/step\n",
      "318/318 [==============================] - 1s 3ms/step\n",
      "632/632 [==============================] - 2s 3ms/step\n",
      "376/376 [==============================] - 1s 3ms/step\n",
      "545/545 [==============================] - 2s 3ms/step\n",
      "856/856 [==============================] - 2s 3ms/step\n",
      "273/273 [==============================] - 1s 3ms/step\n",
      "933/933 [==============================] - 3s 3ms/step\n",
      "4758/4758 [==============================] - 13s 3ms/step\n",
      "91/91 [==============================] - 0s 3ms/step\n",
      "590/590 [==============================] - 2s 3ms/step\n",
      "489/489 [==============================] - 1s 3ms/step\n",
      "1885/1885 [==============================] - 6s 3ms/step\n",
      "785/785 [==============================] - 2s 3ms/step\n",
      "372/372 [==============================] - 1s 3ms/step\n",
      "889/889 [==============================] - 3s 3ms/step\n",
      "416/416 [==============================] - 1s 3ms/step\n",
      "968/968 [==============================] - 3s 3ms/step\n",
      "490/490 [==============================] - 1s 3ms/step\n"
     ]
    }
   ],
   "source": [
    "apply_model(APPLICATION_PATH, model, generate_input, shuffle=False)"
   ]
  },
  {
   "cell_type": "code",
   "execution_count": null,
   "id": "238622ca",
   "metadata": {},
   "outputs": [],
   "source": []
  }
 ],
 "metadata": {
  "kernelspec": {
   "display_name": "Python 3 (ipykernel)",
   "language": "python",
   "name": "python3"
  },
  "language_info": {
   "codemirror_mode": {
    "name": "ipython",
    "version": 3
   },
   "file_extension": ".py",
   "mimetype": "text/x-python",
   "name": "python",
   "nbconvert_exporter": "python",
   "pygments_lexer": "ipython3",
   "version": "3.10.0"
  }
 },
 "nbformat": 4,
 "nbformat_minor": 5
}
